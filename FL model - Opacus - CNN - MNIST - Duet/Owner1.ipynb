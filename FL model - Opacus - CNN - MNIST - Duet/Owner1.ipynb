{
 "cells": [
  {
   "cell_type": "code",
   "execution_count": 1,
   "metadata": {},
   "outputs": [],
   "source": [
    "import syft as sy\n",
    "import time\n",
    "import numpy as np\n",
    "import pandas as pd\n",
    "from opacus import PrivacyEngine\n",
    "from opacus.utils.uniform_sampler import UniformWithReplacementSampler\n",
    "import torch\n",
    "import torch.nn as nn\n",
    "import torch.nn.functional as F\n",
    "import torch.optim as optim\n",
    "from torchvision import datasets, transforms\n",
    "from torch.optim.lr_scheduler import StepLR\n",
    "from collections import OrderedDict"
   ]
  },
  {
   "cell_type": "code",
   "execution_count": 2,
   "metadata": {},
   "outputs": [],
   "source": [
    "class Classifier(nn.Module):\n",
    "    def __init__(self):\n",
    "        super(Classifier, self).__init__()\n",
    "        self.conv1 = nn.Conv2d(1, 16, 8, 2, padding=3)\n",
    "        self.conv2 = nn.Conv2d(16, 32, 4, 2)\n",
    "        self.fc1 = nn.Linear(32 * 4 * 4, 32)\n",
    "        self.fc2 = nn.Linear(32, 10)\n",
    "        \n",
    "    def forward(self, x):\n",
    "        # make sure input tensor is flattened\n",
    "        x = F.relu(self.conv1(x))  # -> [B, 16, 14, 14]\n",
    "        x = F.max_pool2d(x, 2, 1)  # -> [B, 16, 13, 13]\n",
    "        x = F.relu(self.conv2(x))  # -> [B, 32, 5, 5]\n",
    "        x = F.max_pool2d(x, 2, 1)  # -> [B, 32, 4, 4]\n",
    "        x = x.view(-1, 32 * 4 * 4)  # -> [B, 512]\n",
    "        x = F.relu(self.fc1(x))  # -> [B, 32]\n",
    "        x = self.fc2(x)  # -> [B, 10]\n",
    "        return x"
   ]
  },
  {
   "cell_type": "code",
   "execution_count": 3,
   "metadata": {},
   "outputs": [],
   "source": [
    "def train(model, device, train_loader, optimizer, epoch):\n",
    "    model.train()\n",
    "    criterion = nn.CrossEntropyLoss()\n",
    "    losses = []\n",
    "    for _batch_idx, (data, target) in enumerate(train_loader):\n",
    "        data, target = data.to(device), target.to(device)\n",
    "        optimizer.zero_grad()\n",
    "        output = model(data)\n",
    "        loss = criterion(output, target)\n",
    "        loss.backward()\n",
    "        optimizer.step()\n",
    "        losses.append(loss.item())\n",
    "\n",
    "        epsilon, best_alpha = optimizer.privacy_engine.get_privacy_spent(1e-5)\n",
    "        print(\n",
    "            f\"Train Epoch: {epoch} \\t\"\n",
    "            f\"Loss: {np.mean(losses):.6f} \"\n",
    "            f\"(ε = {epsilon:.2f}, δ = 1e-5) for α = {best_alpha}\"\n",
    "        )"
   ]
  },
  {
   "cell_type": "code",
   "execution_count": 4,
   "metadata": {},
   "outputs": [],
   "source": [
    "def test(model, device, test_loader):\n",
    "    model.eval()\n",
    "    criterion = nn.CrossEntropyLoss()\n",
    "    test_loss = 0\n",
    "    correct = 0\n",
    "    with torch.no_grad():\n",
    "        for data, target in (test_loader):\n",
    "            data, target = data.to(device), target.to(device)\n",
    "            output = model(data)\n",
    "            test_loss += criterion(output, target).item()  # sum up batch loss\n",
    "            pred = output.argmax(\n",
    "                dim=1, keepdim=True\n",
    "            )  # get the index of the max log-probability\n",
    "            correct += pred.eq(target.view_as(pred)).sum().item()\n",
    "\n",
    "    test_loss /= len(test_loader.dataset)\n",
    "\n",
    "    print(\n",
    "        \"\\nTest set: Average loss: {:.4f}, Accuracy: {}/{} ({:.2f}%)\\n\".format(\n",
    "            test_loss,\n",
    "            correct,\n",
    "            len(test_loader.dataset),\n",
    "            100.0 * correct / len(test_loader.dataset),\n",
    "        )\n",
    "    )\n",
    "    return test_loss, correct / len(test_loader.dataset)"
   ]
  },
  {
   "cell_type": "code",
   "execution_count": 5,
   "metadata": {},
   "outputs": [],
   "source": [
    "class MnistDataset(torch.utils.data.Dataset):\n",
    "    def __init__(self, data_path):\n",
    "        # data loading\n",
    "        df = pd.read_csv(data_path, dtype=np.float64)\n",
    "        self.x = torch.from_numpy(df.iloc[:,1:].values)\n",
    "        \n",
    "        self.x = self.x.reshape(self.x.size(0),1,28,28)\n",
    "        self.x = self.x.float() # why float?\n",
    "        \n",
    "        self.y = torch.from_numpy(df.iloc[:,0].values) \n",
    "        self.y = self.y.long() # why long?\n",
    "        \n",
    "        self.n_samples = df.shape[0]\n",
    "        \n",
    "    def __len__(self):\n",
    "        return self.n_samples\n",
    "    \n",
    "    def __getitem__(self, index):\n",
    "        return self.x[index], self.y[index]"
   ]
  },
  {
   "cell_type": "code",
   "execution_count": 6,
   "metadata": {},
   "outputs": [],
   "source": [
    "start = time.time()\n",
    "\n",
    "train_dataset = MnistDataset(\"C:/Users/dells/dataset/.client_1_train_data.csv\")\n",
    "train_loader = torch.utils.data.DataLoader(\n",
    "        train_dataset,\n",
    "        batch_sampler=UniformWithReplacementSampler(\n",
    "            num_samples=len(train_dataset),\n",
    "            sample_rate=0.004,\n",
    "        ),\n",
    "    )\n",
    "\n",
    "test_dataset = MnistDataset(\"C:/Users/dells/dataset/.client_1_test_data.csv\")\n",
    "test_loader = torch.utils.data.DataLoader(dataset=test_dataset, batch_size=64,shuffle=True)\n",
    "\n",
    "global_test = MnistDataset(\"C:/Users/dells/dataset/mnist_test.csv\")\n",
    "global_test_loader = torch.utils.data.DataLoader(dataset=global_test, batch_size=64,shuffle=True)\n",
    "\n",
    "end = time.time()"
   ]
  },
  {
   "cell_type": "code",
   "execution_count": 7,
   "metadata": {},
   "outputs": [
    {
     "name": "stdout",
     "output_type": "stream",
     "text": [
      "Take dataset time: 3.8077592849731445 seconds\n"
     ]
    }
   ],
   "source": [
    "print(f\"Take dataset time: {float(end - start)} seconds\")  "
   ]
  },
  {
   "cell_type": "code",
   "execution_count": 8,
   "metadata": {},
   "outputs": [],
   "source": [
    "start = time.time()\n",
    "\n",
    "use_cuda = not False and torch.cuda.is_available()\n",
    "device = torch.device(\"cuda\" if use_cuda else \"cpu\")\n",
    "device\n",
    "\n",
    "end = time.time()"
   ]
  },
  {
   "cell_type": "code",
   "execution_count": 9,
   "metadata": {},
   "outputs": [
    {
     "name": "stdout",
     "output_type": "stream",
     "text": [
      "Check device time: 0.2507305145263672 seconds\n"
     ]
    }
   ],
   "source": [
    "print(f\"Check device time: {float(end - start)} seconds\")  "
   ]
  },
  {
   "cell_type": "code",
   "execution_count": 10,
   "metadata": {},
   "outputs": [],
   "source": [
    "start = time.time()\n",
    "\n",
    "model = Classifier().to(device)\n",
    "\n",
    "end = time.time()"
   ]
  },
  {
   "cell_type": "code",
   "execution_count": 11,
   "metadata": {},
   "outputs": [
    {
     "name": "stdout",
     "output_type": "stream",
     "text": [
      "Create model time: 5.198504209518433 seconds\n"
     ]
    }
   ],
   "source": [
    "print(f\"Create model time: {float(end - start)} seconds\")"
   ]
  },
  {
   "cell_type": "code",
   "execution_count": 12,
   "metadata": {},
   "outputs": [
    {
     "name": "stderr",
     "output_type": "stream",
     "text": [
      "C:\\Users\\dells\\anaconda3\\lib\\site-packages\\opacus\\privacy_engine.py:645: UserWarning: A ``sample_rate`` has been provided.Thus, the provided ``batch_size``and ``sample_size`` will be ignored.\n",
      "  warnings.warn(\n",
      "C:\\Users\\dells\\anaconda3\\lib\\site-packages\\opacus\\privacy_engine.py:229: UserWarning: Secure RNG turned off. This is perfectly fine for experimentation as it allows for much faster training performance, but remember to turn it on and retrain one last time before production with ``secure_rng`` turned on.\n",
      "  warnings.warn(\n"
     ]
    }
   ],
   "source": [
    "start = time.time()\n",
    "optimizerLR = optim.SGD(model.parameters(), lr=0.01, momentum=0)\n",
    "model.train()\n",
    "privacy_engine = PrivacyEngine(\n",
    "                model,\n",
    "                sample_rate=0.004,\n",
    "                alphas=[1 + x / 10.0 for x in range(1, 100)] + list(range(12, 64)),\n",
    "                noise_multiplier=1.0,\n",
    "                max_grad_norm=1.0,\n",
    "            )\n",
    "privacy_engine.attach(optimizerLR)\n",
    "end = time.time()"
   ]
  },
  {
   "cell_type": "code",
   "execution_count": 13,
   "metadata": {},
   "outputs": [
    {
     "name": "stdout",
     "output_type": "stream",
     "text": [
      "Attach DP module into optimizer: 0.00599980354309082 seconds\n"
     ]
    }
   ],
   "source": [
    "print(f\"Attach DP module into optimizer: {float(end - start)} seconds\")"
   ]
  },
  {
   "cell_type": "code",
   "execution_count": 340,
   "metadata": {
    "scrolled": true
   },
   "outputs": [
    {
     "name": "stderr",
     "output_type": "stream",
     "text": [
      "C:\\Users\\dells\\anaconda3\\lib\\site-packages\\torch\\nn\\modules\\module.py:795: UserWarning: Using a non-full backward hook when the forward contains multiple autograd Nodes is deprecated and will be removed in future versions. This hook will be missing some grad_input. Please use register_full_backward_hook to get the documented behavior.\n",
      "  warnings.warn(\"Using a non-full backward hook when the forward contains multiple autograd Nodes \"\n"
     ]
    }
   ],
   "source": [
    "start = time.time()\n",
    "\n",
    "for epoch in range(1, 11):\n",
    "    train(model, device, train_loader, optimizerLR, epoch)\n",
    "    test(model, device, test_loader)\n",
    "    \n",
    "end = time.time()"
   ]
  },
  {
   "cell_type": "code",
   "execution_count": 341,
   "metadata": {
    "scrolled": true
   },
   "outputs": [
    {
     "name": "stdout",
     "output_type": "stream",
     "text": [
      "Training time: 123.29391264915466 seconds\n"
     ]
    }
   ],
   "source": [
    "print(f\"Training time: {float(end - start)} seconds\")  "
   ]
  },
  {
   "cell_type": "code",
   "execution_count": 342,
   "metadata": {
    "scrolled": true
   },
   "outputs": [],
   "source": [
    "start = time.time()\n",
    "\n",
    "torch.save(model.state_dict(), \"mnist_ann1.pt\")\n",
    "\n",
    "end = time.time()"
   ]
  },
  {
   "cell_type": "code",
   "execution_count": 343,
   "metadata": {},
   "outputs": [
    {
     "name": "stdout",
     "output_type": "stream",
     "text": [
      "Saving time: 0.0033423900604248047 seconds\n"
     ]
    }
   ],
   "source": [
    "print(f\"Saving time: {float(end - start)} seconds\")  "
   ]
  },
  {
   "cell_type": "code",
   "execution_count": 344,
   "metadata": {},
   "outputs": [],
   "source": [
    "start = time.time()\n",
    "\n",
    "load_model = torch.load('mnist_ann1.pt')\n",
    "\n",
    "end = time.time()"
   ]
  },
  {
   "cell_type": "code",
   "execution_count": 345,
   "metadata": {},
   "outputs": [
    {
     "name": "stdout",
     "output_type": "stream",
     "text": [
      "Load params time: 0.012264013290405273 seconds\n"
     ]
    }
   ],
   "source": [
    "print(f\"Load params time: {float(end - start)} seconds\")"
   ]
  },
  {
   "cell_type": "code",
   "execution_count": 346,
   "metadata": {},
   "outputs": [],
   "source": [
    "start = time.time()\n",
    "\n",
    "conv1_weight = load_model[\"conv1.weight\"].tolist()\n",
    "conv1_bias = load_model[\"conv1.bias\"].tolist()\n",
    "\n",
    "conv2_weight = load_model[\"conv2.weight\"].tolist()\n",
    "conv2_bias = load_model[\"conv2.bias\"].tolist()\n",
    "\n",
    "fc1_weight = load_model[\"fc1.weight\"].tolist()\n",
    "fc1_bias = load_model[\"fc1.bias\"].tolist()\n",
    "\n",
    "fc2_weight = load_model[\"fc2.weight\"].tolist()\n",
    "fc2_bias = load_model[\"fc2.bias\"].tolist()\n",
    "\n",
    "end = time.time()"
   ]
  },
  {
   "cell_type": "code",
   "execution_count": 347,
   "metadata": {},
   "outputs": [
    {
     "name": "stdout",
     "output_type": "stream",
     "text": [
      "Take w+b time: 0.007004976272583008 seconds\n"
     ]
    }
   ],
   "source": [
    "print(f\"Take w+b time: {float(end - start)} seconds\")"
   ]
  },
  {
   "cell_type": "markdown",
   "metadata": {},
   "source": [
    "### Establish connection"
   ]
  },
  {
   "cell_type": "code",
   "execution_count": 352,
   "metadata": {
    "scrolled": true
   },
   "outputs": [
    {
     "data": {
      "image/png": "[encoded data removed]",
      "text/plain": [
       "<IPython.core.display.Image object>"
      ]
     },
     "metadata": {
      "image/png": {
       "unconfined": true,
       "width": 400
      }
     },
     "output_type": "display_data"
    }
   ],
   "source": [
    "duet = sy.launch_duet(loopback=True)"
   ]
  },
  {
   "cell_type": "code",
   "execution_count": 353,
   "metadata": {},
   "outputs": [],
   "source": [
    "start = time.time()\n",
    "\n",
    "conv1_weight_ptr = sy.lib.python.List(conv1_weight).send(duet, pointable=True, tags=[\"conv1_weight\"])\n",
    "conv1_bias_ptr = sy.lib.python.List(conv1_bias).send(duet, pointable=True, tags=[\"conv1_bias\"])\n",
    "conv2_weight_ptr = sy.lib.python.List(conv2_weight).send(duet, pointable=True, tags=[\"conv2_weight\"])\n",
    "conv2_bias_ptr = sy.lib.python.List(conv2_bias).send(duet, pointable=True, tags=[\"conv2_bias\"])\n",
    "fc1_weight_ptr = sy.lib.python.List(fc1_weight).send(duet, pointable=True, tags=[\"fc1_weight\"])\n",
    "fc1_bias_ptr = sy.lib.python.List(fc1_bias).send(duet, pointable=True, tags=[\"fc1_bias\"])\n",
    "fc2_weight_ptr = sy.lib.python.List(fc2_weight).send(duet, pointable=True, tags=[\"fc2_weight\"])\n",
    "fc2_bias_ptr = sy.lib.python.List(fc2_bias).send(duet, pointable=True, tags=[\"fc2_bias\"])\n",
    "\n",
    "end = time.time()"
   ]
  },
  {
   "cell_type": "code",
   "execution_count": 354,
   "metadata": {},
   "outputs": [
    {
     "name": "stdout",
     "output_type": "stream",
     "text": [
      "Send params time: 4.975216865539551 seconds\n"
     ]
    }
   ],
   "source": [
    "print(f\"Send params time: {float(end - start)} seconds\")"
   ]
  },
  {
   "cell_type": "code",
   "execution_count": 355,
   "metadata": {},
   "outputs": [
    {
     "data": {
      "text/html": [
       "<div>\n",
       "<style scoped>\n",
       "    .dataframe tbody tr th:only-of-type {\n",
       "        vertical-align: middle;\n",
       "    }\n",
       "\n",
       "    .dataframe tbody tr th {\n",
       "        vertical-align: top;\n",
       "    }\n",
       "\n",
       "    .dataframe thead th {\n",
       "        text-align: right;\n",
       "    }\n",
       "</style>\n",
       "<table border=\"1\" class=\"dataframe\">\n",
       "  <thead>\n",
       "    <tr style=\"text-align: right;\">\n",
       "      <th></th>\n",
       "      <th>ID</th>\n",
       "      <th>Tags</th>\n",
       "      <th>Description</th>\n",
       "      <th>object_type</th>\n",
       "    </tr>\n",
       "  </thead>\n",
       "  <tbody>\n",
       "    <tr>\n",
       "      <th>0</th>\n",
       "      <td>&lt;UID: 883883fbd8314ca0a6924779bd37b915&gt;</td>\n",
       "      <td>[conv1_weight]</td>\n",
       "      <td></td>\n",
       "      <td>&lt;class 'syft.lib.python.list.List'&gt;</td>\n",
       "    </tr>\n",
       "    <tr>\n",
       "      <th>1</th>\n",
       "      <td>&lt;UID: 8edbc4ee11f24d35860844fcf65711ee&gt;</td>\n",
       "      <td>[conv1_bias]</td>\n",
       "      <td></td>\n",
       "      <td>&lt;class 'syft.lib.python.list.List'&gt;</td>\n",
       "    </tr>\n",
       "    <tr>\n",
       "      <th>2</th>\n",
       "      <td>&lt;UID: 6e2213ba0a5e44bf8f027d6f3106b2a9&gt;</td>\n",
       "      <td>[conv2_weight]</td>\n",
       "      <td></td>\n",
       "      <td>&lt;class 'syft.lib.python.list.List'&gt;</td>\n",
       "    </tr>\n",
       "    <tr>\n",
       "      <th>3</th>\n",
       "      <td>&lt;UID: 9cfc112b7b0d417692b7f41b7f1ae034&gt;</td>\n",
       "      <td>[conv2_bias]</td>\n",
       "      <td></td>\n",
       "      <td>&lt;class 'syft.lib.python.list.List'&gt;</td>\n",
       "    </tr>\n",
       "    <tr>\n",
       "      <th>4</th>\n",
       "      <td>&lt;UID: 3a4611d827ad4b9b82bd0894693942a0&gt;</td>\n",
       "      <td>[fc1_weight]</td>\n",
       "      <td></td>\n",
       "      <td>&lt;class 'syft.lib.python.list.List'&gt;</td>\n",
       "    </tr>\n",
       "    <tr>\n",
       "      <th>5</th>\n",
       "      <td>&lt;UID: 06bcae753e944ca1a4ad00f3554b2960&gt;</td>\n",
       "      <td>[fc1_bias]</td>\n",
       "      <td></td>\n",
       "      <td>&lt;class 'syft.lib.python.list.List'&gt;</td>\n",
       "    </tr>\n",
       "    <tr>\n",
       "      <th>6</th>\n",
       "      <td>&lt;UID: 815698d736e74e3f96b83f5d136085a8&gt;</td>\n",
       "      <td>[fc2_weight]</td>\n",
       "      <td></td>\n",
       "      <td>&lt;class 'syft.lib.python.list.List'&gt;</td>\n",
       "    </tr>\n",
       "    <tr>\n",
       "      <th>7</th>\n",
       "      <td>&lt;UID: 076e6c16dd174d1b9a34e9defefa5270&gt;</td>\n",
       "      <td>[fc2_bias]</td>\n",
       "      <td></td>\n",
       "      <td>&lt;class 'syft.lib.python.list.List'&gt;</td>\n",
       "    </tr>\n",
       "  </tbody>\n",
       "</table>\n",
       "</div>"
      ],
      "text/plain": [
       "                                        ID            Tags Description  \\\n",
       "0  <UID: 883883fbd8314ca0a6924779bd37b915>  [conv1_weight]               \n",
       "1  <UID: 8edbc4ee11f24d35860844fcf65711ee>    [conv1_bias]               \n",
       "2  <UID: 6e2213ba0a5e44bf8f027d6f3106b2a9>  [conv2_weight]               \n",
       "3  <UID: 9cfc112b7b0d417692b7f41b7f1ae034>    [conv2_bias]               \n",
       "4  <UID: 3a4611d827ad4b9b82bd0894693942a0>    [fc1_weight]               \n",
       "5  <UID: 06bcae753e944ca1a4ad00f3554b2960>      [fc1_bias]               \n",
       "6  <UID: 815698d736e74e3f96b83f5d136085a8>    [fc2_weight]               \n",
       "7  <UID: 076e6c16dd174d1b9a34e9defefa5270>      [fc2_bias]               \n",
       "\n",
       "                           object_type  \n",
       "0  <class 'syft.lib.python.list.List'>  \n",
       "1  <class 'syft.lib.python.list.List'>  \n",
       "2  <class 'syft.lib.python.list.List'>  \n",
       "3  <class 'syft.lib.python.list.List'>  \n",
       "4  <class 'syft.lib.python.list.List'>  \n",
       "5  <class 'syft.lib.python.list.List'>  \n",
       "6  <class 'syft.lib.python.list.List'>  \n",
       "7  <class 'syft.lib.python.list.List'>  "
      ]
     },
     "execution_count": 355,
     "metadata": {},
     "output_type": "execute_result"
    }
   ],
   "source": [
    "duet.store.pandas"
   ]
  },
  {
   "cell_type": "markdown",
   "metadata": {},
   "source": [
    "### Checkpoint 0"
   ]
  },
  {
   "cell_type": "code",
   "execution_count": 356,
   "metadata": {
    "scrolled": false
   },
   "outputs": [
    {
     "data": {
      "text/html": [
       "<div>\n",
       "<style scoped>\n",
       "    .dataframe tbody tr th:only-of-type {\n",
       "        vertical-align: middle;\n",
       "    }\n",
       "\n",
       "    .dataframe tbody tr th {\n",
       "        vertical-align: top;\n",
       "    }\n",
       "\n",
       "    .dataframe thead th {\n",
       "        text-align: right;\n",
       "    }\n",
       "</style>\n",
       "<table border=\"1\" class=\"dataframe\">\n",
       "  <thead>\n",
       "    <tr style=\"text-align: right;\">\n",
       "      <th></th>\n",
       "      <th>Requested Object's tags</th>\n",
       "      <th>Reason</th>\n",
       "      <th>Request ID</th>\n",
       "      <th>Requested Object's ID</th>\n",
       "      <th>Requested Object's type</th>\n",
       "    </tr>\n",
       "  </thead>\n",
       "  <tbody>\n",
       "    <tr>\n",
       "      <th>0</th>\n",
       "      <td>[conv1_weight]</td>\n",
       "      <td>I would like to get the conv1 weight</td>\n",
       "      <td>&lt;UID: 137a5a3ba9de48879f564dad02812cec&gt;</td>\n",
       "      <td>&lt;UID: 883883fbd8314ca0a6924779bd37b915&gt;</td>\n",
       "      <td>&lt;class 'syft.lib.python.list.List'&gt;</td>\n",
       "    </tr>\n",
       "    <tr>\n",
       "      <th>1</th>\n",
       "      <td>[conv1_bias]</td>\n",
       "      <td>I would like to get the conv1 bias</td>\n",
       "      <td>&lt;UID: 6c66bbe0bb864152a0ec1deb5eb241c1&gt;</td>\n",
       "      <td>&lt;UID: 8edbc4ee11f24d35860844fcf65711ee&gt;</td>\n",
       "      <td>&lt;class 'syft.lib.python.list.List'&gt;</td>\n",
       "    </tr>\n",
       "    <tr>\n",
       "      <th>2</th>\n",
       "      <td>[conv2_weight]</td>\n",
       "      <td>I would like to get the conv2 weight</td>\n",
       "      <td>&lt;UID: 16d73b217caa44eb95de96cd666fb9ce&gt;</td>\n",
       "      <td>&lt;UID: 6e2213ba0a5e44bf8f027d6f3106b2a9&gt;</td>\n",
       "      <td>&lt;class 'syft.lib.python.list.List'&gt;</td>\n",
       "    </tr>\n",
       "    <tr>\n",
       "      <th>3</th>\n",
       "      <td>[conv2_bias]</td>\n",
       "      <td>I would like to get the conv2 bias</td>\n",
       "      <td>&lt;UID: cfc16f61b4ad416a944ebea99969f4b3&gt;</td>\n",
       "      <td>&lt;UID: 9cfc112b7b0d417692b7f41b7f1ae034&gt;</td>\n",
       "      <td>&lt;class 'syft.lib.python.list.List'&gt;</td>\n",
       "    </tr>\n",
       "    <tr>\n",
       "      <th>4</th>\n",
       "      <td>[fc1_weight]</td>\n",
       "      <td>I would like to get the fc1 weight</td>\n",
       "      <td>&lt;UID: 9af98a78d46641e7943a378e09ba1068&gt;</td>\n",
       "      <td>&lt;UID: 3a4611d827ad4b9b82bd0894693942a0&gt;</td>\n",
       "      <td>&lt;class 'syft.lib.python.list.List'&gt;</td>\n",
       "    </tr>\n",
       "    <tr>\n",
       "      <th>5</th>\n",
       "      <td>[fc1_bias]</td>\n",
       "      <td>I would like to get the fc1 bias</td>\n",
       "      <td>&lt;UID: a24e7075b21042218815b382165f5256&gt;</td>\n",
       "      <td>&lt;UID: 06bcae753e944ca1a4ad00f3554b2960&gt;</td>\n",
       "      <td>&lt;class 'syft.lib.python.list.List'&gt;</td>\n",
       "    </tr>\n",
       "    <tr>\n",
       "      <th>6</th>\n",
       "      <td>[fc2_weight]</td>\n",
       "      <td>I would like to get the fc2 weight</td>\n",
       "      <td>&lt;UID: 844587bcb0d449ce8751addbda5b9283&gt;</td>\n",
       "      <td>&lt;UID: 815698d736e74e3f96b83f5d136085a8&gt;</td>\n",
       "      <td>&lt;class 'syft.lib.python.list.List'&gt;</td>\n",
       "    </tr>\n",
       "    <tr>\n",
       "      <th>7</th>\n",
       "      <td>[fc2_bias]</td>\n",
       "      <td>I would like to get the fc2 bias</td>\n",
       "      <td>&lt;UID: a218edcf70bc49458abfab82b5f46111&gt;</td>\n",
       "      <td>&lt;UID: 076e6c16dd174d1b9a34e9defefa5270&gt;</td>\n",
       "      <td>&lt;class 'syft.lib.python.list.List'&gt;</td>\n",
       "    </tr>\n",
       "  </tbody>\n",
       "</table>\n",
       "</div>"
      ],
      "text/plain": [
       "  Requested Object's tags                                Reason  \\\n",
       "0          [conv1_weight]  I would like to get the conv1 weight   \n",
       "1            [conv1_bias]    I would like to get the conv1 bias   \n",
       "2          [conv2_weight]  I would like to get the conv2 weight   \n",
       "3            [conv2_bias]    I would like to get the conv2 bias   \n",
       "4            [fc1_weight]    I would like to get the fc1 weight   \n",
       "5              [fc1_bias]      I would like to get the fc1 bias   \n",
       "6            [fc2_weight]    I would like to get the fc2 weight   \n",
       "7              [fc2_bias]      I would like to get the fc2 bias   \n",
       "\n",
       "                                Request ID  \\\n",
       "0  <UID: 137a5a3ba9de48879f564dad02812cec>   \n",
       "1  <UID: 6c66bbe0bb864152a0ec1deb5eb241c1>   \n",
       "2  <UID: 16d73b217caa44eb95de96cd666fb9ce>   \n",
       "3  <UID: cfc16f61b4ad416a944ebea99969f4b3>   \n",
       "4  <UID: 9af98a78d46641e7943a378e09ba1068>   \n",
       "5  <UID: a24e7075b21042218815b382165f5256>   \n",
       "6  <UID: 844587bcb0d449ce8751addbda5b9283>   \n",
       "7  <UID: a218edcf70bc49458abfab82b5f46111>   \n",
       "\n",
       "                     Requested Object's ID  \\\n",
       "0  <UID: 883883fbd8314ca0a6924779bd37b915>   \n",
       "1  <UID: 8edbc4ee11f24d35860844fcf65711ee>   \n",
       "2  <UID: 6e2213ba0a5e44bf8f027d6f3106b2a9>   \n",
       "3  <UID: 9cfc112b7b0d417692b7f41b7f1ae034>   \n",
       "4  <UID: 3a4611d827ad4b9b82bd0894693942a0>   \n",
       "5  <UID: 06bcae753e944ca1a4ad00f3554b2960>   \n",
       "6  <UID: 815698d736e74e3f96b83f5d136085a8>   \n",
       "7  <UID: 076e6c16dd174d1b9a34e9defefa5270>   \n",
       "\n",
       "               Requested Object's type  \n",
       "0  <class 'syft.lib.python.list.List'>  \n",
       "1  <class 'syft.lib.python.list.List'>  \n",
       "2  <class 'syft.lib.python.list.List'>  \n",
       "3  <class 'syft.lib.python.list.List'>  \n",
       "4  <class 'syft.lib.python.list.List'>  \n",
       "5  <class 'syft.lib.python.list.List'>  \n",
       "6  <class 'syft.lib.python.list.List'>  \n",
       "7  <class 'syft.lib.python.list.List'>  "
      ]
     },
     "execution_count": 356,
     "metadata": {},
     "output_type": "execute_result"
    }
   ],
   "source": [
    "duet.requests.pandas"
   ]
  },
  {
   "cell_type": "code",
   "execution_count": 357,
   "metadata": {},
   "outputs": [],
   "source": [
    "duet.requests[0].accept()\n",
    "duet.requests[0].accept()\n",
    "duet.requests[0].accept()\n",
    "duet.requests[0].accept()\n",
    "duet.requests[0].accept()\n",
    "duet.requests[0].accept()\n",
    "duet.requests[0].accept()\n",
    "duet.requests[0].accept()"
   ]
  },
  {
   "cell_type": "markdown",
   "metadata": {},
   "source": [
    "### Checkpoint 1"
   ]
  },
  {
   "cell_type": "code",
   "execution_count": 358,
   "metadata": {
    "scrolled": true
   },
   "outputs": [
    {
     "data": {
      "text/html": [
       "<div>\n",
       "<style scoped>\n",
       "    .dataframe tbody tr th:only-of-type {\n",
       "        vertical-align: middle;\n",
       "    }\n",
       "\n",
       "    .dataframe tbody tr th {\n",
       "        vertical-align: top;\n",
       "    }\n",
       "\n",
       "    .dataframe thead th {\n",
       "        text-align: right;\n",
       "    }\n",
       "</style>\n",
       "<table border=\"1\" class=\"dataframe\">\n",
       "  <thead>\n",
       "    <tr style=\"text-align: right;\">\n",
       "      <th></th>\n",
       "      <th>ID</th>\n",
       "      <th>Tags</th>\n",
       "      <th>Description</th>\n",
       "      <th>object_type</th>\n",
       "    </tr>\n",
       "  </thead>\n",
       "  <tbody>\n",
       "    <tr>\n",
       "      <th>0</th>\n",
       "      <td>&lt;UID: cf3555e0a8e74b539ac50b9ff7360a51&gt;</td>\n",
       "      <td>[global_conv1_weight]</td>\n",
       "      <td></td>\n",
       "      <td>&lt;class 'syft.lib.python.list.List'&gt;</td>\n",
       "    </tr>\n",
       "    <tr>\n",
       "      <th>1</th>\n",
       "      <td>&lt;UID: 74b2efa9bcb14588b8c720debfade240&gt;</td>\n",
       "      <td>[global_conv1_bias]</td>\n",
       "      <td></td>\n",
       "      <td>&lt;class 'syft.lib.python.list.List'&gt;</td>\n",
       "    </tr>\n",
       "    <tr>\n",
       "      <th>2</th>\n",
       "      <td>&lt;UID: 80c0c3228a434651a604532568f89f23&gt;</td>\n",
       "      <td>[global_conv2_weight]</td>\n",
       "      <td></td>\n",
       "      <td>&lt;class 'syft.lib.python.list.List'&gt;</td>\n",
       "    </tr>\n",
       "    <tr>\n",
       "      <th>3</th>\n",
       "      <td>&lt;UID: 5460b19723634fbcb76600b5067fe390&gt;</td>\n",
       "      <td>[global_conv2_bias]</td>\n",
       "      <td></td>\n",
       "      <td>&lt;class 'syft.lib.python.list.List'&gt;</td>\n",
       "    </tr>\n",
       "    <tr>\n",
       "      <th>4</th>\n",
       "      <td>&lt;UID: 0d0a16526a864718860fd2f76d5508a5&gt;</td>\n",
       "      <td>[global_fc1_weight]</td>\n",
       "      <td></td>\n",
       "      <td>&lt;class 'syft.lib.python.list.List'&gt;</td>\n",
       "    </tr>\n",
       "    <tr>\n",
       "      <th>5</th>\n",
       "      <td>&lt;UID: 1a1887e7225a40099dce4236a450e7f4&gt;</td>\n",
       "      <td>[global_fc1_bias]</td>\n",
       "      <td></td>\n",
       "      <td>&lt;class 'syft.lib.python.list.List'&gt;</td>\n",
       "    </tr>\n",
       "    <tr>\n",
       "      <th>6</th>\n",
       "      <td>&lt;UID: 726590e2cd444185b767637257ddef9b&gt;</td>\n",
       "      <td>[global_fc2_weight]</td>\n",
       "      <td></td>\n",
       "      <td>&lt;class 'syft.lib.python.list.List'&gt;</td>\n",
       "    </tr>\n",
       "    <tr>\n",
       "      <th>7</th>\n",
       "      <td>&lt;UID: fab2cd69a0f74ee98c94553654738f75&gt;</td>\n",
       "      <td>[global_fc2_bias]</td>\n",
       "      <td></td>\n",
       "      <td>&lt;class 'syft.lib.python.list.List'&gt;</td>\n",
       "    </tr>\n",
       "  </tbody>\n",
       "</table>\n",
       "</div>"
      ],
      "text/plain": [
       "                                        ID                   Tags Description  \\\n",
       "0  <UID: cf3555e0a8e74b539ac50b9ff7360a51>  [global_conv1_weight]               \n",
       "1  <UID: 74b2efa9bcb14588b8c720debfade240>    [global_conv1_bias]               \n",
       "2  <UID: 80c0c3228a434651a604532568f89f23>  [global_conv2_weight]               \n",
       "3  <UID: 5460b19723634fbcb76600b5067fe390>    [global_conv2_bias]               \n",
       "4  <UID: 0d0a16526a864718860fd2f76d5508a5>    [global_fc1_weight]               \n",
       "5  <UID: 1a1887e7225a40099dce4236a450e7f4>      [global_fc1_bias]               \n",
       "6  <UID: 726590e2cd444185b767637257ddef9b>    [global_fc2_weight]               \n",
       "7  <UID: fab2cd69a0f74ee98c94553654738f75>      [global_fc2_bias]               \n",
       "\n",
       "                           object_type  \n",
       "0  <class 'syft.lib.python.list.List'>  \n",
       "1  <class 'syft.lib.python.list.List'>  \n",
       "2  <class 'syft.lib.python.list.List'>  \n",
       "3  <class 'syft.lib.python.list.List'>  \n",
       "4  <class 'syft.lib.python.list.List'>  \n",
       "5  <class 'syft.lib.python.list.List'>  \n",
       "6  <class 'syft.lib.python.list.List'>  \n",
       "7  <class 'syft.lib.python.list.List'>  "
      ]
     },
     "execution_count": 358,
     "metadata": {},
     "output_type": "execute_result"
    }
   ],
   "source": [
    "duet.store.pandas"
   ]
  },
  {
   "cell_type": "code",
   "execution_count": 359,
   "metadata": {},
   "outputs": [],
   "source": [
    "start = time.time()\n",
    "\n",
    "updated_conv1_weight = duet.store[\"global_conv1_weight\"].get()\n",
    "updated_conv1_bias = duet.store[\"global_conv1_bias\"].get()\n",
    "updated_conv2_weight = duet.store[\"global_conv2_weight\"].get()\n",
    "updated_conv2_bias = duet.store[\"global_conv2_bias\"].get()\n",
    "updated_fc1_weight = duet.store[\"global_fc1_weight\"].get()\n",
    "updated_fc1_bias = duet.store[\"global_fc1_bias\"].get()\n",
    "updated_fc2_weight = duet.store[\"global_fc2_weight\"].get()\n",
    "updated_fc2_bias = duet.store[\"global_fc2_bias\"].get()\n",
    "\n",
    "end = time.time()"
   ]
  },
  {
   "cell_type": "code",
   "execution_count": 360,
   "metadata": {},
   "outputs": [
    {
     "name": "stdout",
     "output_type": "stream",
     "text": [
      "Get time: 7.341887950897217 seconds\n"
     ]
    }
   ],
   "source": [
    "print(f\"Get time: {float(end - start)} seconds\")"
   ]
  },
  {
   "cell_type": "code",
   "execution_count": 361,
   "metadata": {},
   "outputs": [],
   "source": [
    "start = time.time()\n",
    "\n",
    "avg_updates = OrderedDict()\n",
    "avg_updates[\"conv1.weight\"] = torch.Tensor(updated_conv1_weight)\n",
    "avg_updates[\"conv1.bias\"] = torch.Tensor(updated_conv1_bias)\n",
    "avg_updates[\"conv2.weight\"] = torch.Tensor(updated_conv2_weight)\n",
    "avg_updates[\"conv2.bias\"] = torch.Tensor(updated_conv2_bias)\n",
    "avg_updates[\"fc1.weight\"] = torch.Tensor(updated_fc1_weight)\n",
    "avg_updates[\"fc1.bias\"] = torch.Tensor(updated_fc1_bias)\n",
    "avg_updates[\"fc2.weight\"] = torch.Tensor(updated_fc2_weight)\n",
    "avg_updates[\"fc2.bias\"] = torch.Tensor(updated_fc2_bias)\n",
    "\n",
    "end = time.time()"
   ]
  },
  {
   "cell_type": "code",
   "execution_count": 362,
   "metadata": {},
   "outputs": [
    {
     "name": "stdout",
     "output_type": "stream",
     "text": [
      "Create params time: 1.277759075164795 seconds\n"
     ]
    }
   ],
   "source": [
    "print(f\"Create params time: {float(end - start)} seconds\")"
   ]
  },
  {
   "cell_type": "code",
   "execution_count": 363,
   "metadata": {},
   "outputs": [],
   "source": [
    "start = time.time()\n",
    "\n",
    "model.load_state_dict(avg_updates)\n",
    "\n",
    "end = time.time()"
   ]
  },
  {
   "cell_type": "code",
   "execution_count": 364,
   "metadata": {},
   "outputs": [],
   "source": [
    "print(f\"Load model time: {float(end - start)} seconds\")"
   ]
  },
  {
   "cell_type": "code",
   "execution_count": 37,
   "metadata": {
    "scrolled": true
   },
   "outputs": [
    {
     "name": "stdout",
     "output_type": "stream",
     "text": [
      "\n",
      "Test set: Average loss: 0.0678, Accuracy: 1108/10000 (11.08%)\n",
      "\n"
     ]
    },
    {
     "data": {
      "text/plain": [
       "(0.06775185844898224, 0.1108)"
      ]
     },
     "execution_count": 37,
     "metadata": {},
     "output_type": "execute_result"
    }
   ],
   "source": [
    "l1, test1 =test(model, device, global_test_loader)\n",
    "l1, test1"
   ]
  },
  {
   "cell_type": "code",
   "execution_count": 63,
   "metadata": {},
   "outputs": [
    {
     "name": "stdout",
     "output_type": "stream",
     "text": [
      "\r"
     ]
    },
    {
     "data": {
      "text/plain": [
       "(0.0067995513923466205, 0.8972)"
      ]
     },
     "execution_count": 63,
     "metadata": {},
     "output_type": "execute_result"
    }
   ],
   "source": [
    "l2, test2 =test(model, device, global_test_loader)\n",
    "l2, test2"
   ]
  },
  {
   "cell_type": "code",
   "execution_count": 85,
   "metadata": {},
   "outputs": [
    {
     "data": {
      "text/plain": [
       "(0.0057579697800800205, 0.9263)"
      ]
     },
     "execution_count": 85,
     "metadata": {},
     "output_type": "execute_result"
    },
    {
     "name": "stderr",
     "output_type": "stream",
     "text": [
      "Exception in callback Transaction.__retry()\n",
      "handle: <TimerHandle when=3231.625 Transaction.__retry()>\n",
      "Traceback (most recent call last):\n",
      "  File \"C:\\Users\\dells\\anaconda3\\lib\\asyncio\\events.py\", line 81, in _run\n",
      "    self._context.run(self._callback, *self._args)\n",
      "  File \"C:\\Users\\dells\\anaconda3\\lib\\site-packages\\aioice\\stun.py\", line 306, in __retry\n",
      "    self.__future.set_exception(TransactionTimeout())\n",
      "  File \"C:\\Users\\dells\\anaconda3\\lib\\asyncio\\futures.py\", line 246, in set_exception\n",
      "    raise exceptions.InvalidStateError(f'{self._state}: {self!r}')\n",
      "asyncio.exceptions.InvalidStateError: FINISHED: <Future finished result=(Message(messa...*\\xe3\\xcaO\\t'), ('192.168.2.1', 54350))>\n"
     ]
    }
   ],
   "source": [
    "l3, test3 =test(model, device, global_test_loader)\n",
    "l3, test3"
   ]
  },
  {
   "cell_type": "code",
   "execution_count": 111,
   "metadata": {},
   "outputs": [
    {
     "data": {
      "text/plain": [
       "(0.005155868857167662, 0.9395)"
      ]
     },
     "execution_count": 111,
     "metadata": {},
     "output_type": "execute_result"
    },
    {
     "name": "stderr",
     "output_type": "stream",
     "text": [
      "Exception in callback Transaction.__retry()\n",
      "handle: <TimerHandle when=3849.687 Transaction.__retry()>\n",
      "Traceback (most recent call last):\n",
      "  File \"C:\\Users\\dells\\anaconda3\\lib\\asyncio\\events.py\", line 81, in _run\n",
      "    self._context.run(self._callback, *self._args)\n",
      "  File \"C:\\Users\\dells\\anaconda3\\lib\\site-packages\\aioice\\stun.py\", line 306, in __retry\n",
      "    self.__future.set_exception(TransactionTimeout())\n",
      "  File \"C:\\Users\\dells\\anaconda3\\lib\\asyncio\\futures.py\", line 246, in set_exception\n",
      "    raise exceptions.InvalidStateError(f'{self._state}: {self!r}')\n",
      "asyncio.exceptions.InvalidStateError: FINISHED: <Future finished result=(Message(messa...x17\\x9c3\\xe7'), ('192.168.2.1', 50209))>\n"
     ]
    }
   ],
   "source": [
    "l4 ,test4 =test(model, device, global_test_loader)\n",
    "l4 ,test4"
   ]
  },
  {
   "cell_type": "code",
   "execution_count": 133,
   "metadata": {},
   "outputs": [
    {
     "data": {
      "text/plain": [
       "(0.004727325099520385, 0.9457)"
      ]
     },
     "execution_count": 133,
     "metadata": {},
     "output_type": "execute_result"
    }
   ],
   "source": [
    "l5 ,test5 =test(model, device, global_test_loader)\n",
    "l5 ,test5"
   ]
  },
  {
   "cell_type": "code",
   "execution_count": 155,
   "metadata": {},
   "outputs": [
    {
     "data": {
      "text/plain": [
       "(0.004405974704748951, 0.9506)"
      ]
     },
     "execution_count": 155,
     "metadata": {},
     "output_type": "execute_result"
    },
    {
     "name": "stderr",
     "output_type": "stream",
     "text": [
      "Exception in callback Transaction.__retry()\n",
      "handle: <TimerHandle when=4789.25 Transaction.__retry()>\n",
      "Traceback (most recent call last):\n",
      "  File \"C:\\Users\\dells\\anaconda3\\lib\\asyncio\\events.py\", line 81, in _run\n",
      "    self._context.run(self._callback, *self._args)\n",
      "  File \"C:\\Users\\dells\\anaconda3\\lib\\site-packages\\aioice\\stun.py\", line 306, in __retry\n",
      "    self.__future.set_exception(TransactionTimeout())\n",
      "  File \"C:\\Users\\dells\\anaconda3\\lib\\asyncio\\futures.py\", line 246, in set_exception\n",
      "    raise exceptions.InvalidStateError(f'{self._state}: {self!r}')\n",
      "asyncio.exceptions.InvalidStateError: FINISHED: <Future finished result=(Message(messa...xa8\"\\x1a\\x0f'), ('192.168.2.1', 64490))>\n"
     ]
    }
   ],
   "source": [
    "l6 ,test6 =test(model, device, global_test_loader)\n",
    "l6 ,test6"
   ]
  },
  {
   "cell_type": "code",
   "execution_count": 177,
   "metadata": {},
   "outputs": [
    {
     "data": {
      "text/plain": [
       "(0.004064303783443756, 0.9549)"
      ]
     },
     "execution_count": 177,
     "metadata": {},
     "output_type": "execute_result"
    }
   ],
   "source": [
    "l7 ,test7 =test(model, device, global_test_loader)\n",
    "l7 ,test7"
   ]
  },
  {
   "cell_type": "code",
   "execution_count": 207,
   "metadata": {},
   "outputs": [
    {
     "data": {
      "text/plain": [
       "(0.0038982562967692504, 0.9566)"
      ]
     },
     "execution_count": 207,
     "metadata": {},
     "output_type": "execute_result"
    }
   ],
   "source": [
    "l8 ,test8 =test(model, device, global_test_loader)\n",
    "l8 ,test8"
   ]
  },
  {
   "cell_type": "code",
   "execution_count": 229,
   "metadata": {},
   "outputs": [
    {
     "name": "stdout",
     "output_type": "stream",
     "text": [
      "♫♫♫ > DUET LIVE STATUS  -  Objects: 0  Requests: 0   Messages: 77  Request Handlers: 0                                "
     ]
    },
    {
     "data": {
      "text/plain": [
       "(0.0038573820145917123, 0.9577)"
      ]
     },
     "execution_count": 229,
     "metadata": {},
     "output_type": "execute_result"
    }
   ],
   "source": [
    "l9 ,test9 =test(model, device, global_test_loader)\n",
    "l9 ,test9"
   ]
  },
  {
   "cell_type": "code",
   "execution_count": 251,
   "metadata": {},
   "outputs": [
    {
     "name": "stdout",
     "output_type": "stream",
     "text": [
      "♫♫♫ > DUET LIVE STATUS  *  Objects: 0  Requests: 0   Messages: 78  Request Handlers: 0                                "
     ]
    },
    {
     "data": {
      "text/plain": [
       "(0.003677843551361002, 0.9609)"
      ]
     },
     "execution_count": 251,
     "metadata": {},
     "output_type": "execute_result"
    }
   ],
   "source": [
    "l10 ,test10 =test(model, device, global_test_loader)\n",
    "l10 ,test10"
   ]
  },
  {
   "cell_type": "code",
   "execution_count": 273,
   "metadata": {},
   "outputs": [
    {
     "data": {
      "text/plain": [
       "(0.0035038088591070847, 0.9646)"
      ]
     },
     "execution_count": 273,
     "metadata": {},
     "output_type": "execute_result"
    },
    {
     "name": "stderr",
     "output_type": "stream",
     "text": [
      "Exception in callback Transaction.__retry()\n",
      "handle: <TimerHandle when=7231.562 Transaction.__retry()>\n",
      "Traceback (most recent call last):\n",
      "  File \"C:\\Users\\dells\\anaconda3\\lib\\asyncio\\events.py\", line 81, in _run\n",
      "    self._context.run(self._callback, *self._args)\n",
      "  File \"C:\\Users\\dells\\anaconda3\\lib\\site-packages\\aioice\\stun.py\", line 306, in __retry\n",
      "    self.__future.set_exception(TransactionTimeout())\n",
      "  File \"C:\\Users\\dells\\anaconda3\\lib\\asyncio\\futures.py\", line 246, in set_exception\n",
      "    raise exceptions.InvalidStateError(f'{self._state}: {self!r}')\n",
      "asyncio.exceptions.InvalidStateError: FINISHED: <Future finished result=(Message(messa...x84\\xe1\\xb3,'), ('192.168.2.1', 54033))>\n"
     ]
    }
   ],
   "source": [
    "l11 ,test11 =test(model, device, global_test_loader)\n",
    "l11 ,test11"
   ]
  },
  {
   "cell_type": "code",
   "execution_count": 295,
   "metadata": {},
   "outputs": [
    {
     "name": "stdout",
     "output_type": "stream",
     "text": [
      "\r"
     ]
    },
    {
     "data": {
      "text/plain": [
       "(0.003423455767147243, 0.9647)"
      ]
     },
     "execution_count": 295,
     "metadata": {},
     "output_type": "execute_result"
    },
    {
     "name": "stderr",
     "output_type": "stream",
     "text": [
      "Exception in callback Transaction.__retry()\n",
      "handle: <TimerHandle when=7737.421 Transaction.__retry()>\n",
      "Traceback (most recent call last):\n",
      "  File \"C:\\Users\\dells\\anaconda3\\lib\\asyncio\\events.py\", line 81, in _run\n",
      "    self._context.run(self._callback, *self._args)\n",
      "  File \"C:\\Users\\dells\\anaconda3\\lib\\site-packages\\aioice\\stun.py\", line 306, in __retry\n",
      "    self.__future.set_exception(TransactionTimeout())\n",
      "  File \"C:\\Users\\dells\\anaconda3\\lib\\asyncio\\futures.py\", line 246, in set_exception\n",
      "    raise exceptions.InvalidStateError(f'{self._state}: {self!r}')\n",
      "asyncio.exceptions.InvalidStateError: FINISHED: <Future finished result=(Message(messa...\\xaa\\x16\\xb0'), ('192.168.2.1', 63658))>\n"
     ]
    }
   ],
   "source": [
    "l12 ,test12 =test(model, device, global_test_loader)\n",
    "l12 ,test12"
   ]
  },
  {
   "cell_type": "code",
   "execution_count": 317,
   "metadata": {},
   "outputs": [
    {
     "data": {
      "text/plain": [
       "(0.0033451404131238293, 0.9654)"
      ]
     },
     "execution_count": 317,
     "metadata": {},
     "output_type": "execute_result"
    }
   ],
   "source": [
    "l13 ,test13 =test(model, device, global_test_loader)\n",
    "l13 ,test13"
   ]
  },
  {
   "cell_type": "code",
   "execution_count": 339,
   "metadata": {},
   "outputs": [
    {
     "data": {
      "text/plain": [
       "(0.0033226429660952817, 0.966)"
      ]
     },
     "execution_count": 339,
     "metadata": {},
     "output_type": "execute_result"
    }
   ],
   "source": [
    "l14 ,test14 =test(model, device, global_test_loader)\n",
    "l14 ,test14"
   ]
  },
  {
   "cell_type": "code",
   "execution_count": 365,
   "metadata": {},
   "outputs": [
    {
     "data": {
      "text/plain": [
       "(0.0032557061222396443, 0.9659)"
      ]
     },
     "execution_count": 365,
     "metadata": {},
     "output_type": "execute_result"
    },
    {
     "name": "stderr",
     "output_type": "stream",
     "text": [
      "Exception in callback Transaction.__retry()\n",
      "handle: <TimerHandle when=9544.218 Transaction.__retry()>\n",
      "Traceback (most recent call last):\n",
      "  File \"C:\\Users\\dells\\anaconda3\\lib\\asyncio\\events.py\", line 81, in _run\n",
      "    self._context.run(self._callback, *self._args)\n",
      "  File \"C:\\Users\\dells\\anaconda3\\lib\\site-packages\\aioice\\stun.py\", line 306, in __retry\n",
      "    self.__future.set_exception(TransactionTimeout())\n",
      "  File \"C:\\Users\\dells\\anaconda3\\lib\\asyncio\\futures.py\", line 246, in set_exception\n",
      "    raise exceptions.InvalidStateError(f'{self._state}: {self!r}')\n",
      "asyncio.exceptions.InvalidStateError: FINISHED: <Future finished result=(Message(messa...x14\\x12T\\xb8'), ('192.168.2.1', 57677))>\n"
     ]
    }
   ],
   "source": [
    "l15 ,test15 =test(model, device, global_test_loader)\n",
    "l15 ,test15"
   ]
  }
 ],
 "metadata": {
  "kernelspec": {
   "display_name": "Python 3",
   "language": "python",
   "name": "python3"
  },
  "language_info": {
   "codemirror_mode": {
    "name": "ipython",
    "version": 3
   },
   "file_extension": ".py",
   "mimetype": "text/x-python",
   "name": "python",
   "nbconvert_exporter": "python",
   "pygments_lexer": "ipython3",
   "version": "3.8.5"
  }
 },
 "nbformat": 4,
 "nbformat_minor": 4
}
