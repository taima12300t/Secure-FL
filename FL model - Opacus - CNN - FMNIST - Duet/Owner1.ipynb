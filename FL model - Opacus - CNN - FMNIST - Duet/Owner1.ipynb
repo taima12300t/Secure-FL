{
 "cells": [
  {
   "cell_type": "code",
   "execution_count": 1,
   "metadata": {},
   "outputs": [],
   "source": [
    "import syft as sy\n",
    "import time\n",
    "import numpy as np\n",
    "import pandas as pd\n",
    "from opacus import PrivacyEngine\n",
    "from opacus.utils.uniform_sampler import UniformWithReplacementSampler\n",
    "import torch\n",
    "import torch.nn as nn\n",
    "import torch.nn.functional as F\n",
    "import torch.optim as optim\n",
    "from torchvision import datasets, transforms\n",
    "from torch.optim.lr_scheduler import StepLR\n",
    "from collections import OrderedDict"
   ]
  },
  {
   "cell_type": "markdown",
   "metadata": {},
   "source": [
    "### Establish connection"
   ]
  },
  {
   "cell_type": "code",
   "execution_count": 2,
   "metadata": {},
   "outputs": [],
   "source": [
    "class Classifier(nn.Module):\n",
    "    def __init__(self):\n",
    "        super(Classifier, self).__init__()\n",
    "        self.conv1 = nn.Conv2d(1, 16, 8, 2, padding=3)\n",
    "        self.conv2 = nn.Conv2d(16, 32, 4, 2)\n",
    "        self.fc1 = nn.Linear(32 * 4 * 4, 32)\n",
    "        self.fc2 = nn.Linear(32, 10)\n",
    "        \n",
    "    def forward(self, x):\n",
    "        # make sure input tensor is flattened\n",
    "        x = F.relu(self.conv1(x))  # -> [B, 16, 14, 14]\n",
    "        x = F.max_pool2d(x, 2, 1)  # -> [B, 16, 13, 13]\n",
    "        x = F.relu(self.conv2(x))  # -> [B, 32, 5, 5]\n",
    "        x = F.max_pool2d(x, 2, 1)  # -> [B, 32, 4, 4]\n",
    "        x = x.view(-1, 32 * 4 * 4)  # -> [B, 512]\n",
    "        x = F.relu(self.fc1(x))  # -> [B, 32]\n",
    "        x = self.fc2(x)  # -> [B, 10]\n",
    "        return x"
   ]
  },
  {
   "cell_type": "code",
   "execution_count": 3,
   "metadata": {},
   "outputs": [],
   "source": [
    "def train(model, device, train_loader, optimizer, epoch):\n",
    "    model.train()\n",
    "    criterion = nn.CrossEntropyLoss()\n",
    "    losses = []\n",
    "    for _batch_idx, (data, target) in enumerate(train_loader):\n",
    "        data, target = data.to(device), target.to(device)\n",
    "        optimizer.zero_grad()\n",
    "        output = model(data)\n",
    "        loss = criterion(output, target)\n",
    "        loss.backward()\n",
    "        optimizer.step()\n",
    "        losses.append(loss.item())\n",
    "\n",
    "        epsilon, best_alpha = optimizer.privacy_engine.get_privacy_spent(1e-5)\n",
    "        print(\n",
    "            f\"Train Epoch: {epoch} \\t\"\n",
    "            f\"Loss: {np.mean(losses):.6f} \"\n",
    "            f\"(ε = {epsilon:.2f}, δ = 1e-5) for α = {best_alpha}\"\n",
    "        )"
   ]
  },
  {
   "cell_type": "code",
   "execution_count": 4,
   "metadata": {},
   "outputs": [],
   "source": [
    "def test(model, device, test_loader):\n",
    "    model.eval()\n",
    "    criterion = nn.CrossEntropyLoss()\n",
    "    test_loss = 0\n",
    "    correct = 0\n",
    "    with torch.no_grad():\n",
    "        for data, target in (test_loader):\n",
    "            data, target = data.to(device), target.to(device)\n",
    "            output = model(data)\n",
    "            test_loss += criterion(output, target).item()  # sum up batch loss\n",
    "            pred = output.argmax(\n",
    "                dim=1, keepdim=True\n",
    "            )  # get the index of the max log-probability\n",
    "            correct += pred.eq(target.view_as(pred)).sum().item()\n",
    "\n",
    "    test_loss /= len(test_loader.dataset)\n",
    "\n",
    "    print(\n",
    "        \"\\nTest set: Average loss: {:.4f}, Accuracy: {}/{} ({:.2f}%)\\n\".format(\n",
    "            test_loss,\n",
    "            correct,\n",
    "            len(test_loader.dataset),\n",
    "            100.0 * correct / len(test_loader.dataset),\n",
    "        )\n",
    "    )\n",
    "    return test_loss, correct / len(test_loader.dataset)"
   ]
  },
  {
   "cell_type": "code",
   "execution_count": 5,
   "metadata": {},
   "outputs": [],
   "source": [
    "class MnistDataset(torch.utils.data.Dataset):\n",
    "    def __init__(self, data_path):\n",
    "        # data loading\n",
    "        df = pd.read_csv(data_path, dtype=np.float64)\n",
    "        self.x = torch.from_numpy(df.iloc[:,1:].values)\n",
    "        \n",
    "        self.x = self.x.reshape(self.x.size(0),1,28,28)\n",
    "        self.x = self.x.float() # why float?\n",
    "        \n",
    "        self.y = torch.from_numpy(df.iloc[:,0].values) \n",
    "        self.y = self.y.long() # why long?\n",
    "        \n",
    "        self.n_samples = df.shape[0]\n",
    "        \n",
    "    def __len__(self):\n",
    "        return self.n_samples\n",
    "    \n",
    "    def __getitem__(self, index):\n",
    "        return self.x[index], self.y[index]"
   ]
  },
  {
   "cell_type": "code",
   "execution_count": 6,
   "metadata": {},
   "outputs": [],
   "source": [
    "start = time.time()\n",
    "\n",
    "train_dataset = MnistDataset(\"C:/Users/dells/FMNIST/dataset/.client_1_train_data.csv\")\n",
    "train_loader = torch.utils.data.DataLoader(\n",
    "        train_dataset,\n",
    "        batch_sampler=UniformWithReplacementSampler(\n",
    "            num_samples=len(train_dataset),\n",
    "            sample_rate=0.004,\n",
    "        ),\n",
    "    )\n",
    "\n",
    "test_dataset = MnistDataset(\"C:/Users/dells/FMNIST/dataset/.client_1_test_data.csv\")\n",
    "test_loader = torch.utils.data.DataLoader(dataset=test_dataset, batch_size=64,shuffle=True)\n",
    "\n",
    "global_test = MnistDataset(\"C:/Users/dells/FMNIST/dataset/fashion-mnist_test.csv\")\n",
    "global_test_loader = torch.utils.data.DataLoader(dataset=global_test, batch_size=64,shuffle=True)\n",
    "\n",
    "end = time.time()"
   ]
  },
  {
   "cell_type": "code",
   "execution_count": 7,
   "metadata": {},
   "outputs": [
    {
     "name": "stdout",
     "output_type": "stream",
     "text": [
      "Take dataset time: 4.550827741622925 seconds\n"
     ]
    }
   ],
   "source": [
    "print(f\"Take dataset time: {float(end - start)} seconds\")  "
   ]
  },
  {
   "cell_type": "code",
   "execution_count": 8,
   "metadata": {},
   "outputs": [],
   "source": [
    "start = time.time()\n",
    "\n",
    "use_cuda = not False and torch.cuda.is_available()\n",
    "device = torch.device(\"cuda\" if use_cuda else \"cpu\")\n",
    "device\n",
    "\n",
    "end = time.time()"
   ]
  },
  {
   "cell_type": "code",
   "execution_count": 9,
   "metadata": {},
   "outputs": [
    {
     "name": "stdout",
     "output_type": "stream",
     "text": [
      "Check device time: 0.23599457740783691 seconds\n"
     ]
    }
   ],
   "source": [
    "print(f\"Check device time: {float(end - start)} seconds\")  "
   ]
  },
  {
   "cell_type": "code",
   "execution_count": 10,
   "metadata": {},
   "outputs": [],
   "source": [
    "start = time.time()\n",
    "\n",
    "model = Classifier().to(device)\n",
    "\n",
    "end = time.time()"
   ]
  },
  {
   "cell_type": "code",
   "execution_count": 11,
   "metadata": {},
   "outputs": [
    {
     "name": "stdout",
     "output_type": "stream",
     "text": [
      "Create model time: 1.965998888015747 seconds\n"
     ]
    }
   ],
   "source": [
    "print(f\"Create model time: {float(end - start)} seconds\")"
   ]
  },
  {
   "cell_type": "code",
   "execution_count": 12,
   "metadata": {},
   "outputs": [
    {
     "name": "stderr",
     "output_type": "stream",
     "text": [
      "C:\\Users\\dells\\anaconda3\\lib\\site-packages\\opacus\\privacy_engine.py:645: UserWarning: A ``sample_rate`` has been provided.Thus, the provided ``batch_size``and ``sample_size`` will be ignored.\n",
      "  warnings.warn(\n",
      "C:\\Users\\dells\\anaconda3\\lib\\site-packages\\opacus\\privacy_engine.py:229: UserWarning: Secure RNG turned off. This is perfectly fine for experimentation as it allows for much faster training performance, but remember to turn it on and retrain one last time before production with ``secure_rng`` turned on.\n",
      "  warnings.warn(\n"
     ]
    }
   ],
   "source": [
    "start = time.time()\n",
    "optimizerLR = optim.SGD(model.parameters(), lr=0.01, momentum=0)\n",
    "model.train()\n",
    "privacy_engine = PrivacyEngine(\n",
    "                model,\n",
    "                sample_rate=0.004,\n",
    "                alphas=[1 + x / 10.0 for x in range(1, 100)] + list(range(12, 64)),\n",
    "                noise_multiplier=1.0,\n",
    "                max_grad_norm=1.0,\n",
    "            )\n",
    "privacy_engine.attach(optimizerLR)\n",
    "end = time.time()"
   ]
  },
  {
   "cell_type": "code",
   "execution_count": 13,
   "metadata": {},
   "outputs": [
    {
     "name": "stdout",
     "output_type": "stream",
     "text": [
      "Attach DP module into optimizer: 0.0029981136322021484 seconds\n"
     ]
    }
   ],
   "source": [
    "print(f\"Attach DP module into optimizer: {float(end - start)} seconds\")"
   ]
  },
  {
   "cell_type": "code",
   "execution_count": 218,
   "metadata": {
    "scrolled": true
   },
   "outputs": [
    {
     "name": "stderr",
     "output_type": "stream",
     "text": [
      "C:\\Users\\dells\\anaconda3\\lib\\site-packages\\torch\\nn\\modules\\module.py:795: UserWarning: Using a non-full backward hook when the forward contains multiple autograd Nodes is deprecated and will be removed in future versions. This hook will be missing some grad_input. Please use register_full_backward_hook to get the documented behavior.\n",
      "  warnings.warn(\"Using a non-full backward hook when the forward contains multiple autograd Nodes \"\n"
     ]
    }
   ],
   "source": [
    "start = time.time()\n",
    "\n",
    "for epoch in range(1, 11):\n",
    "    train(model, device, train_loader, optimizerLR, epoch)\n",
    "    test(model, device, test_loader)\n",
    "    \n",
    "end = time.time()"
   ]
  },
  {
   "cell_type": "code",
   "execution_count": 219,
   "metadata": {
    "scrolled": true
   },
   "outputs": [
    {
     "name": "stdout",
     "output_type": "stream",
     "text": [
      "Training time: 124.64678382873535 seconds\n"
     ]
    }
   ],
   "source": [
    "print(f\"Training time: {float(end - start)} seconds\")  "
   ]
  },
  {
   "cell_type": "code",
   "execution_count": 220,
   "metadata": {
    "scrolled": true
   },
   "outputs": [],
   "source": [
    "start = time.time()\n",
    "\n",
    "torch.save(model.state_dict(), \"mnist_ann1.pt\")\n",
    "\n",
    "end = time.time()"
   ]
  },
  {
   "cell_type": "code",
   "execution_count": 221,
   "metadata": {},
   "outputs": [
    {
     "name": "stdout",
     "output_type": "stream",
     "text": [
      "\r"
     ]
    }
   ],
   "source": [
    "print(f\"Saving time: {float(end - start)} seconds\")  "
   ]
  },
  {
   "cell_type": "code",
   "execution_count": 222,
   "metadata": {},
   "outputs": [],
   "source": [
    "start = time.time()\n",
    "\n",
    "load_model = torch.load('mnist_ann1.pt')\n",
    "\n",
    "end = time.time()"
   ]
  },
  {
   "cell_type": "code",
   "execution_count": 223,
   "metadata": {},
   "outputs": [
    {
     "name": "stdout",
     "output_type": "stream",
     "text": [
      "Load params time: 0.017000198364257812 seconds\n"
     ]
    }
   ],
   "source": [
    "print(f\"Load params time: {float(end - start)} seconds\")"
   ]
  },
  {
   "cell_type": "code",
   "execution_count": 224,
   "metadata": {},
   "outputs": [
    {
     "name": "stdout",
     "output_type": "stream",
     "text": []
    }
   ],
   "source": [
    "start = time.time()\n",
    "\n",
    "conv1_weight = load_model[\"conv1.weight\"].tolist()\n",
    "conv1_bias = load_model[\"conv1.bias\"].tolist()\n",
    "\n",
    "conv2_weight = load_model[\"conv2.weight\"].tolist()\n",
    "conv2_bias = load_model[\"conv2.bias\"].tolist()\n",
    "\n",
    "fc1_weight = load_model[\"fc1.weight\"].tolist()\n",
    "fc1_bias = load_model[\"fc1.bias\"].tolist()\n",
    "\n",
    "fc2_weight = load_model[\"fc2.weight\"].tolist()\n",
    "fc2_bias = load_model[\"fc2.bias\"].tolist()\n",
    "\n",
    "end = time.time()"
   ]
  },
  {
   "cell_type": "code",
   "execution_count": 225,
   "metadata": {},
   "outputs": [
    {
     "name": "stdout",
     "output_type": "stream",
     "text": [
      "Take w+b time: 0.005998134613037109 seconds\n"
     ]
    }
   ],
   "source": [
    "print(f\"Take w+b time: {float(end - start)} seconds\")"
   ]
  },
  {
   "cell_type": "markdown",
   "metadata": {},
   "source": [
    "### Checkpoint 0"
   ]
  },
  {
   "cell_type": "code",
   "execution_count": 226,
   "metadata": {
    "scrolled": false
   },
   "outputs": [
    {
     "data": {
      "image/png": "[encoded data removed]",
      "text/plain": [
       "<IPython.core.display.Image object>"
      ]
     },
     "metadata": {
      "image/png": {
       "unconfined": true,
       "width": 400
      }
     },
     "output_type": "display_data"
    },
    {
     "name": "stdout",
     "output_type": "stream",
     "text": [
      "\r"
     ]
    }
   ],
   "source": [
    "duet = sy.launch_duet(loopback=True)"
   ]
  },
  {
   "cell_type": "code",
   "execution_count": 227,
   "metadata": {},
   "outputs": [],
   "source": [
    "start = time.time()\n",
    "\n",
    "conv1_weight_ptr = sy.lib.python.List(conv1_weight).send(duet, pointable=True, tags=[\"conv1_weight\"])\n",
    "conv1_bias_ptr = sy.lib.python.List(conv1_bias).send(duet, pointable=True, tags=[\"conv1_bias\"])\n",
    "conv2_weight_ptr = sy.lib.python.List(conv2_weight).send(duet, pointable=True, tags=[\"conv2_weight\"])\n",
    "conv2_bias_ptr = sy.lib.python.List(conv2_bias).send(duet, pointable=True, tags=[\"conv2_bias\"])\n",
    "fc1_weight_ptr = sy.lib.python.List(fc1_weight).send(duet, pointable=True, tags=[\"fc1_weight\"])\n",
    "fc1_bias_ptr = sy.lib.python.List(fc1_bias).send(duet, pointable=True, tags=[\"fc1_bias\"])\n",
    "fc2_weight_ptr = sy.lib.python.List(fc2_weight).send(duet, pointable=True, tags=[\"fc2_weight\"])\n",
    "fc2_bias_ptr = sy.lib.python.List(fc2_bias).send(duet, pointable=True, tags=[\"fc2_bias\"])\n",
    "\n",
    "end = time.time()"
   ]
  },
  {
   "cell_type": "code",
   "execution_count": 228,
   "metadata": {},
   "outputs": [
    {
     "name": "stdout",
     "output_type": "stream",
     "text": [
      "Send params time: 4.938186407089233 seconds\n"
     ]
    }
   ],
   "source": [
    "print(f\"Send params time: {float(end - start)} seconds\")"
   ]
  },
  {
   "cell_type": "code",
   "execution_count": 229,
   "metadata": {},
   "outputs": [
    {
     "data": {
      "text/html": [
       "<div>\n",
       "<style scoped>\n",
       "    .dataframe tbody tr th:only-of-type {\n",
       "        vertical-align: middle;\n",
       "    }\n",
       "\n",
       "    .dataframe tbody tr th {\n",
       "        vertical-align: top;\n",
       "    }\n",
       "\n",
       "    .dataframe thead th {\n",
       "        text-align: right;\n",
       "    }\n",
       "</style>\n",
       "<table border=\"1\" class=\"dataframe\">\n",
       "  <thead>\n",
       "    <tr style=\"text-align: right;\">\n",
       "      <th></th>\n",
       "      <th>ID</th>\n",
       "      <th>Tags</th>\n",
       "      <th>Description</th>\n",
       "      <th>object_type</th>\n",
       "    </tr>\n",
       "  </thead>\n",
       "  <tbody>\n",
       "    <tr>\n",
       "      <th>0</th>\n",
       "      <td>&lt;UID: a2e7cf7829214d2d863757d5de2693d3&gt;</td>\n",
       "      <td>[conv1_weight]</td>\n",
       "      <td></td>\n",
       "      <td>&lt;class 'syft.lib.python.list.List'&gt;</td>\n",
       "    </tr>\n",
       "    <tr>\n",
       "      <th>1</th>\n",
       "      <td>&lt;UID: ba12964d4d2441b1a744b1104c9cb74c&gt;</td>\n",
       "      <td>[conv1_bias]</td>\n",
       "      <td></td>\n",
       "      <td>&lt;class 'syft.lib.python.list.List'&gt;</td>\n",
       "    </tr>\n",
       "    <tr>\n",
       "      <th>2</th>\n",
       "      <td>&lt;UID: 20f6ab49ac884c67b85b80f18eb5d287&gt;</td>\n",
       "      <td>[conv2_weight]</td>\n",
       "      <td></td>\n",
       "      <td>&lt;class 'syft.lib.python.list.List'&gt;</td>\n",
       "    </tr>\n",
       "    <tr>\n",
       "      <th>3</th>\n",
       "      <td>&lt;UID: baa49aa2637246fa840a1090cabca55d&gt;</td>\n",
       "      <td>[conv2_bias]</td>\n",
       "      <td></td>\n",
       "      <td>&lt;class 'syft.lib.python.list.List'&gt;</td>\n",
       "    </tr>\n",
       "    <tr>\n",
       "      <th>4</th>\n",
       "      <td>&lt;UID: c567bd4e18ae431f96e68efc111efd15&gt;</td>\n",
       "      <td>[fc1_weight]</td>\n",
       "      <td></td>\n",
       "      <td>&lt;class 'syft.lib.python.list.List'&gt;</td>\n",
       "    </tr>\n",
       "    <tr>\n",
       "      <th>5</th>\n",
       "      <td>&lt;UID: 49dd58eefc7d4d8383bef4bd7d89efbc&gt;</td>\n",
       "      <td>[fc1_bias]</td>\n",
       "      <td></td>\n",
       "      <td>&lt;class 'syft.lib.python.list.List'&gt;</td>\n",
       "    </tr>\n",
       "    <tr>\n",
       "      <th>6</th>\n",
       "      <td>&lt;UID: e0869dbda8254f1aaad451c54c89b176&gt;</td>\n",
       "      <td>[fc2_weight]</td>\n",
       "      <td></td>\n",
       "      <td>&lt;class 'syft.lib.python.list.List'&gt;</td>\n",
       "    </tr>\n",
       "    <tr>\n",
       "      <th>7</th>\n",
       "      <td>&lt;UID: f3abc9c125264f179a715ed9c7d98bbf&gt;</td>\n",
       "      <td>[fc2_bias]</td>\n",
       "      <td></td>\n",
       "      <td>&lt;class 'syft.lib.python.list.List'&gt;</td>\n",
       "    </tr>\n",
       "  </tbody>\n",
       "</table>\n",
       "</div>"
      ],
      "text/plain": [
       "                                        ID            Tags Description  \\\n",
       "0  <UID: a2e7cf7829214d2d863757d5de2693d3>  [conv1_weight]               \n",
       "1  <UID: ba12964d4d2441b1a744b1104c9cb74c>    [conv1_bias]               \n",
       "2  <UID: 20f6ab49ac884c67b85b80f18eb5d287>  [conv2_weight]               \n",
       "3  <UID: baa49aa2637246fa840a1090cabca55d>    [conv2_bias]               \n",
       "4  <UID: c567bd4e18ae431f96e68efc111efd15>    [fc1_weight]               \n",
       "5  <UID: 49dd58eefc7d4d8383bef4bd7d89efbc>      [fc1_bias]               \n",
       "6  <UID: e0869dbda8254f1aaad451c54c89b176>    [fc2_weight]               \n",
       "7  <UID: f3abc9c125264f179a715ed9c7d98bbf>      [fc2_bias]               \n",
       "\n",
       "                           object_type  \n",
       "0  <class 'syft.lib.python.list.List'>  \n",
       "1  <class 'syft.lib.python.list.List'>  \n",
       "2  <class 'syft.lib.python.list.List'>  \n",
       "3  <class 'syft.lib.python.list.List'>  \n",
       "4  <class 'syft.lib.python.list.List'>  \n",
       "5  <class 'syft.lib.python.list.List'>  \n",
       "6  <class 'syft.lib.python.list.List'>  \n",
       "7  <class 'syft.lib.python.list.List'>  "
      ]
     },
     "execution_count": 229,
     "metadata": {},
     "output_type": "execute_result"
    }
   ],
   "source": [
    "duet.store.pandas"
   ]
  },
  {
   "cell_type": "markdown",
   "metadata": {},
   "source": [
    "### Checkpoint 1"
   ]
  },
  {
   "cell_type": "code",
   "execution_count": 230,
   "metadata": {
    "scrolled": false
   },
   "outputs": [
    {
     "name": "stdout",
     "output_type": "stream",
     "text": [
      "\r"
     ]
    },
    {
     "data": {
      "text/html": [
       "<div>\n",
       "<style scoped>\n",
       "    .dataframe tbody tr th:only-of-type {\n",
       "        vertical-align: middle;\n",
       "    }\n",
       "\n",
       "    .dataframe tbody tr th {\n",
       "        vertical-align: top;\n",
       "    }\n",
       "\n",
       "    .dataframe thead th {\n",
       "        text-align: right;\n",
       "    }\n",
       "</style>\n",
       "<table border=\"1\" class=\"dataframe\">\n",
       "  <thead>\n",
       "    <tr style=\"text-align: right;\">\n",
       "      <th></th>\n",
       "      <th>Requested Object's tags</th>\n",
       "      <th>Reason</th>\n",
       "      <th>Request ID</th>\n",
       "      <th>Requested Object's ID</th>\n",
       "      <th>Requested Object's type</th>\n",
       "    </tr>\n",
       "  </thead>\n",
       "  <tbody>\n",
       "    <tr>\n",
       "      <th>0</th>\n",
       "      <td>[conv1_weight]</td>\n",
       "      <td>I would like to get the conv1 weight</td>\n",
       "      <td>&lt;UID: c4e5dd72ddba493397a8e22fcbf1129c&gt;</td>\n",
       "      <td>&lt;UID: a2e7cf7829214d2d863757d5de2693d3&gt;</td>\n",
       "      <td>&lt;class 'syft.lib.python.list.List'&gt;</td>\n",
       "    </tr>\n",
       "    <tr>\n",
       "      <th>1</th>\n",
       "      <td>[conv1_bias]</td>\n",
       "      <td>I would like to get the conv1 bias</td>\n",
       "      <td>&lt;UID: 4e2ac984c1b64c618975552735497434&gt;</td>\n",
       "      <td>&lt;UID: ba12964d4d2441b1a744b1104c9cb74c&gt;</td>\n",
       "      <td>&lt;class 'syft.lib.python.list.List'&gt;</td>\n",
       "    </tr>\n",
       "    <tr>\n",
       "      <th>2</th>\n",
       "      <td>[conv2_weight]</td>\n",
       "      <td>I would like to get the conv2 weight</td>\n",
       "      <td>&lt;UID: 4ae08cb9fe3e428cab01308d955dd206&gt;</td>\n",
       "      <td>&lt;UID: 20f6ab49ac884c67b85b80f18eb5d287&gt;</td>\n",
       "      <td>&lt;class 'syft.lib.python.list.List'&gt;</td>\n",
       "    </tr>\n",
       "    <tr>\n",
       "      <th>3</th>\n",
       "      <td>[conv2_bias]</td>\n",
       "      <td>I would like to get the conv2 bias</td>\n",
       "      <td>&lt;UID: 80e631755fcc4c1b8d530a643751decb&gt;</td>\n",
       "      <td>&lt;UID: baa49aa2637246fa840a1090cabca55d&gt;</td>\n",
       "      <td>&lt;class 'syft.lib.python.list.List'&gt;</td>\n",
       "    </tr>\n",
       "    <tr>\n",
       "      <th>4</th>\n",
       "      <td>[fc1_weight]</td>\n",
       "      <td>I would like to get the fc1 weight</td>\n",
       "      <td>&lt;UID: 5ee900d5f0c94b22839fae7bc0e3ff45&gt;</td>\n",
       "      <td>&lt;UID: c567bd4e18ae431f96e68efc111efd15&gt;</td>\n",
       "      <td>&lt;class 'syft.lib.python.list.List'&gt;</td>\n",
       "    </tr>\n",
       "    <tr>\n",
       "      <th>5</th>\n",
       "      <td>[fc1_bias]</td>\n",
       "      <td>I would like to get the fc1 bias</td>\n",
       "      <td>&lt;UID: e738ad749e9945e190437ba59336d958&gt;</td>\n",
       "      <td>&lt;UID: 49dd58eefc7d4d8383bef4bd7d89efbc&gt;</td>\n",
       "      <td>&lt;class 'syft.lib.python.list.List'&gt;</td>\n",
       "    </tr>\n",
       "    <tr>\n",
       "      <th>6</th>\n",
       "      <td>[fc2_weight]</td>\n",
       "      <td>I would like to get the fc2 weight</td>\n",
       "      <td>&lt;UID: 4c3e1478707b42babfff3068bce1ed64&gt;</td>\n",
       "      <td>&lt;UID: e0869dbda8254f1aaad451c54c89b176&gt;</td>\n",
       "      <td>&lt;class 'syft.lib.python.list.List'&gt;</td>\n",
       "    </tr>\n",
       "    <tr>\n",
       "      <th>7</th>\n",
       "      <td>[fc2_bias]</td>\n",
       "      <td>I would like to get the fc2 bias</td>\n",
       "      <td>&lt;UID: 20ade0c3c3914392ad5cc3dd11c2a27b&gt;</td>\n",
       "      <td>&lt;UID: f3abc9c125264f179a715ed9c7d98bbf&gt;</td>\n",
       "      <td>&lt;class 'syft.lib.python.list.List'&gt;</td>\n",
       "    </tr>\n",
       "  </tbody>\n",
       "</table>\n",
       "</div>"
      ],
      "text/plain": [
       "  Requested Object's tags                                Reason  \\\n",
       "0          [conv1_weight]  I would like to get the conv1 weight   \n",
       "1            [conv1_bias]    I would like to get the conv1 bias   \n",
       "2          [conv2_weight]  I would like to get the conv2 weight   \n",
       "3            [conv2_bias]    I would like to get the conv2 bias   \n",
       "4            [fc1_weight]    I would like to get the fc1 weight   \n",
       "5              [fc1_bias]      I would like to get the fc1 bias   \n",
       "6            [fc2_weight]    I would like to get the fc2 weight   \n",
       "7              [fc2_bias]      I would like to get the fc2 bias   \n",
       "\n",
       "                                Request ID  \\\n",
       "0  <UID: c4e5dd72ddba493397a8e22fcbf1129c>   \n",
       "1  <UID: 4e2ac984c1b64c618975552735497434>   \n",
       "2  <UID: 4ae08cb9fe3e428cab01308d955dd206>   \n",
       "3  <UID: 80e631755fcc4c1b8d530a643751decb>   \n",
       "4  <UID: 5ee900d5f0c94b22839fae7bc0e3ff45>   \n",
       "5  <UID: e738ad749e9945e190437ba59336d958>   \n",
       "6  <UID: 4c3e1478707b42babfff3068bce1ed64>   \n",
       "7  <UID: 20ade0c3c3914392ad5cc3dd11c2a27b>   \n",
       "\n",
       "                     Requested Object's ID  \\\n",
       "0  <UID: a2e7cf7829214d2d863757d5de2693d3>   \n",
       "1  <UID: ba12964d4d2441b1a744b1104c9cb74c>   \n",
       "2  <UID: 20f6ab49ac884c67b85b80f18eb5d287>   \n",
       "3  <UID: baa49aa2637246fa840a1090cabca55d>   \n",
       "4  <UID: c567bd4e18ae431f96e68efc111efd15>   \n",
       "5  <UID: 49dd58eefc7d4d8383bef4bd7d89efbc>   \n",
       "6  <UID: e0869dbda8254f1aaad451c54c89b176>   \n",
       "7  <UID: f3abc9c125264f179a715ed9c7d98bbf>   \n",
       "\n",
       "               Requested Object's type  \n",
       "0  <class 'syft.lib.python.list.List'>  \n",
       "1  <class 'syft.lib.python.list.List'>  \n",
       "2  <class 'syft.lib.python.list.List'>  \n",
       "3  <class 'syft.lib.python.list.List'>  \n",
       "4  <class 'syft.lib.python.list.List'>  \n",
       "5  <class 'syft.lib.python.list.List'>  \n",
       "6  <class 'syft.lib.python.list.List'>  \n",
       "7  <class 'syft.lib.python.list.List'>  "
      ]
     },
     "execution_count": 230,
     "metadata": {},
     "output_type": "execute_result"
    }
   ],
   "source": [
    "duet.requests.pandas"
   ]
  },
  {
   "cell_type": "code",
   "execution_count": 231,
   "metadata": {},
   "outputs": [
    {
     "name": "stdout",
     "output_type": "stream",
     "text": [
      "♫♫♫ > DUET LIVE STATUS  -  Objects: 0  Requests: 0   Messages: 77  Request Handlers: 0                                \r"
     ]
    }
   ],
   "source": [
    "duet.requests[0].accept()\n",
    "duet.requests[0].accept()\n",
    "duet.requests[0].accept()\n",
    "duet.requests[0].accept()\n",
    "duet.requests[0].accept()\n",
    "duet.requests[0].accept()\n",
    "duet.requests[0].accept()\n",
    "duet.requests[0].accept()"
   ]
  },
  {
   "cell_type": "markdown",
   "metadata": {},
   "source": [
    "### Checkpoint 2"
   ]
  },
  {
   "cell_type": "code",
   "execution_count": 232,
   "metadata": {
    "scrolled": true
   },
   "outputs": [
    {
     "data": {
      "text/html": [
       "<div>\n",
       "<style scoped>\n",
       "    .dataframe tbody tr th:only-of-type {\n",
       "        vertical-align: middle;\n",
       "    }\n",
       "\n",
       "    .dataframe tbody tr th {\n",
       "        vertical-align: top;\n",
       "    }\n",
       "\n",
       "    .dataframe thead th {\n",
       "        text-align: right;\n",
       "    }\n",
       "</style>\n",
       "<table border=\"1\" class=\"dataframe\">\n",
       "  <thead>\n",
       "    <tr style=\"text-align: right;\">\n",
       "      <th></th>\n",
       "      <th>ID</th>\n",
       "      <th>Tags</th>\n",
       "      <th>Description</th>\n",
       "      <th>object_type</th>\n",
       "    </tr>\n",
       "  </thead>\n",
       "  <tbody>\n",
       "    <tr>\n",
       "      <th>0</th>\n",
       "      <td>&lt;UID: c8ac184b2cf14797b35684c485f429ee&gt;</td>\n",
       "      <td>[global_conv1_weight]</td>\n",
       "      <td></td>\n",
       "      <td>&lt;class 'syft.lib.python.list.List'&gt;</td>\n",
       "    </tr>\n",
       "    <tr>\n",
       "      <th>1</th>\n",
       "      <td>&lt;UID: 6b1f78957f0a4227b38905f335553b12&gt;</td>\n",
       "      <td>[global_conv1_bias]</td>\n",
       "      <td></td>\n",
       "      <td>&lt;class 'syft.lib.python.list.List'&gt;</td>\n",
       "    </tr>\n",
       "    <tr>\n",
       "      <th>2</th>\n",
       "      <td>&lt;UID: 32a73769699549b5bb6afb17ee624cc6&gt;</td>\n",
       "      <td>[global_conv2_weight]</td>\n",
       "      <td></td>\n",
       "      <td>&lt;class 'syft.lib.python.list.List'&gt;</td>\n",
       "    </tr>\n",
       "    <tr>\n",
       "      <th>3</th>\n",
       "      <td>&lt;UID: fd5883dd789046bfbbb6bb8dda3b7e17&gt;</td>\n",
       "      <td>[global_conv2_bias]</td>\n",
       "      <td></td>\n",
       "      <td>&lt;class 'syft.lib.python.list.List'&gt;</td>\n",
       "    </tr>\n",
       "    <tr>\n",
       "      <th>4</th>\n",
       "      <td>&lt;UID: 41df7d387b7d4540bada20e2ad5cbf98&gt;</td>\n",
       "      <td>[global_fc1_weight]</td>\n",
       "      <td></td>\n",
       "      <td>&lt;class 'syft.lib.python.list.List'&gt;</td>\n",
       "    </tr>\n",
       "    <tr>\n",
       "      <th>5</th>\n",
       "      <td>&lt;UID: f24696ce572e4743ad93fa9a662ecec7&gt;</td>\n",
       "      <td>[global_fc1_bias]</td>\n",
       "      <td></td>\n",
       "      <td>&lt;class 'syft.lib.python.list.List'&gt;</td>\n",
       "    </tr>\n",
       "    <tr>\n",
       "      <th>6</th>\n",
       "      <td>&lt;UID: d5a3ec8b941e4fd3b65e4e54ba47c981&gt;</td>\n",
       "      <td>[global_fc2_weight]</td>\n",
       "      <td></td>\n",
       "      <td>&lt;class 'syft.lib.python.list.List'&gt;</td>\n",
       "    </tr>\n",
       "    <tr>\n",
       "      <th>7</th>\n",
       "      <td>&lt;UID: 7790fb77b4f548d08e6b9d738bbb2c7d&gt;</td>\n",
       "      <td>[global_fc2_bias]</td>\n",
       "      <td></td>\n",
       "      <td>&lt;class 'syft.lib.python.list.List'&gt;</td>\n",
       "    </tr>\n",
       "  </tbody>\n",
       "</table>\n",
       "</div>"
      ],
      "text/plain": [
       "                                        ID                   Tags Description  \\\n",
       "0  <UID: c8ac184b2cf14797b35684c485f429ee>  [global_conv1_weight]               \n",
       "1  <UID: 6b1f78957f0a4227b38905f335553b12>    [global_conv1_bias]               \n",
       "2  <UID: 32a73769699549b5bb6afb17ee624cc6>  [global_conv2_weight]               \n",
       "3  <UID: fd5883dd789046bfbbb6bb8dda3b7e17>    [global_conv2_bias]               \n",
       "4  <UID: 41df7d387b7d4540bada20e2ad5cbf98>    [global_fc1_weight]               \n",
       "5  <UID: f24696ce572e4743ad93fa9a662ecec7>      [global_fc1_bias]               \n",
       "6  <UID: d5a3ec8b941e4fd3b65e4e54ba47c981>    [global_fc2_weight]               \n",
       "7  <UID: 7790fb77b4f548d08e6b9d738bbb2c7d>      [global_fc2_bias]               \n",
       "\n",
       "                           object_type  \n",
       "0  <class 'syft.lib.python.list.List'>  \n",
       "1  <class 'syft.lib.python.list.List'>  \n",
       "2  <class 'syft.lib.python.list.List'>  \n",
       "3  <class 'syft.lib.python.list.List'>  \n",
       "4  <class 'syft.lib.python.list.List'>  \n",
       "5  <class 'syft.lib.python.list.List'>  \n",
       "6  <class 'syft.lib.python.list.List'>  \n",
       "7  <class 'syft.lib.python.list.List'>  "
      ]
     },
     "execution_count": 232,
     "metadata": {},
     "output_type": "execute_result"
    }
   ],
   "source": [
    "duet.store.pandas"
   ]
  },
  {
   "cell_type": "code",
   "execution_count": 233,
   "metadata": {},
   "outputs": [],
   "source": [
    "start = time.time()\n",
    "\n",
    "updated_conv1_weight = duet.store[\"global_conv1_weight\"].get()\n",
    "updated_conv1_bias = duet.store[\"global_conv1_bias\"].get()\n",
    "updated_conv2_weight = duet.store[\"global_conv2_weight\"].get()\n",
    "updated_conv2_bias = duet.store[\"global_conv2_bias\"].get()\n",
    "updated_fc1_weight = duet.store[\"global_fc1_weight\"].get()\n",
    "updated_fc1_bias = duet.store[\"global_fc1_bias\"].get()\n",
    "updated_fc2_weight = duet.store[\"global_fc2_weight\"].get()\n",
    "updated_fc2_bias = duet.store[\"global_fc2_bias\"].get()\n",
    "\n",
    "end = time.time()"
   ]
  },
  {
   "cell_type": "code",
   "execution_count": 234,
   "metadata": {},
   "outputs": [
    {
     "name": "stdout",
     "output_type": "stream",
     "text": [
      "Get time: 4.974325895309448 seconds\n"
     ]
    }
   ],
   "source": [
    "print(f\"Get time: {float(end - start)} seconds\")"
   ]
  },
  {
   "cell_type": "code",
   "execution_count": 235,
   "metadata": {},
   "outputs": [],
   "source": [
    "start = time.time()\n",
    "\n",
    "avg_updates = OrderedDict()\n",
    "avg_updates[\"conv1.weight\"] = torch.Tensor(updated_conv1_weight)\n",
    "avg_updates[\"conv1.bias\"] = torch.Tensor(updated_conv1_bias)\n",
    "avg_updates[\"conv2.weight\"] = torch.Tensor(updated_conv2_weight)\n",
    "avg_updates[\"conv2.bias\"] = torch.Tensor(updated_conv2_bias)\n",
    "avg_updates[\"fc1.weight\"] = torch.Tensor(updated_fc1_weight)\n",
    "avg_updates[\"fc1.bias\"] = torch.Tensor(updated_fc1_bias)\n",
    "avg_updates[\"fc2.weight\"] = torch.Tensor(updated_fc2_weight)\n",
    "avg_updates[\"fc2.bias\"] = torch.Tensor(updated_fc2_bias)\n",
    "\n",
    "end = time.time()"
   ]
  },
  {
   "cell_type": "code",
   "execution_count": 236,
   "metadata": {},
   "outputs": [
    {
     "name": "stdout",
     "output_type": "stream",
     "text": [
      "Create params time: 0.652775764465332 seconds\n"
     ]
    }
   ],
   "source": [
    "print(f\"Create params time: {float(end - start)} seconds\")"
   ]
  },
  {
   "cell_type": "code",
   "execution_count": 237,
   "metadata": {},
   "outputs": [],
   "source": [
    "start = time.time()\n",
    "\n",
    "model.load_state_dict(avg_updates)\n",
    "\n",
    "end = time.time()"
   ]
  },
  {
   "cell_type": "code",
   "execution_count": 238,
   "metadata": {},
   "outputs": [
    {
     "name": "stdout",
     "output_type": "stream",
     "text": [
      "Load model time: 0.007005929946899414 seconds\n"
     ]
    },
    {
     "name": "stderr",
     "output_type": "stream",
     "text": [
      "Exception in callback Transaction.__retry()\n",
      "handle: <TimerHandle when=64102.062 Transaction.__retry()>\n",
      "Traceback (most recent call last):\n",
      "  File \"C:\\Users\\dells\\anaconda3\\lib\\asyncio\\events.py\", line 81, in _run\n",
      "    self._context.run(self._callback, *self._args)\n",
      "  File \"C:\\Users\\dells\\anaconda3\\lib\\site-packages\\aioice\\stun.py\", line 306, in __retry\n",
      "    self.__future.set_exception(TransactionTimeout())\n",
      "  File \"C:\\Users\\dells\\anaconda3\\lib\\asyncio\\futures.py\", line 246, in set_exception\n",
      "    raise exceptions.InvalidStateError(f'{self._state}: {self!r}')\n",
      "asyncio.exceptions.InvalidStateError: FINISHED: <Future finished result=(Message(messa...\\xf8(#\\r\\xe4'), ('192.168.2.1', 60092))>\n"
     ]
    },
    {
     "name": "stdout",
     "output_type": "stream",
     "text": [
      "♫♫♫ > DUET LIVE STATUS  -  Objects: 8  Requests: 0   Messages: 9  Request Handlers: 0                                 \r"
     ]
    }
   ],
   "source": [
    "print(f\"Load model time: {float(end - start)} seconds\")"
   ]
  },
  {
   "cell_type": "code",
   "execution_count": 35,
   "metadata": {
    "scrolled": true
   },
   "outputs": [
    {
     "name": "stdout",
     "output_type": "stream",
     "text": [
      "\n",
      "Test set: Average loss: 0.0674, Accuracy: 1600/10000 (16.00%)\n",
      "\n"
     ]
    },
    {
     "data": {
      "text/plain": [
       "(0.06735500006675721, 0.16)"
      ]
     },
     "execution_count": 35,
     "metadata": {},
     "output_type": "execute_result"
    },
    {
     "name": "stderr",
     "output_type": "stream",
     "text": [
      "Exception in callback Transaction.__retry()\n",
      "handle: <TimerHandle when=48023.515 Transaction.__retry()>\n",
      "Traceback (most recent call last):\n",
      "  File \"C:\\Users\\dells\\anaconda3\\lib\\asyncio\\events.py\", line 81, in _run\n",
      "    self._context.run(self._callback, *self._args)\n",
      "  File \"C:\\Users\\dells\\anaconda3\\lib\\site-packages\\aioice\\stun.py\", line 306, in __retry\n",
      "    self.__future.set_exception(TransactionTimeout())\n",
      "  File \"C:\\Users\\dells\\anaconda3\\lib\\asyncio\\futures.py\", line 246, in set_exception\n",
      "    raise exceptions.InvalidStateError(f'{self._state}: {self!r}')\n",
      "asyncio.exceptions.InvalidStateError: FINISHED: <Future finished result=(Message(messa...fDKz\\xcc\\x8f'), ('2402:800:637...c87:9067:6d3f', 52045))>\n"
     ]
    }
   ],
   "source": [
    "l1, test1 =test(model, device, global_test_loader)\n",
    "l1, test1"
   ]
  },
  {
   "cell_type": "code",
   "execution_count": 61,
   "metadata": {},
   "outputs": [
    {
     "name": "stdout",
     "output_type": "stream",
     "text": [
      "\r"
     ]
    },
    {
     "data": {
      "text/plain": [
       "(0.016178003460168837, 0.715)"
      ]
     },
     "execution_count": 61,
     "metadata": {},
     "output_type": "execute_result"
    },
    {
     "name": "stderr",
     "output_type": "stream",
     "text": [
      "Exception in callback Transaction.__retry()\n",
      "handle: <TimerHandle when=48905.468 Transaction.__retry()>\n",
      "Traceback (most recent call last):\n",
      "  File \"C:\\Users\\dells\\anaconda3\\lib\\asyncio\\events.py\", line 81, in _run\n",
      "    self._context.run(self._callback, *self._args)\n",
      "  File \"C:\\Users\\dells\\anaconda3\\lib\\site-packages\\aioice\\stun.py\", line 306, in __retry\n",
      "    self.__future.set_exception(TransactionTimeout())\n",
      "  File \"C:\\Users\\dells\\anaconda3\\lib\\asyncio\\futures.py\", line 246, in set_exception\n",
      "    raise exceptions.InvalidStateError(f'{self._state}: {self!r}')\n",
      "asyncio.exceptions.InvalidStateError: FINISHED: <Future finished result=(Message(messa...aa\\xa2\\xccLS'), ('192.168.2.1', 58139))>\n"
     ]
    }
   ],
   "source": [
    "l2, test2 =test(model, device, global_test_loader)\n",
    "l2, test2"
   ]
  },
  {
   "cell_type": "code",
   "execution_count": 83,
   "metadata": {},
   "outputs": [
    {
     "name": "stdout",
     "output_type": "stream",
     "text": [
      "♫♫♫ > DUET LIVE STATUS  -  Objects: 0  Requests: 0   Messages: 77  Request Handlers: 0                                "
     ]
    },
    {
     "data": {
      "text/plain": [
       "(0.01711692601442337, 0.7362)"
      ]
     },
     "execution_count": 83,
     "metadata": {},
     "output_type": "execute_result"
    },
    {
     "name": "stderr",
     "output_type": "stream",
     "text": [
      "Exception in callback Transaction.__retry()\n",
      "handle: <TimerHandle when=49982.484 Transaction.__retry()>\n",
      "Traceback (most recent call last):\n",
      "  File \"C:\\Users\\dells\\anaconda3\\lib\\asyncio\\events.py\", line 81, in _run\n",
      "    self._context.run(self._callback, *self._args)\n",
      "  File \"C:\\Users\\dells\\anaconda3\\lib\\site-packages\\aioice\\stun.py\", line 306, in __retry\n",
      "    self.__future.set_exception(TransactionTimeout())\n",
      "  File \"C:\\Users\\dells\\anaconda3\\lib\\asyncio\\futures.py\", line 246, in set_exception\n",
      "    raise exceptions.InvalidStateError(f'{self._state}: {self!r}')\n",
      "asyncio.exceptions.InvalidStateError: FINISHED: <Future finished result=(Message(messa...xf4&\\xdf\\xf3'), ('192.168.2.1', 62795))>\n",
      "Exception in callback Transaction.__retry()\n",
      "handle: <TimerHandle when=50014.796 Transaction.__retry()>\n",
      "Traceback (most recent call last):\n",
      "  File \"C:\\Users\\dells\\anaconda3\\lib\\asyncio\\events.py\", line 81, in _run\n",
      "    self._context.run(self._callback, *self._args)\n",
      "  File \"C:\\Users\\dells\\anaconda3\\lib\\site-packages\\aioice\\stun.py\", line 306, in __retry\n",
      "    self.__future.set_exception(TransactionTimeout())\n",
      "  File \"C:\\Users\\dells\\anaconda3\\lib\\asyncio\\futures.py\", line 246, in set_exception\n",
      "    raise exceptions.InvalidStateError(f'{self._state}: {self!r}')\n",
      "asyncio.exceptions.InvalidStateError: FINISHED: <Future finished result=(Message(messa...0xA\\tL\\x91aR'), ('192.168.2.1', 62795))>\n"
     ]
    }
   ],
   "source": [
    "l3, test3 =test(model, device, global_test_loader)\n",
    "l3, test3"
   ]
  },
  {
   "cell_type": "code",
   "execution_count": 105,
   "metadata": {
    "scrolled": true
   },
   "outputs": [
    {
     "name": "stdout",
     "output_type": "stream",
     "text": [
      "\r"
     ]
    },
    {
     "data": {
      "text/plain": [
       "(0.01711463841497898, 0.7603)"
      ]
     },
     "execution_count": 105,
     "metadata": {},
     "output_type": "execute_result"
    },
    {
     "name": "stderr",
     "output_type": "stream",
     "text": [
      "Exception in callback Transaction.__retry()\n",
      "handle: <TimerHandle when=50595.14 Transaction.__retry()>\n",
      "Traceback (most recent call last):\n",
      "  File \"C:\\Users\\dells\\anaconda3\\lib\\asyncio\\events.py\", line 81, in _run\n",
      "    self._context.run(self._callback, *self._args)\n",
      "  File \"C:\\Users\\dells\\anaconda3\\lib\\site-packages\\aioice\\stun.py\", line 306, in __retry\n",
      "    self.__future.set_exception(TransactionTimeout())\n",
      "  File \"C:\\Users\\dells\\anaconda3\\lib\\asyncio\\futures.py\", line 246, in set_exception\n",
      "    raise exceptions.InvalidStateError(f'{self._state}: {self!r}')\n",
      "asyncio.exceptions.InvalidStateError: FINISHED: <Future finished result=(Message(messa...fe\\xed_\\xc5+'), ('192.168.2.1', 60350))>\n"
     ]
    }
   ],
   "source": [
    "l4 ,test4 =test(model, device, global_test_loader)\n",
    "l4 ,test4"
   ]
  },
  {
   "cell_type": "code",
   "execution_count": 127,
   "metadata": {},
   "outputs": [
    {
     "name": "stdout",
     "output_type": "stream",
     "text": [
      "\r",
      "♫♫♫ > DUET LIVE STATUS  -  Objects: 0  Requests: 0   Messages: 77  Request Handlers: 0                                \r"
     ]
    },
    {
     "data": {
      "text/plain": [
       "(0.016768886697292328, 0.7698)"
      ]
     },
     "execution_count": 127,
     "metadata": {},
     "output_type": "execute_result"
    },
    {
     "name": "stderr",
     "output_type": "stream",
     "text": [
      "Exception in callback Transaction.__retry()\n",
      "handle: <TimerHandle when=51392.265 Transaction.__retry()>\n",
      "Traceback (most recent call last):\n",
      "  File \"C:\\Users\\dells\\anaconda3\\lib\\asyncio\\events.py\", line 81, in _run\n",
      "    self._context.run(self._callback, *self._args)\n",
      "  File \"C:\\Users\\dells\\anaconda3\\lib\\site-packages\\aioice\\stun.py\", line 306, in __retry\n",
      "    self.__future.set_exception(TransactionTimeout())\n",
      "  File \"C:\\Users\\dells\\anaconda3\\lib\\asyncio\\futures.py\", line 246, in set_exception\n",
      "    raise exceptions.InvalidStateError(f'{self._state}: {self!r}')\n",
      "asyncio.exceptions.InvalidStateError: FINISHED: <Future finished result=(Message(messa...\\x03\\xa9\\xc3'), ('192.168.2.1', 60797))>\n"
     ]
    }
   ],
   "source": [
    "l5 ,test5 =test(model, device, global_test_loader)\n",
    "l5 ,test5"
   ]
  },
  {
   "cell_type": "code",
   "execution_count": 150,
   "metadata": {},
   "outputs": [
    {
     "name": "stdout",
     "output_type": "stream",
     "text": [
      "♫♫♫ > DUET LIVE STATUS  -  Objects: 8  Requests: 0   Messages: 9  Request Handlers: 0                                "
     ]
    },
    {
     "data": {
      "text/plain": [
       "(0.016422284722328186, 0.7742)"
      ]
     },
     "execution_count": 150,
     "metadata": {},
     "output_type": "execute_result"
    },
    {
     "name": "stderr",
     "output_type": "stream",
     "text": [
      "Exception in callback Transaction.__retry()\n",
      "handle: <TimerHandle when=52232.0 Transaction.__retry()>\n",
      "Traceback (most recent call last):\n",
      "  File \"C:\\Users\\dells\\anaconda3\\lib\\asyncio\\events.py\", line 81, in _run\n",
      "    self._context.run(self._callback, *self._args)\n",
      "  File \"C:\\Users\\dells\\anaconda3\\lib\\site-packages\\aioice\\stun.py\", line 306, in __retry\n",
      "    self.__future.set_exception(TransactionTimeout())\n",
      "  File \"C:\\Users\\dells\\anaconda3\\lib\\asyncio\\futures.py\", line 246, in set_exception\n",
      "    raise exceptions.InvalidStateError(f'{self._state}: {self!r}')\n",
      "asyncio.exceptions.InvalidStateError: FINISHED: <Future finished result=(Message(messa...\\x19\\x86\\xce'), ('192.168.2.1', 56089))>\n",
      "Exception in callback Transaction.__retry()\n",
      "handle: <TimerHandle when=52359.718 Transaction.__retry()>\n",
      "Traceback (most recent call last):\n",
      "  File \"C:\\Users\\dells\\anaconda3\\lib\\asyncio\\events.py\", line 81, in _run\n",
      "    self._context.run(self._callback, *self._args)\n",
      "  File \"C:\\Users\\dells\\anaconda3\\lib\\site-packages\\aioice\\stun.py\", line 306, in __retry\n",
      "    self.__future.set_exception(TransactionTimeout())\n",
      "  File \"C:\\Users\\dells\\anaconda3\\lib\\asyncio\\futures.py\", line 246, in set_exception\n",
      "    raise exceptions.InvalidStateError(f'{self._state}: {self!r}')\n",
      "asyncio.exceptions.InvalidStateError: FINISHED: <Future finished result=(Message(messa...x8f1\\x0c\\xb8'), ('192.168.2.1', 56089))>\n"
     ]
    }
   ],
   "source": [
    "l6 ,test6 =test(model, device, global_test_loader)\n",
    "l6 ,test6"
   ]
  },
  {
   "cell_type": "code",
   "execution_count": 172,
   "metadata": {},
   "outputs": [
    {
     "name": "stdout",
     "output_type": "stream",
     "text": [
      "♫♫♫ > DUET LIVE STATUS  -  Objects: 0  Requests: 0   Messages: 77  Request Handlers: 0                                \r"
     ]
    },
    {
     "data": {
      "text/plain": [
       "(0.016526494312286377, 0.7858)"
      ]
     },
     "execution_count": 172,
     "metadata": {},
     "output_type": "execute_result"
    },
    {
     "name": "stderr",
     "output_type": "stream",
     "text": [
      "Exception in callback Transaction.__retry()\n",
      "handle: <TimerHandle when=52972.531 Transaction.__retry()>\n",
      "Traceback (most recent call last):\n",
      "  File \"C:\\Users\\dells\\anaconda3\\lib\\asyncio\\events.py\", line 81, in _run\n",
      "    self._context.run(self._callback, *self._args)\n",
      "  File \"C:\\Users\\dells\\anaconda3\\lib\\site-packages\\aioice\\stun.py\", line 306, in __retry\n",
      "    self.__future.set_exception(TransactionTimeout())\n",
      "  File \"C:\\Users\\dells\\anaconda3\\lib\\asyncio\\futures.py\", line 246, in set_exception\n",
      "    raise exceptions.InvalidStateError(f'{self._state}: {self!r}')\n",
      "asyncio.exceptions.InvalidStateError: FINISHED: <Future finished result=(Message(messa...80\\x01\\x9b<$'), ('192.168.2.1', 52371))>\n"
     ]
    }
   ],
   "source": [
    "l7 ,test7 =test(model, device, global_test_loader)\n",
    "l7 ,test7"
   ]
  },
  {
   "cell_type": "code",
   "execution_count": 195,
   "metadata": {},
   "outputs": [
    {
     "data": {
      "text/plain": [
       "(0.016126322627067567, 0.7948)"
      ]
     },
     "execution_count": 195,
     "metadata": {},
     "output_type": "execute_result"
    }
   ],
   "source": [
    "l8 ,test8 =test(model, device, global_test_loader)\n",
    "l8 ,test8"
   ]
  },
  {
   "cell_type": "code",
   "execution_count": 217,
   "metadata": {},
   "outputs": [
    {
     "data": {
      "text/plain": [
       "(0.016425147926807403, 0.7954)"
      ]
     },
     "execution_count": 217,
     "metadata": {},
     "output_type": "execute_result"
    }
   ],
   "source": [
    "l9 ,test9 =test(model, device, global_test_loader)\n",
    "l9 ,test9"
   ]
  },
  {
   "cell_type": "code",
   "execution_count": 239,
   "metadata": {},
   "outputs": [
    {
     "name": "stdout",
     "output_type": "stream",
     "text": [
      "\r"
     ]
    },
    {
     "data": {
      "text/plain": [
       "(0.016174833893775938, 0.8045)"
      ]
     },
     "execution_count": 239,
     "metadata": {},
     "output_type": "execute_result"
    },
    {
     "name": "stderr",
     "output_type": "stream",
     "text": [
      "Exception in callback Transaction.__retry()\n",
      "handle: <TimerHandle when=69230.671 Transaction.__retry()>\n",
      "Traceback (most recent call last):\n",
      "  File \"C:\\Users\\dells\\anaconda3\\lib\\asyncio\\events.py\", line 81, in _run\n",
      "    self._context.run(self._callback, *self._args)\n",
      "  File \"C:\\Users\\dells\\anaconda3\\lib\\site-packages\\aioice\\stun.py\", line 306, in __retry\n",
      "    self.__future.set_exception(TransactionTimeout())\n",
      "  File \"C:\\Users\\dells\\anaconda3\\lib\\asyncio\\futures.py\", line 246, in set_exception\n",
      "    raise exceptions.InvalidStateError(f'{self._state}: {self!r}')\n",
      "asyncio.exceptions.InvalidStateError: FINISHED: <Future finished result=(Message(messa...d0\"\\x04\\x0cg'), ('192.168.2.1', 60092))>\n",
      "Exception in callback Transaction.__retry()\n",
      "handle: <TimerHandle when=70422.375 Transaction.__retry()>\n",
      "Traceback (most recent call last):\n",
      "  File \"C:\\Users\\dells\\anaconda3\\lib\\asyncio\\events.py\", line 81, in _run\n",
      "    self._context.run(self._callback, *self._args)\n",
      "  File \"C:\\Users\\dells\\anaconda3\\lib\\site-packages\\aioice\\stun.py\", line 306, in __retry\n",
      "    self.__future.set_exception(TransactionTimeout())\n",
      "  File \"C:\\Users\\dells\\anaconda3\\lib\\asyncio\\futures.py\", line 246, in set_exception\n",
      "    raise exceptions.InvalidStateError(f'{self._state}: {self!r}')\n",
      "asyncio.exceptions.InvalidStateError: FINISHED: <Future finished result=(Message(messa...#<\\xeb\\r\\xa3'), ('192.168.2.1', 60092))>\n"
     ]
    }
   ],
   "source": [
    "l10 ,test10 =test(model, device, global_test_loader)\n",
    "l10 ,test10"
   ]
  },
  {
   "cell_type": "code",
   "execution_count": null,
   "metadata": {},
   "outputs": [],
   "source": [
    "l11 ,test11 =test(model, device, global_test_loader)\n",
    "l11 ,test11"
   ]
  },
  {
   "cell_type": "code",
   "execution_count": null,
   "metadata": {},
   "outputs": [],
   "source": [
    "l12 ,test12 =test(model, device, global_test_loader)\n",
    "l12 ,test12"
   ]
  },
  {
   "cell_type": "code",
   "execution_count": null,
   "metadata": {},
   "outputs": [],
   "source": [
    "l13 ,test13 =test(model, device, global_test_loader)\n",
    "l13 ,test13"
   ]
  },
  {
   "cell_type": "code",
   "execution_count": null,
   "metadata": {},
   "outputs": [],
   "source": [
    "l14 ,test14 =test(model, device, global_test_loader)\n",
    "l14 ,test14"
   ]
  },
  {
   "cell_type": "code",
   "execution_count": null,
   "metadata": {},
   "outputs": [],
   "source": [
    "l15 ,test15 =test(model, device, global_test_loader)\n",
    "l15 ,test15"
   ]
  }
 ],
 "metadata": {
  "kernelspec": {
   "display_name": "Python 3",
   "language": "python",
   "name": "python3"
  },
  "language_info": {
   "codemirror_mode": {
    "name": "ipython",
    "version": 3
   },
   "file_extension": ".py",
   "mimetype": "text/x-python",
   "name": "python",
   "nbconvert_exporter": "python",
   "pygments_lexer": "ipython3",
   "version": "3.8.5"
  }
 },
 "nbformat": 4,
 "nbformat_minor": 4
}
