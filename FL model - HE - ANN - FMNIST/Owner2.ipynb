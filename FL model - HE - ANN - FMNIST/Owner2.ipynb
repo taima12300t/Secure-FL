{
 "cells": [
  {
   "cell_type": "markdown",
   "metadata": {},
   "source": [
    "### Checkpoint 0"
   ]
  },
  {
   "cell_type": "code",
   "execution_count": 1,
   "metadata": {},
   "outputs": [],
   "source": [
    "import syft as sy\n",
    "import numpy as np\n",
    "import pandas as pd\n",
    "import torch\n",
    "import time\n",
    "import tenseal as ts\n",
    "import torch.nn as nn\n",
    "import torch.nn.functional as F\n",
    "import torch.optim as optim\n",
    "from collections import OrderedDict\n",
    "\n",
    "sy.load(\"tenseal\")"
   ]
  },
  {
   "cell_type": "code",
   "execution_count": 2,
   "metadata": {},
   "outputs": [],
   "source": [
    "class Classifier(nn.Module):\n",
    "    def __init__(self):\n",
    "        super(Classifier, self).__init__()\n",
    "        self.fc1 = nn.Linear(784, 128)\n",
    "        self.fc2 = nn.Linear(128, 64)\n",
    "        self.fc3 = nn.Linear(64, 32)\n",
    "        self.fc4 = nn.Linear(32, 10)\n",
    "        \n",
    "    def forward(self, x):\n",
    "        # make sure input tensor is flattened\n",
    "        x = x.view(x.shape[0], -1)\n",
    "        \n",
    "        x = F.relu(self.fc1(x))\n",
    "        x = F.relu(self.fc2(x))\n",
    "        x = F.relu(self.fc3(x))\n",
    "        x = F.log_softmax(self.fc4(x), dim=1)\n",
    "        \n",
    "        return x"
   ]
  },
  {
   "cell_type": "code",
   "execution_count": 3,
   "metadata": {},
   "outputs": [],
   "source": [
    "def train(model, device, train_loader, optimizer, epoch):\n",
    "    model.train()\n",
    "    for data, labels in train_loader:\n",
    "        data, labels = data.to(device), labels.to(device)\n",
    "        optimizer.zero_grad()\n",
    "        output = model(data)\n",
    "        loss = F.nll_loss(output, labels)\n",
    "        loss.backward()\n",
    "        optimizer.step()\n",
    "        \n",
    "    print('Train Epoch: {} \\tLoss: {:.6f}'.format(epoch, loss.item()))"
   ]
  },
  {
   "cell_type": "code",
   "execution_count": 4,
   "metadata": {},
   "outputs": [],
   "source": [
    "def test(model, device, test_loader):\n",
    "    model.eval()\n",
    "    test_loss = 0\n",
    "    correct = 0\n",
    "    with torch.no_grad():\n",
    "        for data, target in test_loader:\n",
    "            data, target = data.to(device), target.to(device)\n",
    "            output = model(data)\n",
    "            test_loss += F.nll_loss(output, target, reduction='sum').item()  # sum up batch loss\n",
    "            pred = output.argmax(dim=1, keepdim=True)  # get the index of the max log-probability\n",
    "            correct += pred.eq(target.view_as(pred)).sum().item()\n",
    "    test_loss /= len(test_loader.dataset)\n",
    "\n",
    "    print('Test set: Average loss: {:.4f}, Accuracy: {}/{} ({:.0f}%)\\n'.format(\n",
    "        test_loss, correct, len(test_loader.dataset),\n",
    "        100. * correct / len(test_loader.dataset)))\n",
    "    return test_loss, correct, (100. * correct / len(test_loader.dataset))"
   ]
  },
  {
   "cell_type": "code",
   "execution_count": 5,
   "metadata": {},
   "outputs": [],
   "source": [
    "class MnistDataset(torch.utils.data.Dataset):\n",
    "    def __init__(self, data_path):\n",
    "        # data loading\n",
    "        df = pd.read_csv(data_path, dtype=np.float64)\n",
    "        self.x = torch.from_numpy(df.iloc[:,1:].values)\n",
    "        \n",
    "        self.x = self.x.reshape(self.x.size(0),1,28,28)\n",
    "        self.x = self.x.float() # why float?\n",
    "        \n",
    "        self.y = torch.from_numpy(df.iloc[:,0].values) \n",
    "        self.y = self.y.long() # why long?\n",
    "        \n",
    "        self.n_samples = df.shape[0]\n",
    "        \n",
    "    def __len__(self):\n",
    "        return self.n_samples\n",
    "    \n",
    "    def __getitem__(self, index):\n",
    "        return self.x[index], self.y[index]"
   ]
  },
  {
   "cell_type": "code",
   "execution_count": 6,
   "metadata": {},
   "outputs": [
    {
     "name": "stdout",
     "output_type": "stream",
     "text": [
      "Take dataset time: 3.7240021228790283 seconds\n"
     ]
    }
   ],
   "source": [
    "start = time.time()\n",
    "\n",
    "train_dataset = MnistDataset(\"C:/Users/dells/FMNIST/dataset/.client_2_train_data.csv\")\n",
    "train_loader = torch.utils.data.DataLoader(dataset=train_dataset, batch_size=64,shuffle=True)\n",
    "\n",
    "test_dataset = MnistDataset(\"C:/Users/dells/FMNIST/dataset/.client_2_test_data.csv\")\n",
    "test_loader = torch.utils.data.DataLoader(dataset=test_dataset, batch_size=64,shuffle=True)\n",
    "\n",
    "end = time.time()\n",
    "print(f\"Take dataset time: {float(end - start)} seconds\")  "
   ]
  },
  {
   "cell_type": "code",
   "execution_count": 7,
   "metadata": {},
   "outputs": [
    {
     "name": "stdout",
     "output_type": "stream",
     "text": [
      "Check device time: 0.03999662399291992 seconds\n"
     ]
    }
   ],
   "source": [
    "start = time.time()\n",
    "\n",
    "use_cuda = not False and torch.cuda.is_available()\n",
    "device = torch.device(\"cuda\" if use_cuda else \"cpu\")\n",
    "device\n",
    "\n",
    "end = time.time()\n",
    "print(f\"Check device time: {float(end - start)} seconds\")  "
   ]
  },
  {
   "cell_type": "code",
   "execution_count": 8,
   "metadata": {},
   "outputs": [
    {
     "name": "stdout",
     "output_type": "stream",
     "text": [
      "Create model time: 2.58599853515625 seconds\n"
     ]
    }
   ],
   "source": [
    "start = time.time()\n",
    "model = Classifier().to(device)\n",
    "end = time.time()\n",
    "print(f\"Create model time: {float(end - start)} seconds\")"
   ]
  },
  {
   "cell_type": "markdown",
   "metadata": {},
   "source": [
    "### Context exchange"
   ]
  },
  {
   "cell_type": "code",
   "execution_count": 18,
   "metadata": {},
   "outputs": [],
   "source": [
    "start = time.time()\n",
    "\n",
    "bits_scale = 26\n",
    "ctx = ts.context(\n",
    "    ts.SCHEME_TYPE.CKKS,\n",
    "    poly_modulus_degree=8192,\n",
    "    coeff_mod_bit_sizes=[31, bits_scale, bits_scale, bits_scale, bits_scale, bits_scale, bits_scale, 31]\n",
    ")\n",
    "ctx.global_scale = pow(2, bits_scale)\n",
    "ctx.generate_galois_keys()\n",
    "\n",
    "sk = ctx.secret_key()\n",
    "ctx.make_context_public()\n",
    "\n",
    "end = time.time()"
   ]
  },
  {
   "cell_type": "code",
   "execution_count": 20,
   "metadata": {
    "scrolled": true
   },
   "outputs": [
    {
     "data": {
      "image/png": "[encoded data removed]",
      "text/plain": [
       "<IPython.core.display.Image object>"
      ]
     },
     "metadata": {
      "image/png": {
       "unconfined": true,
       "width": 400
      }
     },
     "output_type": "display_data"
    },
    {
     "name": "stdout",
     "output_type": "stream",
     "text": [
      "🎤  🎸  ♪♪♪ Starting Duet ♫♫♫  🎻  🎹\n",
      "\n",
      "♫♫♫ >\u001b[93m DISCLAIMER\u001b[0m: \u001b[1mDuet is an experimental feature currently in beta.\n",
      "♫♫♫ > Use at your own risk.\n",
      "\u001b[0m\n",
      "\u001b[1m\n",
      "    > ❤️ \u001b[91mLove\u001b[0m \u001b[92mDuet\u001b[0m? \u001b[93mPlease\u001b[0m \u001b[94mconsider\u001b[0m \u001b[95msupporting\u001b[0m \u001b[91mour\u001b[0m \u001b[93mcommunity!\u001b[0m\n",
      "    > https://github.com/sponsors/OpenMined\u001b[1m\n",
      "\n",
      "♫♫♫ > Punching through firewall to OpenGrid Network Node at:\n",
      "♫♫♫ > http://ec2-18-218-7-180.us-east-2.compute.amazonaws.com:5000\n",
      "♫♫♫ >\n",
      "♫♫♫ > ...waiting for response from OpenGrid Network... \n",
      "♫♫♫ > \u001b[92mDONE!\u001b[0m\n",
      "\n",
      "♫♫♫ > \u001b[95mSTEP 1:\u001b[0m Send the following code to your Duet Partner!\n",
      "\n",
      "import syft as sy\n",
      "duet = sy.join_duet(loopback=True)\n",
      "\n",
      "♫♫♫ > Connecting...\n",
      "\n",
      "♫♫♫ > \u001b[92mCONNECTED!\u001b[0m\n",
      "\n",
      "Train Epoch: 1 \tLoss: 0.228771ects: 1  Requests: 0   Messages: 92  Request Handlers: 0                                                         \n",
      "Test set: Average loss: 0.1012, Accuracy: 4847/4999 (97%)ages: 92  Request Handlers: 0                                \n",
      "\n",
      "Train Epoch: 4 \tLoss: 0.008430ects: 1  Requests: 0   Messages: 92  Request Handlers: 0                                \n",
      "Train Epoch: 7 \tLoss: 0.054736ects: 1  Requests: 0   Messages: 92  Request Handlers: 0                                \n",
      "Train Epoch: 9 \tLoss: 0.195203ects: 1  Requests: 0   Messages: 92  Request Handlers: 0                                \n",
      "Train Epoch: 11 \tLoss: 0.166235cts: 1  Requests: 0   Messages: 92  Request Handlers: 0                                \n",
      "Train Epoch: 13 \tLoss: 0.027017cts: 1  Requests: 0   Messages: 92  Request Handlers: 0                                \n",
      "Train Epoch: 14 \tLoss: 0.000851cts: 1  Requests: 0   Messages: 92  Request Handlers: 0                                \n",
      "🎤  🎸  ♪♪♪ Starting Duet ♫♫♫  🎻  🎹  Requests: 0   Messages: 92  Request Handlers: 0                                \n",
      "\n",
      "♫♫♫ >\u001b[93m DISCLAIMER\u001b[0m: \u001b[1mDuet is an experimental feature currently in beta.\n",
      "♫♫♫ > Use at your own risk.\n",
      "\u001b[0m\n",
      "\u001b[1m\n",
      "    > ❤️ \u001b[91mLove\u001b[0m \u001b[92mDuet\u001b[0m? \u001b[93mPlease\u001b[0m \u001b[94mconsider\u001b[0m \u001b[95msupporting\u001b[0m \u001b[91mour\u001b[0m \u001b[93mcommunity!\u001b[0m\n",
      "    > https://github.com/sponsors/OpenMined\u001b[1m\n",
      "\n",
      "♫♫♫ > DUET LIVE STATUS  -  Objects: 1  Requests: 0   Messages: 92  Request Handlers: 0                                \n",
      "♫♫♫ > \u001b[92mCONNECTED!\u001b[0m\n",
      "♫♫♫ > DUET LIVE STATUS  *  Objects: 8  Requests: 0   Messages: 60  Request Handlers: 0                                                         Test set: Average loss: 0.1067, Accuracy: 4885/4999 (98%)\n",
      "\n",
      "Train Epoch: 2 \tLoss: 0.023327ects: 0  Requests: 0   Messages: 77  Request Handlers: 0                                \n",
      "Test set: Average loss: 0.0906, Accuracy: 4906/4999 (98%)ages: 77  Request Handlers: 0                                \n",
      "\n",
      "Train Epoch: 5 \tLoss: 0.165675ects: 1  Requests: 0   Messages: 92  Request Handlers: 0                                \n",
      "♫♫♫ > DUET LIVE STATUS  *  Objects: 1  Requests: 0   Messages: 92  Request Handlers: 0                                \n",
      "Test set: Average loss: 0.0906, Accuracy: 4914/4999 (98%)ages: 77  Request Handlers: 0                                \n",
      "\n",
      "Train Epoch: 10 \tLoss: 0.015717cts: 0  Requests: 0   Messages: 77  Request Handlers: 0                                \n",
      "Train Epoch: 11 \tLoss: 0.000567cts: 0  Requests: 0   Messages: 77  Request Handlers: 0                                \n",
      "Test set: Average loss: 0.1028, Accuracy: 4915/4999 (98%)ages: 92  Request Handlers: 0                                \n",
      "\n",
      "Test set: Average loss: 0.1061, Accuracy: 4909/4999 (98%)ages: 77  Request Handlers: 0                                Train Epoch: 12 \tLoss: 0.150522\n",
      "\n",
      "Train Epoch: 14 \tLoss: 0.002169cts: 0  Requests: 0   Messages: 77  Request Handlers: 0                                \n",
      "🎤  🎸  ♪♪♪ Starting Duet ♫♫♫  🎻  🎹  Requests: 0   Messages: 77  Request Handlers: 0                                \n",
      "\n",
      "♫♫♫ >\u001b[93m DISCLAIMER\u001b[0m: \u001b[1mDuet is an experimental feature currently in beta.\n",
      "♫♫♫ > Use at your own risk.\n",
      "\u001b[0m\n",
      "\u001b[1m\n",
      "    > ❤️ \u001b[91mLove\u001b[0m \u001b[92mDuet\u001b[0m? \u001b[93mPlease\u001b[0m \u001b[94mconsider\u001b[0m \u001b[95msupporting\u001b[0m \u001b[91mour\u001b[0m \u001b[93mcommunity!\u001b[0m\n",
      "    > https://github.com/sponsors/OpenMined\u001b[1m\n",
      "\n",
      "♫♫♫ > Punching through firewall to OpenGrid Network Node at:s: 77  Request Handlers: 0                                \n",
      "♫♫♫ > http://ec2-18-218-7-180.us-east-2.compute.amazonaws.com:5000\n",
      "♫♫♫ >\n",
      "♫♫♫ > ...waiting for response from OpenGrid Network... \n",
      "♫♫♫ > \u001b[92mDONE!\u001b[0mUS  *  Objects: 0  Requests: 0   Messages: 77  Request Handlers: 0                                \n",
      "\n",
      "♫♫♫ > \u001b[95mSTEP 1:\u001b[0m Send the following code to your Duet Partner!\n",
      "\n",
      "import syft as sy\n",
      "duet = sy.join_duet(loopback=True)\n",
      "\n",
      "♫♫♫ > DUET LIVE STATUS  -  Objects: 0  Requests: 0   Messages: 77  Request Handlers: 0                                ♫♫♫ > Connecting...\n",
      "♫♫♫ > DUET LIVE STATUS  *  Objects: 0  Requests: 0   Messages: 77  Request Handlers: 0                                \n",
      "♫♫♫ > \u001b[92mCONNECTED!\u001b[0m\n",
      "♫♫♫ > DUET LIVE STATUS  *  Objects: 1  Requests: 0   Messages: 92  Request Handlers: 0                                \n",
      "Test set: Average loss: 0.0638, Accuracy: 4942/4999 (99%)ages: 77  Request Handlers: 0                                                         \n",
      "\n",
      "Train Epoch: 1 \tLoss: 0.077341ects: 0  Requests: 0   Messages: 77  Request Handlers: 0                                \n",
      "Test set: Average loss: 0.0945, Accuracy: 4903/4999 (98%)ages: 77  Request Handlers: 0                                \n",
      "\n",
      "Train Epoch: 4 \tLoss: 0.003058ects: 0  Requests: 0   Messages: 77  Request Handlers: 0                                \n",
      "♫♫♫ > DUET LIVE STATUS  -  Objects: 0  Requests: 0   Messages: 77  Request Handlers: 0                                Train Epoch: 5 \tLoss: 0.043541\n",
      "Test set: Average loss: 0.0931, Accuracy: 4922/4999 (98%)ages: 92  Request Handlers: 0                                \n",
      "\n",
      "Train Epoch: 10 \tLoss: 0.004366cts: 0  Requests: 0   Messages: 77  Request Handlers: 0                                \n",
      "Train Epoch: 11 \tLoss: 0.000245cts: 0  Requests: 0   Messages: 77  Request Handlers: 0                                \n",
      "Test set: Average loss: 0.1083, Accuracy: 4915/4999 (98%)ages: 92  Request Handlers: 0                                \n",
      "\n",
      "🎤  🎸  ♪♪♪ Starting Duet ♫♫♫  🎻  🎹  Requests: 0   Messages: 77  Request Handlers: 0                                \n",
      "\n",
      "♫♫♫ >\u001b[93m DISCLAIMER\u001b[0m: \u001b[1mDuet is an experimental feature currently in beta.\n",
      "♫♫♫ > Use at your own risk.\n",
      "\u001b[0m\n",
      "\u001b[1m\n",
      "    > ❤️ \u001b[91mLove\u001b[0m \u001b[92mDuet\u001b[0m? \u001b[93mPlease\u001b[0m \u001b[94mconsider\u001b[0m \u001b[95msupporting\u001b[0m \u001b[91mour\u001b[0m \u001b[93mcommunity!\u001b[0m\n",
      "    > https://github.com/sponsors/OpenMined\u001b[1m\n",
      "\n",
      "♫♫♫ > DUET LIVE STATUS  *  Objects: 0  Requests: 0   Messages: 77  Request Handlers: 0                                ♫♫♫ > Punching through firewall to OpenGrid Network Node at:\n",
      "♫♫♫ > http://ec2-18-218-7-180.us-east-2.compute.amazonaws.com:5000\n",
      "♫♫♫ >\n",
      "♫♫♫ > ...waiting for response from OpenGrid Network... \n",
      "♫♫♫ > \u001b[92mDONE!\u001b[0mUS  *  Objects: 0  Requests: 0   Messages: 77  Request Handlers: 0                                \n",
      "\n",
      "♫♫♫ > \u001b[95mSTEP 1:\u001b[0m Send the following code to your Duet Partner!\n",
      "\n",
      "import syft as sy\n",
      "duet = sy.join_duet(loopback=True)\n",
      "\n",
      "♫♫♫ > Connecting...TUS  *  Objects: 0  Requests: 0   Messages: 77  Request Handlers: 0                                \n",
      "♫♫♫ > DUET LIVE STATUS  -  Objects: 1  Requests: 0   Messages: 92  Request Handlers: 0                                \n",
      "♫♫♫ > \u001b[92mCONNECTED!\u001b[0m\n",
      "♫♫♫ > DUET LIVE STATUS  -  Objects: 0  Requests: 0   Messages: 77  Request Handlers: 0                                \n",
      "Test set: Average loss: 0.0557, Accuracy: 4940/4999 (99%)ages: 77  Request Handlers: 0                                                         \n",
      "\n",
      "Train Epoch: 1 \tLoss: 0.001611ects: 0  Requests: 0   Messages: 77  Request Handlers: 0                                \n",
      "Test set: Average loss: 0.0956, Accuracy: 4921/4999 (98%)ages: 92  Request Handlers: 0                                \n",
      "\n",
      "♫♫♫ > DUET LIVE STATUS  *  Objects: 0  Requests: 0   Messages: 77  Request Handlers: 0                                Train Epoch: 2 \tLoss: 0.002788\n",
      "Test set: Average loss: 0.0928, Accuracy: 4926/4999 (99%)ages: 77  Request Handlers: 0                                \n",
      "\n",
      "♫♫♫ > DUET LIVE STATUS  *  Objects: 0  Requests: 0   Messages: 77  Request Handlers: 0                                Train Epoch: 3 \tLoss: 0.002412\n",
      "Test set: Average loss: 0.1305, Accuracy: 4916/4999 (98%)ages: 77  Request Handlers: 0                                \n",
      "\n",
      "Train Epoch: 4 \tLoss: 0.001781ects: 0  Requests: 0   Messages: 77  Request Handlers: 0                                \n",
      "Test set: Average loss: 0.1116, Accuracy: 4924/4999 (98%)ages: 92  Request Handlers: 0                                \n",
      "\n",
      "♫♫♫ > DUET LIVE STATUS  -  Objects: 0  Requests: 0   Messages: 77  Request Handlers: 0                                Train Epoch: 5 \tLoss: 0.084962\n",
      "Test set: Average loss: 0.1271, Accuracy: 4918/4999 (98%)ages: 77  Request Handlers: 0                                \n",
      "\n",
      "Train Epoch: 6 \tLoss: 0.007794ects: 0  Requests: 0   Messages: 77  Request Handlers: 0                                \n",
      "Test set: Average loss: 0.1487, Accuracy: 4914/4999 (98%)ages: 77  Request Handlers: 0                                \n",
      "\n",
      "Train Epoch: 7 \tLoss: 0.007340ects: 0  Requests: 0   Messages: 77  Request Handlers: 0                                \n",
      "Test set: Average loss: 0.1027, Accuracy: 4935/4999 (99%)ages: 77  Request Handlers: 0                                \n",
      "\n",
      "♫♫♫ > DUET LIVE STATUS  -  Objects: 0  Requests: 0   Messages: 77  Request Handlers: 0                                Train Epoch: 8 \tLoss: 0.000006\n",
      "♫♫♫ > DUET LIVE STATUS  -  Objects: 0  Requests: 0   Messages: 77  Request Handlers: 0                                Test set: Average loss: 0.1292, Accuracy: 4916/4999 (98%)\n",
      "\n",
      "Train Epoch: 9 \tLoss: 0.003560ects: 1  Requests: 0   Messages: 92  Request Handlers: 0                                \n",
      "♫♫♫ > DUET LIVE STATUS  -  Objects: 0  Requests: 0   Messages: 77  Request Handlers: 0                                Test set: Average loss: 0.1074, Accuracy: 4927/4999 (99%)\n",
      "\n",
      "Train Epoch: 10 \tLoss: 0.000180cts: 0  Requests: 0   Messages: 77  Request Handlers: 0                                \n",
      "♫♫♫ > DUET LIVE STATUS  -  Objects: 0  Requests: 0   Messages: 77  Request Handlers: 0                                Test set: Average loss: 0.1161, Accuracy: 4933/4999 (99%)\n",
      "\n",
      "♫♫♫ > DUET LIVE STATUS  -  Objects: 0  Requests: 0   Messages: 77  Request Handlers: 0                                Train Epoch: 11 \tLoss: 0.000131\n",
      "Test set: Average loss: 0.1707, Accuracy: 4902/4999 (98%)ages: 77  Request Handlers: 0                                \n",
      "\n",
      "♫♫♫ > DUET LIVE STATUS  -  Objects: 0  Requests: 0   Messages: 77  Request Handlers: 0                                Train Epoch: 12 \tLoss: 0.125885\n",
      "Test set: Average loss: 0.1358, Accuracy: 4923/4999 (98%)ages: 77  Request Handlers: 0                                \n",
      "\n",
      "♫♫♫ > DUET LIVE STATUS  -  Objects: 0  Requests: 0   Messages: 77  Request Handlers: 0                                Train Epoch: 13 \tLoss: 0.002172\n",
      "♫♫♫ > DUET LIVE STATUS  -  Objects: 0  Requests: 0   Messages: 77  Request Handlers: 0                                Test set: Average loss: 0.1263, Accuracy: 4928/4999 (99%)\n",
      "\n",
      "Train Epoch: 14 \tLoss: 0.008575cts: 0  Requests: 0   Messages: 77  Request Handlers: 0                                \n",
      "Test set: Average loss: 0.1166, Accuracy: 4935/4999 (99%)ages: 77  Request Handlers: 0                                \n",
      "\n",
      "♫♫♫ > DUET LIVE STATUS  -  Objects: 0  Requests: 0   Messages: 77  Request Handlers: 0                                Train Epoch: 15 \tLoss: 0.000003\n",
      "Test set: Average loss: 0.1180, Accuracy: 4908/4999 (98%)ages: 92  Request Handlers: 0                                \n",
      "\n",
      "Test set: Average loss: 0.1180, Accuracy: 4908/4999 (98%)ages: 92  Request Handlers: 0                                \n",
      "\n",
      "🎤  🎸  ♪♪♪ Starting Duet ♫♫♫  🎻  🎹  Requests: 0   Messages: 92  Request Handlers: 0                                \n",
      "\n",
      "♫♫♫ >\u001b[93m DISCLAIMER\u001b[0m: \u001b[1mDuet is an experimental feature currently in beta.\n",
      "♫♫♫ > Use at your own risk.\n",
      "\u001b[0m\n",
      "\u001b[1m\n",
      "    > ❤️ \u001b[91mLove\u001b[0m \u001b[92mDuet\u001b[0m? \u001b[93mPlease\u001b[0m \u001b[94mconsider\u001b[0m \u001b[95msupporting\u001b[0m \u001b[91mour\u001b[0m \u001b[93mcommunity!\u001b[0m\n",
      "    > https://github.com/sponsors/OpenMined\u001b[1m\n",
      "\n",
      "♫♫♫ > Punching through firewall to OpenGrid Network Node at:s: 77  Request Handlers: 0                                \n",
      "♫♫♫ > http://ec2-18-218-7-180.us-east-2.compute.amazonaws.com:5000\n",
      "♫♫♫ >\n",
      "♫♫♫ > ...waiting for response from OpenGrid Network... \n",
      "♫♫♫ > DUET LIVE STATUS  -  Objects: 1  Requests: 0   Messages: 92  Request Handlers: 0                                ♫♫♫ > \u001b[92mDONE!\u001b[0m\n",
      "\n",
      "♫♫♫ > \u001b[95mSTEP 1:\u001b[0m Send the following code to your Duet Partner!\n",
      "\n",
      "import syft as sy\n",
      "duet = sy.join_duet(loopback=True)\n",
      "\n",
      "♫♫♫ > Connecting...TUS  -  Objects: 1  Requests: 0   Messages: 92  Request Handlers: 0                                \n",
      "♫♫♫ > DUET LIVE STATUS  -  Objects: 0  Requests: 0   Messages: 77  Request Handlers: 0                                \n",
      "♫♫♫ > \u001b[92mCONNECTED!\u001b[0m\n",
      "♫♫♫ > DUET LIVE STATUS  *  Objects: 0  Requests: 0   Messages: 77  Request Handlers: 0                                \n",
      "Test set: Average loss: 0.0683, Accuracy: 4936/4999 (99%)ages: 77  Request Handlers: 0                                                         \n",
      "\n",
      "Train Epoch: 1 \tLoss: 0.013112ects: 0  Requests: 0   Messages: 77  Request Handlers: 0                                \n",
      "Test set: Average loss: 0.1608, Accuracy: 4905/4999 (98%)ages: 77  Request Handlers: 0                                \n",
      "\n",
      "Train Epoch: 2 \tLoss: 0.001460ects: 0  Requests: 0   Messages: 77  Request Handlers: 0                                \n",
      "Test set: Average loss: 0.1044, Accuracy: 4928/4999 (99%)ages: 77  Request Handlers: 0                                \n",
      "\n",
      "Train Epoch: 3 \tLoss: 0.030969ects: 0  Requests: 0   Messages: 77  Request Handlers: 0                                \n",
      "Test set: Average loss: 0.1401, Accuracy: 4915/4999 (98%)ages: 77  Request Handlers: 0                                \n",
      "\n",
      "Train Epoch: 4 \tLoss: 0.000463ects: 0  Requests: 0   Messages: 77  Request Handlers: 0                                \n",
      "Test set: Average loss: 0.0982, Accuracy: 4924/4999 (98%)ages: 77  Request Handlers: 0                                \n",
      "\n",
      "Train Epoch: 5 \tLoss: 0.001339ects: 0  Requests: 0   Messages: 77  Request Handlers: 0                                \n",
      "Test set: Average loss: 0.1060, Accuracy: 4936/4999 (99%)ages: 77  Request Handlers: 0                                \n",
      "\n",
      "Train Epoch: 6 \tLoss: 0.000165ects: 0  Requests: 0   Messages: 77  Request Handlers: 0                                \n",
      "Test set: Average loss: 0.1194, Accuracy: 4920/4999 (98%)ages: 77  Request Handlers: 0                                \n",
      "\n",
      "Train Epoch: 7 \tLoss: 0.000702ects: 0  Requests: 0   Messages: 77  Request Handlers: 0                                \n",
      "Test set: Average loss: 0.0976, Accuracy: 4921/4999 (98%)ages: 77  Request Handlers: 0                                \n",
      "\n",
      "Train Epoch: 8 \tLoss: 0.000735ects: 0  Requests: 0   Messages: 77  Request Handlers: 0                                \n",
      "Test set: Average loss: 0.0955, Accuracy: 4927/4999 (99%)ages: 77  Request Handlers: 0                                \n",
      "\n",
      "Train Epoch: 9 \tLoss: 0.056364ects: 0  Requests: 0   Messages: 77  Request Handlers: 0                                \n",
      "Test set: Average loss: 0.1117, Accuracy: 4923/4999 (98%)ages: 77  Request Handlers: 0                                \n",
      "\n",
      "Train Epoch: 10 \tLoss: 0.024315cts: 0  Requests: 0   Messages: 77  Request Handlers: 0                                \n",
      "Test set: Average loss: 0.0738, Accuracy: 4932/4999 (99%)ages: 77  Request Handlers: 0                                \n",
      "\n",
      "Train Epoch: 11 \tLoss: 0.000015cts: 0  Requests: 0   Messages: 77  Request Handlers: 0                                \n",
      "Test set: Average loss: 0.0996, Accuracy: 4927/4999 (99%)ages: 77  Request Handlers: 0                                \n",
      "\n",
      "Train Epoch: 12 \tLoss: 0.000224cts: 0  Requests: 0   Messages: 77  Request Handlers: 0                                \n",
      "Test set: Average loss: 0.0912, Accuracy: 4936/4999 (99%)ages: 77  Request Handlers: 0                                \n",
      "\n",
      "Train Epoch: 13 \tLoss: 0.000431cts: 0  Requests: 0   Messages: 77  Request Handlers: 0                                \n"
     ]
    },
    {
     "name": "stdout",
     "output_type": "stream",
     "text": [
      "Test set: Average loss: 0.1173, Accuracy: 4928/4999 (99%)ages: 77  Request Handlers: 0                                \n",
      "\n",
      "Train Epoch: 14 \tLoss: 0.017118cts: 0  Requests: 0   Messages: 77  Request Handlers: 0                                \n",
      "Test set: Average loss: 0.1264, Accuracy: 4921/4999 (98%)ages: 77  Request Handlers: 0                                \n",
      "\n",
      "Train Epoch: 15 \tLoss: 0.043007cts: 0  Requests: 0   Messages: 77  Request Handlers: 0                                \n",
      "Test set: Average loss: 0.1347, Accuracy: 4923/4999 (98%)ages: 77  Request Handlers: 0                                \n",
      "\n",
      "🎤  🎸  ♪♪♪ Starting Duet ♫♫♫  🎻  🎹  Requests: 0   Messages: 77  Request Handlers: 0                                \n",
      "\n",
      "♫♫♫ >\u001b[93m DISCLAIMER\u001b[0m: \u001b[1mDuet is an experimental feature currently in beta.\n",
      "♫♫♫ > Use at your own risk.\n",
      "\u001b[0m\n",
      "\u001b[1m\n",
      "    > ❤️ \u001b[91mLove\u001b[0m \u001b[92mDuet\u001b[0m? \u001b[93mPlease\u001b[0m \u001b[94mconsider\u001b[0m \u001b[95msupporting\u001b[0m \u001b[91mour\u001b[0m \u001b[93mcommunity!\u001b[0m\n",
      "    > https://github.com/sponsors/OpenMined\u001b[1m\n",
      "\n",
      "♫♫♫ > DUET LIVE STATUS  -  Objects: 0  Requests: 0   Messages: 77  Request Handlers: 0                                ♫♫♫ > Punching through firewall to OpenGrid Network Node at:\n",
      "♫♫♫ > http://ec2-18-218-7-180.us-east-2.compute.amazonaws.com:5000\n",
      "♫♫♫ >\n",
      "♫♫♫ > ...waiting for response from OpenGrid Network... \n",
      "♫♫♫ > DUET LIVE STATUS  -  Objects: 1  Requests: 0   Messages: 92  Request Handlers: 0                                ♫♫♫ > \u001b[92mDONE!\u001b[0m\n",
      "\n",
      "♫♫♫ > \u001b[95mSTEP 1:\u001b[0m Send the following code to your Duet Partner!\n",
      "\n",
      "import syft as sy\n",
      "duet = sy.join_duet(loopback=True)\n",
      "\n",
      "♫♫♫ > Connecting...TUS  *  Objects: 1  Requests: 0   Messages: 92  Request Handlers: 0                                \n",
      "♫♫♫ > DUET LIVE STATUS  -  Objects: 0  Requests: 0   Messages: 77  Request Handlers: 0                                \n",
      "♫♫♫ > \u001b[92mCONNECTED!\u001b[0m\n",
      "♫♫♫ > DUET LIVE STATUS  -  Objects: 1  Requests: 0   Messages: 92  Request Handlers: 0                                \n",
      "Test set: Average loss: 0.0779, Accuracy: 4948/4999 (99%)ages: 77  Request Handlers: 0                                                         \n",
      "\n",
      "♫♫♫ > DUET LIVE STATUS  -  Objects: 0  Requests: 0   Messages: 77  Request Handlers: 0                                Train Epoch: 1 \tLoss: 0.009754\n",
      "Test set: Average loss: 0.1958, Accuracy: 4934/4999 (99%)ages: 77  Request Handlers: 0                                \n",
      "\n",
      "Train Epoch: 2 \tLoss: 0.000861ects: 0  Requests: 0   Messages: 77  Request Handlers: 0                                \n",
      "♫♫♫ > DUET LIVE STATUS  -  Objects: 0  Requests: 0   Messages: 77  Request Handlers: 0                                Test set: Average loss: 0.1147, Accuracy: 4933/4999 (99%)\n",
      "\n",
      "♫♫♫ > DUET LIVE STATUS  -  Objects: 1  Requests: 0   Messages: 92  Request Handlers: 0                                Train Epoch: 3 \tLoss: 0.000428\n",
      "Test set: Average loss: 0.1066, Accuracy: 4943/4999 (99%)ages: 77  Request Handlers: 0                                \n",
      "\n",
      "Train Epoch: 4 \tLoss: 0.005220ects: 1  Requests: 0   Messages: 92  Request Handlers: 0                                \n",
      "Test set: Average loss: 0.1228, Accuracy: 4937/4999 (99%)ages: 77  Request Handlers: 0                                \n",
      "\n",
      "♫♫♫ > DUET LIVE STATUS  -  Objects: 0  Requests: 0   Messages: 77  Request Handlers: 0                                Train Epoch: 5 \tLoss: 0.122360\n",
      "♫♫♫ > DUET LIVE STATUS  *  Objects: 0  Requests: 0   Messages: 77  Request Handlers: 0                                Test set: Average loss: 0.1096, Accuracy: 4932/4999 (99%)\n",
      "\n",
      "♫♫♫ > DUET LIVE STATUS  *  Objects: 0  Requests: 0   Messages: 77  Request Handlers: 0                                Train Epoch: 6 \tLoss: 0.003313\n",
      "Test set: Average loss: 0.0942, Accuracy: 4931/4999 (99%)ages: 77  Request Handlers: 0                                \n",
      "\n",
      "Train Epoch: 7 \tLoss: 0.002239ects: 0  Requests: 0   Messages: 77  Request Handlers: 0                                \n",
      "Test set: Average loss: 0.1275, Accuracy: 4934/4999 (99%)ages: 77  Request Handlers: 0                                \n",
      "\n",
      "♫♫♫ > DUET LIVE STATUS  -  Objects: 0  Requests: 0   Messages: 77  Request Handlers: 0                                Train Epoch: 8 \tLoss: 0.000040\n",
      "♫♫♫ > DUET LIVE STATUS  -  Objects: 0  Requests: 0   Messages: 77  Request Handlers: 0                                Test set: Average loss: 0.1431, Accuracy: 4930/4999 (99%)\n",
      "\n",
      "♫♫♫ > DUET LIVE STATUS  -  Objects: 0  Requests: 0   Messages: 77  Request Handlers: 0                                Train Epoch: 9 \tLoss: 0.008164\n",
      "♫♫♫ > DUET LIVE STATUS  -  Objects: 0  Requests: 0   Messages: 77  Request Handlers: 0                                Test set: Average loss: 0.1631, Accuracy: 4902/4999 (98%)\n",
      "\n",
      "♫♫♫ > DUET LIVE STATUS  -  Objects: 0  Requests: 0   Messages: 77  Request Handlers: 0                                Train Epoch: 10 \tLoss: 0.030746\n",
      "♫♫♫ > DUET LIVE STATUS  -  Objects: 0  Requests: 0   Messages: 77  Request Handlers: 0                                Test set: Average loss: 0.1798, Accuracy: 4911/4999 (98%)\n",
      "\n",
      "♫♫♫ > DUET LIVE STATUS  -  Objects: 0  Requests: 0   Messages: 77  Request Handlers: 0                                Train Epoch: 11 \tLoss: 0.000258\n",
      "Test set: Average loss: 0.1103, Accuracy: 4910/4999 (98%)ages: 77  Request Handlers: 0                                \n",
      "\n",
      "Train Epoch: 12 \tLoss: 0.000440cts: 0  Requests: 0   Messages: 77  Request Handlers: 0                                \n",
      "Test set: Average loss: 0.1024, Accuracy: 4931/4999 (99%)ages: 77  Request Handlers: 0                                \n",
      "\n",
      "♫♫♫ > DUET LIVE STATUS  *  Objects: 0  Requests: 0   Messages: 77  Request Handlers: 0                                Train Epoch: 13 \tLoss: 0.124843\n",
      "♫♫♫ > DUET LIVE STATUS  *  Objects: 0  Requests: 0   Messages: 77  Request Handlers: 0                                Test set: Average loss: 0.1178, Accuracy: 4927/4999 (99%)\n",
      "\n",
      "Train Epoch: 14 \tLoss: 0.009548cts: 1  Requests: 0   Messages: 92  Request Handlers: 0                                \n",
      "Test set: Average loss: 0.1209, Accuracy: 4929/4999 (99%)ages: 92  Request Handlers: 0                                \n",
      "\n",
      "Train Epoch: 15 \tLoss: 0.000205cts: 0  Requests: 0   Messages: 77  Request Handlers: 0                                \n",
      "Test set: Average loss: 0.1182, Accuracy: 4924/4999 (98%)ages: 77  Request Handlers: 0                                \n",
      "\n",
      "Test set: Average loss: 0.1182, Accuracy: 4924/4999 (98%)ages: 92  Request Handlers: 0                                \n",
      "\n",
      "🎤  🎸  ♪♪♪ Starting Duet ♫♫♫  🎻  🎹  Requests: 0   Messages: 77  Request Handlers: 0                                \n",
      "\n",
      "♫♫♫ >\u001b[93m DISCLAIMER\u001b[0m: \u001b[1mDuet is an experimental feature currently in beta.\n",
      "♫♫♫ > Use at your own risk.\n",
      "\u001b[0m\n",
      "\u001b[1m\n",
      "    > ❤️ \u001b[91mLove\u001b[0m \u001b[92mDuet\u001b[0m? \u001b[93mPlease\u001b[0m \u001b[94mconsider\u001b[0m \u001b[95msupporting\u001b[0m \u001b[91mour\u001b[0m \u001b[93mcommunity!\u001b[0m\n",
      "    > https://github.com/sponsors/OpenMined\u001b[1m\n",
      "\n",
      "♫♫♫ > Punching through firewall to OpenGrid Network Node at:s: 92  Request Handlers: 0                                \n",
      "♫♫♫ > http://ec2-18-218-7-180.us-east-2.compute.amazonaws.com:5000\n",
      "♫♫♫ >\n",
      "♫♫♫ > ...waiting for response from OpenGrid Network... \n",
      "♫♫♫ > \u001b[92mDONE!\u001b[0mUS  *  Objects: 0  Requests: 0   Messages: 77  Request Handlers: 0                                \n",
      "\n",
      "♫♫♫ > \u001b[95mSTEP 1:\u001b[0m Send the following code to your Duet Partner!\n",
      "\n",
      "import syft as sy\n",
      "duet = sy.join_duet(loopback=True)\n",
      "\n",
      "♫♫♫ > Connecting...TUS  *  Objects: 0  Requests: 0   Messages: 77  Request Handlers: 0                                \n",
      "♫♫♫ > DUET LIVE STATUS  *  Objects: 0  Requests: 0   Messages: 77  Request Handlers: 0                                \n",
      "♫♫♫ > \u001b[92mCONNECTED!\u001b[0m\n",
      "♫♫♫ > DUET LIVE STATUS  *  Objects: 0  Requests: 0   Messages: 77  Request Handlers: 0                                \n",
      "Test set: Average loss: 0.0616, Accuracy: 4952/4999 (99%)ages: 77  Request Handlers: 0                                                         \n",
      "\n",
      "Train Epoch: 1 \tLoss: 0.000009ects: 0  Requests: 0   Messages: 77  Request Handlers: 0                                \n",
      "Test set: Average loss: 0.1776, Accuracy: 4932/4999 (99%)ages: 77  Request Handlers: 0                                \n",
      "\n",
      "♫♫♫ > DUET LIVE STATUS  *  Objects: 0  Requests: 0   Messages: 77  Request Handlers: 0                                Train Epoch: 2 \tLoss: 0.000207\n",
      "Test set: Average loss: 0.1325, Accuracy: 4935/4999 (99%)ages: 77  Request Handlers: 0                                \n",
      "\n",
      "♫♫♫ > DUET LIVE STATUS  -  Objects: 0  Requests: 0   Messages: 77  Request Handlers: 0                                Train Epoch: 3 \tLoss: 0.010477\n",
      "♫♫♫ > DUET LIVE STATUS  -  Objects: 0  Requests: 0   Messages: 77  Request Handlers: 0                                Test set: Average loss: 0.1394, Accuracy: 4930/4999 (99%)\n",
      "\n",
      "♫♫♫ > DUET LIVE STATUS  -  Objects: 0  Requests: 0   Messages: 77  Request Handlers: 0                                Train Epoch: 4 \tLoss: 0.000022\n",
      "♫♫♫ > DUET LIVE STATUS  -  Objects: 0  Requests: 0   Messages: 77  Request Handlers: 0                                Test set: Average loss: 0.1356, Accuracy: 4944/4999 (99%)\n",
      "\n",
      "Train Epoch: 5 \tLoss: 0.008938ects: 0  Requests: 0   Messages: 77  Request Handlers: 0                                \n",
      "Test set: Average loss: 0.1157, Accuracy: 4934/4999 (99%)ages: 77  Request Handlers: 0                                \n",
      "\n",
      "♫♫♫ > DUET LIVE STATUS  -  Objects: 1  Requests: 0   Messages: 92  Request Handlers: 0                                Train Epoch: 6 \tLoss: 0.000116\n",
      "Test set: Average loss: 0.1186, Accuracy: 4926/4999 (99%)ages: 77  Request Handlers: 0                                \n",
      "\n",
      "♫♫♫ > DUET LIVE STATUS  *  Objects: 0  Requests: 0   Messages: 77  Request Handlers: 0                                Train Epoch: 7 \tLoss: 0.000032\n",
      "Test set: Average loss: 0.1083, Accuracy: 4935/4999 (99%)ages: 77  Request Handlers: 0                                \n",
      "\n",
      "Train Epoch: 8 \tLoss: 0.000007ects: 0  Requests: 0   Messages: 77  Request Handlers: 0                                \n",
      "♫♫♫ > DUET LIVE STATUS  *  Objects: 0  Requests: 0   Messages: 77  Request Handlers: 0                                Test set: Average loss: 0.1249, Accuracy: 4924/4999 (98%)\n",
      "\n",
      "Train Epoch: 9 \tLoss: 0.000556ects: 0  Requests: 0   Messages: 77  Request Handlers: 0                                \n",
      "Test set: Average loss: 0.1211, Accuracy: 4914/4999 (98%)ages: 77  Request Handlers: 0                                \n",
      "\n",
      "Train Epoch: 10 \tLoss: 0.000004cts: 0  Requests: 0   Messages: 77  Request Handlers: 0                                \n",
      "♫♫♫ > DUET LIVE STATUS  -  Objects: 0  Requests: 0   Messages: 77  Request Handlers: 0                                Test set: Average loss: 0.2011, Accuracy: 4891/4999 (98%)\n",
      "\n",
      "♫♫♫ > DUET LIVE STATUS  *  Objects: 0  Requests: 0   Messages: 77  Request Handlers: 0                                Train Epoch: 11 \tLoss: 0.000029\n",
      "Test set: Average loss: 0.1697, Accuracy: 4911/4999 (98%)ages: 77  Request Handlers: 0                                \n",
      "\n",
      "Train Epoch: 12 \tLoss: 0.004857cts: 0  Requests: 0   Messages: 77  Request Handlers: 0                                \n",
      "Test set: Average loss: 0.1047, Accuracy: 4931/4999 (99%)ages: 77  Request Handlers: 0                                \n",
      "\n",
      "♫♫♫ > DUET LIVE STATUS  *  Objects: 1  Requests: 0   Messages: 92  Request Handlers: 0                                Train Epoch: 13 \tLoss: 0.000163\n",
      "Test set: Average loss: 0.1086, Accuracy: 4929/4999 (99%)ages: 77  Request Handlers: 0                                \n",
      "\n",
      "♫♫♫ > DUET LIVE STATUS  *  Objects: 0  Requests: 0   Messages: 77  Request Handlers: 0                                Train Epoch: 14 \tLoss: 0.000020\n",
      "Test set: Average loss: 0.1248, Accuracy: 4923/4999 (98%)ages: 77  Request Handlers: 0                                \n",
      "\n",
      "Train Epoch: 15 \tLoss: 0.000001cts: 1  Requests: 0   Messages: 92  Request Handlers: 0                                \n",
      "Test set: Average loss: 0.1419, Accuracy: 4934/4999 (99%)ages: 92  Request Handlers: 0                                \n",
      "\n",
      "♫♫♫ > DUET LIVE STATUS  -  Objects: 0  Requests: 0   Messages: 77  Request Handlers: 0                                Test set: Average loss: 0.1419, Accuracy: 4934/4999 (99%)\n",
      "\n",
      "🎤  🎸  ♪♪♪ Starting Duet ♫♫♫  🎻  🎹  Requests: 0   Messages: 77  Request Handlers: 0                                \n",
      "\n",
      "♫♫♫ >\u001b[93m DISCLAIMER\u001b[0m: \u001b[1mDuet is an experimental feature currently in beta.\n",
      "♫♫♫ > Use at your own risk.\n",
      "\u001b[0m\n",
      "\u001b[1m\n",
      "    > ❤️ \u001b[91mLove\u001b[0m \u001b[92mDuet\u001b[0m? \u001b[93mPlease\u001b[0m \u001b[94mconsider\u001b[0m \u001b[95msupporting\u001b[0m \u001b[91mour\u001b[0m \u001b[93mcommunity!\u001b[0m\n",
      "    > https://github.com/sponsors/OpenMined\u001b[1m\n",
      "\n",
      "♫♫♫ > Punching through firewall to OpenGrid Network Node at:s: 77  Request Handlers: 0                                \n",
      "♫♫♫ > http://ec2-18-218-7-180.us-east-2.compute.amazonaws.com:5000\n",
      "♫♫♫ >\n",
      "♫♫♫ > ...waiting for response from OpenGrid Network... \n",
      "♫♫♫ > \u001b[92mDONE!\u001b[0mUS  *  Objects: 0  Requests: 0   Messages: 77  Request Handlers: 0                                \n",
      "\n",
      "♫♫♫ > \u001b[95mSTEP 1:\u001b[0m Send the following code to your Duet Partner!\n",
      "\n",
      "import syft as sy\n",
      "duet = sy.join_duet(loopback=True)\n",
      "\n",
      "♫♫♫ > Connecting...TUS  *  Objects: 0  Requests: 0   Messages: 77  Request Handlers: 0                                \n",
      "♫♫♫ > DUET LIVE STATUS  *  Objects: 0  Requests: 0   Messages: 77  Request Handlers: 0                                \n",
      "♫♫♫ > \u001b[92mCONNECTED!\u001b[0m\n",
      "♫♫♫ > DUET LIVE STATUS  *  Objects: 0  Requests: 0   Messages: 77  Request Handlers: 0                                \n",
      "♫♫♫ > DUET LIVE STATUS  *  Objects: 0  Requests: 0   Messages: 77  Request Handlers: 0                                                         Test set: Average loss: 0.0702, Accuracy: 4955/4999 (99%)\n",
      "\n",
      "Train Epoch: 1 \tLoss: 0.001599ects: 0  Requests: 0   Messages: 77  Request Handlers: 0                                \n",
      "♫♫♫ > DUET LIVE STATUS  -  Objects: 0  Requests: 0   Messages: 77  Request Handlers: 0                                Test set: Average loss: 0.1442, Accuracy: 4938/4999 (99%)\n",
      "\n",
      "♫♫♫ > DUET LIVE STATUS  -  Objects: 0  Requests: 0   Messages: 77  Request Handlers: 0                                Train Epoch: 2 \tLoss: 0.000114\n",
      "Test set: Average loss: 0.1089, Accuracy: 4934/4999 (99%)ages: 77  Request Handlers: 0                                \n",
      "\n",
      "Train Epoch: 3 \tLoss: 0.000010ects: 0  Requests: 0   Messages: 77  Request Handlers: 0                                \n",
      "Test set: Average loss: 0.1199, Accuracy: 4937/4999 (99%)ages: 77  Request Handlers: 0                                \n",
      "\n",
      "Train Epoch: 4 \tLoss: 0.000001ects: 0  Requests: 0   Messages: 77  Request Handlers: 0                                \n",
      "Test set: Average loss: 0.1429, Accuracy: 4931/4999 (99%)ages: 77  Request Handlers: 0                                \n",
      "\n",
      "Train Epoch: 5 \tLoss: 0.000098ects: 0  Requests: 0   Messages: 77  Request Handlers: 0                                \n",
      "Test set: Average loss: 0.1572, Accuracy: 4935/4999 (99%)ages: 77  Request Handlers: 0                                \n",
      "\n",
      "Train Epoch: 6 \tLoss: 0.000013ects: 1  Requests: 0   Messages: 92  Request Handlers: 0                                \n",
      "Test set: Average loss: 0.1334, Accuracy: 4928/4999 (99%)ages: 77  Request Handlers: 0                                \n",
      "\n",
      "Train Epoch: 7 \tLoss: 0.197326ects: 0  Requests: 0   Messages: 77  Request Handlers: 0                                \n",
      "Test set: Average loss: 0.1812, Accuracy: 4935/4999 (99%)ages: 77  Request Handlers: 0                                \n",
      "\n",
      "Train Epoch: 8 \tLoss: 0.000000ects: 0  Requests: 0   Messages: 77  Request Handlers: 0                                \n",
      "Test set: Average loss: 0.1864, Accuracy: 4921/4999 (98%)ages: 77  Request Handlers: 0                                \n",
      "\n",
      "Train Epoch: 9 \tLoss: 0.000008ects: 0  Requests: 0   Messages: 77  Request Handlers: 0                                \n",
      "Test set: Average loss: 0.1259, Accuracy: 4940/4999 (99%)ages: 92  Request Handlers: 0                                \n",
      "\n",
      "♫♫♫ > DUET LIVE STATUS  -  Objects: 0  Requests: 0   Messages: 77  Request Handlers: 0                                Train Epoch: 10 \tLoss: 0.000215\n",
      "♫♫♫ > DUET LIVE STATUS  -  Objects: 0  Requests: 0   Messages: 77  Request Handlers: 0                                Test set: Average loss: 0.0938, Accuracy: 4946/4999 (99%)\n",
      "\n",
      "Train Epoch: 11 \tLoss: 0.000203cts: 0  Requests: 0   Messages: 77  Request Handlers: 0                                \n"
     ]
    },
    {
     "name": "stdout",
     "output_type": "stream",
     "text": [
      "Test set: Average loss: 0.1341, Accuracy: 4918/4999 (98%)ages: 77  Request Handlers: 0                                \n",
      "\n",
      "Train Epoch: 12 \tLoss: 0.000005cts: 0  Requests: 0   Messages: 77  Request Handlers: 0                                \n",
      "Test set: Average loss: 0.1436, Accuracy: 4922/4999 (98%)ages: 77  Request Handlers: 0                                \n",
      "\n",
      "♫♫♫ > DUET LIVE STATUS  -  Objects: 0  Requests: 0   Messages: 77  Request Handlers: 0                                Train Epoch: 13 \tLoss: 0.000842\n",
      "Test set: Average loss: 0.1324, Accuracy: 4919/4999 (98%)ages: 77  Request Handlers: 0                                \n",
      "\n",
      "Train Epoch: 14 \tLoss: 0.000010cts: 0  Requests: 0   Messages: 77  Request Handlers: 0                                \n",
      "♫♫♫ > DUET LIVE STATUS  *  Objects: 0  Requests: 0   Messages: 77  Request Handlers: 0                                Test set: Average loss: 0.1671, Accuracy: 4924/4999 (98%)\n",
      "\n",
      "♫♫♫ > DUET LIVE STATUS  *  Objects: 0  Requests: 0   Messages: 77  Request Handlers: 0                                Train Epoch: 15 \tLoss: 0.000006\n",
      "Test set: Average loss: 0.1114, Accuracy: 4931/4999 (99%)ages: 77  Request Handlers: 0                                \n",
      "\n",
      "♫♫♫ > DUET LIVE STATUS  -  Objects: 0  Requests: 0   Messages: 77  Request Handlers: 0                                Test set: Average loss: 0.1114, Accuracy: 4931/4999 (99%)\n",
      "\n",
      "Saving time: 0.004998922348022461 secondsquests: 0   Messages: 77  Request Handlers: 0                                \n",
      "♫♫♫ > DUET LIVE STATUS  *  Objects: 1  Requests: 0   Messages: 92  Request Handlers: 0                                🎤  🎸  ♪♪♪ Starting Duet ♫♫♫  🎻  🎹\n",
      "\n",
      "♫♫♫ >\u001b[93m DISCLAIMER\u001b[0m: \u001b[1mDuet is an experimental feature currently in beta.\n",
      "♫♫♫ > Use at your own risk.\n",
      "\u001b[0m\n",
      "\u001b[1m\n",
      "    > ❤️ \u001b[91mLove\u001b[0m \u001b[92mDuet\u001b[0m? \u001b[93mPlease\u001b[0m \u001b[94mconsider\u001b[0m \u001b[95msupporting\u001b[0m \u001b[91mour\u001b[0m \u001b[93mcommunity!\u001b[0m\n",
      "    > https://github.com/sponsors/OpenMined\u001b[1m\n",
      "\n",
      "♫♫♫ > Punching through firewall to OpenGrid Network Node at:s: 77  Request Handlers: 0                                \n",
      "♫♫♫ > http://ec2-18-218-7-180.us-east-2.compute.amazonaws.com:5000\n",
      "♫♫♫ >\n",
      "♫♫♫ > ...waiting for response from OpenGrid Network... \n",
      "♫♫♫ > \u001b[92mDONE!\u001b[0mUS  -  Objects: 0  Requests: 0   Messages: 77  Request Handlers: 0                                \n",
      "\n",
      "♫♫♫ > \u001b[95mSTEP 1:\u001b[0m Send the following code to your Duet Partner!\n",
      "\n",
      "import syft as sy\n",
      "duet = sy.join_duet(loopback=True)\n",
      "\n",
      "♫♫♫ > DUET LIVE STATUS  -  Objects: 0  Requests: 0   Messages: 77  Request Handlers: 0                                ♫♫♫ > Connecting...\n",
      "♫♫♫ > DUET LIVE STATUS  *  Objects: 0  Requests: 0   Messages: 77  Request Handlers: 0                                \n",
      "♫♫♫ > DUET LIVE STATUS  -  Objects: 0  Requests: 0   Messages: 77  Request Handlers: 0                                ♫♫♫ > \u001b[92mCONNECTED!\u001b[0m\n",
      "\n",
      "♫♫♫ > DUET LIVE STATUS  *  Objects: 0  Requests: 0   Messages: 77  Request Handlers: 0                                                         Test set: Average loss: 0.0631, Accuracy: 4956/4999 (99%)\n",
      "\n",
      "♫♫♫ > DUET LIVE STATUS  -  Objects: 1  Requests: 0   Messages: 92  Request Handlers: 0                                Train Epoch: 1 \tLoss: 0.000024\n",
      "♫♫♫ > DUET LIVE STATUS  -  Objects: 0  Requests: 0   Messages: 77  Request Handlers: 0                                Test set: Average loss: 0.2107, Accuracy: 4921/4999 (98%)\n",
      "\n",
      "♫♫♫ > DUET LIVE STATUS  -  Objects: 0  Requests: 0   Messages: 77  Request Handlers: 0                                Train Epoch: 2 \tLoss: 0.022639\n",
      "♫♫♫ > DUET LIVE STATUS  -  Objects: 1  Requests: 0   Messages: 92  Request Handlers: 0                                Test set: Average loss: 0.1583, Accuracy: 4935/4999 (99%)\n",
      "\n",
      "♫♫♫ > DUET LIVE STATUS  -  Objects: 0  Requests: 0   Messages: 77  Request Handlers: 0                                Train Epoch: 3 \tLoss: 0.001390\n",
      "♫♫♫ > DUET LIVE STATUS  -  Objects: 0  Requests: 0   Messages: 77  Request Handlers: 0                                Test set: Average loss: 0.1925, Accuracy: 4934/4999 (99%)\n",
      "\n",
      "Train Epoch: 4 \tLoss: 0.000545ects: 0  Requests: 0   Messages: 77  Request Handlers: 0                                \n",
      "Test set: Average loss: 0.2374, Accuracy: 4931/4999 (99%)ages: 92  Request Handlers: 0                                \n",
      "\n",
      "♫♫♫ > DUET LIVE STATUS  *  Objects: 0  Requests: 0   Messages: 77  Request Handlers: 0                                Train Epoch: 5 \tLoss: 0.000731\n",
      "Test set: Average loss: 0.1681, Accuracy: 4929/4999 (99%)ages: 77  Request Handlers: 0                                \n",
      "\n",
      "Train Epoch: 6 \tLoss: 0.001370ects: 0  Requests: 0   Messages: 77  Request Handlers: 0                                \n",
      "Test set: Average loss: 0.2753, Accuracy: 4875/4999 (98%)ages: 77  Request Handlers: 0                                \n",
      "\n",
      "♫♫♫ > DUET LIVE STATUS  *  Objects: 0  Requests: 0   Messages: 77  Request Handlers: 0                                Train Epoch: 7 \tLoss: 0.000870\n",
      "Test set: Average loss: 0.2683, Accuracy: 4913/4999 (98%)ages: 92  Request Handlers: 0                                \n",
      "\n",
      "Train Epoch: 8 \tLoss: 0.068925ects: 0  Requests: 0   Messages: 77  Request Handlers: 0                                \n",
      "♫♫♫ > DUET LIVE STATUS  -  Objects: 1  Requests: 0   Messages: 92  Request Handlers: 0                                Test set: Average loss: 0.2514, Accuracy: 4928/4999 (99%)\n",
      "\n",
      "Train Epoch: 9 \tLoss: 0.000001ects: 0  Requests: 0   Messages: 77  Request Handlers: 0                                \n",
      "♫♫♫ > DUET LIVE STATUS  -  Objects: 0  Requests: 0   Messages: 77  Request Handlers: 0                                Test set: Average loss: 0.1936, Accuracy: 4922/4999 (98%)\n",
      "\n",
      "Train Epoch: 10 \tLoss: 0.000306cts: 0  Requests: 0   Messages: 77  Request Handlers: 0                                \n",
      "Test set: Average loss: 0.1297, Accuracy: 4927/4999 (99%)ages: 77  Request Handlers: 0                                \n",
      "\n",
      "Train Epoch: 11 \tLoss: 0.000625cts: 0  Requests: 0   Messages: 77  Request Handlers: 0                                \n",
      "♫♫♫ > DUET LIVE STATUS  *  Objects: 0  Requests: 0   Messages: 77  Request Handlers: 0                                Test set: Average loss: 0.2360, Accuracy: 4932/4999 (99%)\n",
      "\n",
      "♫♫♫ > DUET LIVE STATUS  -  Objects: 1  Requests: 0   Messages: 92  Request Handlers: 0                                Train Epoch: 12 \tLoss: 0.000001\n",
      "Test set: Average loss: 0.1700, Accuracy: 4922/4999 (98%)ages: 77  Request Handlers: 0                                \n",
      "\n",
      "Train Epoch: 13 \tLoss: 0.000005cts: 0  Requests: 0   Messages: 77  Request Handlers: 0                                \n",
      "Test set: Average loss: 0.1667, Accuracy: 4928/4999 (99%)ages: 92  Request Handlers: 0                                \n",
      "\n",
      "Train Epoch: 14 \tLoss: 0.000598cts: 0  Requests: 0   Messages: 77  Request Handlers: 0                                \n",
      "Test set: Average loss: 0.1672, Accuracy: 4939/4999 (99%)ages: 77  Request Handlers: 0                                \n",
      "\n",
      "Train Epoch: 15 \tLoss: 0.000623cts: 0  Requests: 0   Messages: 77  Request Handlers: 0                                \n",
      "♫♫♫ > DUET LIVE STATUS  *  Objects: 0  Requests: 0   Messages: 77  Request Handlers: 0                                Test set: Average loss: 0.2174, Accuracy: 4925/4999 (99%)\n",
      "\n",
      "Test set: Average loss: 0.2174, Accuracy: 4925/4999 (99%)ages: 77  Request Handlers: 0                                \n",
      "\n",
      "♫♫♫ > DUET LIVE STATUS  -  Objects: 0  Requests: 0   Messages: 77  Request Handlers: 0                                🎤  🎸  ♪♪♪ Starting Duet ♫♫♫  🎻  🎹\n",
      "\n",
      "♫♫♫ >\u001b[93m DISCLAIMER\u001b[0m: \u001b[1mDuet is an experimental feature currently in beta.\n",
      "♫♫♫ > Use at your own risk.\n",
      "\u001b[0m\n",
      "\u001b[1m\n",
      "    > ❤️ \u001b[91mLove\u001b[0m \u001b[92mDuet\u001b[0m? \u001b[93mPlease\u001b[0m \u001b[94mconsider\u001b[0m \u001b[95msupporting\u001b[0m \u001b[91mour\u001b[0m \u001b[93mcommunity!\u001b[0m\n",
      "    > https://github.com/sponsors/OpenMined\u001b[1m\n",
      "\n",
      "♫♫♫ > Punching through firewall to OpenGrid Network Node at:s: 77  Request Handlers: 0                                \n",
      "♫♫♫ > http://ec2-18-218-7-180.us-east-2.compute.amazonaws.com:5000\n",
      "♫♫♫ >\n",
      "♫♫♫ > ...waiting for response from OpenGrid Network... \n",
      "♫♫♫ > \u001b[92mDONE!\u001b[0mUS  *  Objects: 0  Requests: 0   Messages: 77  Request Handlers: 0                                \n",
      "\n",
      "♫♫♫ > \u001b[95mSTEP 1:\u001b[0m Send the following code to your Duet Partner!\n",
      "\n",
      "import syft as sy\n",
      "duet = sy.join_duet(loopback=True)\n",
      "\n"
     ]
    },
    {
     "name": "stdout",
     "output_type": "stream",
     "text": [
      "♫♫♫ > Connecting...TUS  -  Objects: 0  Requests: 0   Messages: 77  Request Handlers: 0                                \n",
      "♫♫♫ > DUET LIVE STATUS  -  Objects: 1  Requests: 0   Messages: 92  Request Handlers: 0                                \n",
      "♫♫♫ > \u001b[92mCONNECTED!\u001b[0m\n",
      "♫♫♫ > DUET LIVE STATUS  *  Objects: 0  Requests: 0   Messages: 77  Request Handlers: 0                                \n",
      "♫♫♫ > DUET LIVE STATUS  -  Objects: 0  Requests: 0   Messages: 77  Request Handlers: 0                                                         Test set: Average loss: 0.1277, Accuracy: 4946/4999 (99%)\n",
      "\n",
      "♫♫♫ > DUET LIVE STATUS  *  Objects: 0  Requests: 0   Messages: 77  Request Handlers: 0                                "
     ]
    }
   ],
   "source": [
    "duet = sy.launch_duet(loopback=True)"
   ]
  },
  {
   "cell_type": "code",
   "execution_count": 21,
   "metadata": {},
   "outputs": [
    {
     "data": {
      "text/html": [
       "<div>\n",
       "<style scoped>\n",
       "    .dataframe tbody tr th:only-of-type {\n",
       "        vertical-align: middle;\n",
       "    }\n",
       "\n",
       "    .dataframe tbody tr th {\n",
       "        vertical-align: top;\n",
       "    }\n",
       "\n",
       "    .dataframe thead th {\n",
       "        text-align: right;\n",
       "    }\n",
       "</style>\n",
       "<table border=\"1\" class=\"dataframe\">\n",
       "  <thead>\n",
       "    <tr style=\"text-align: right;\">\n",
       "      <th></th>\n",
       "      <th>ID</th>\n",
       "      <th>Tags</th>\n",
       "      <th>Description</th>\n",
       "      <th>object_type</th>\n",
       "    </tr>\n",
       "  </thead>\n",
       "  <tbody>\n",
       "    <tr>\n",
       "      <th>0</th>\n",
       "      <td>&lt;UID: 6e250407ddf14cb5abff44105ec3fd3e&gt;</td>\n",
       "      <td>[ctx]</td>\n",
       "      <td></td>\n",
       "      <td>&lt;class 'tenseal.enc_context.Context'&gt;</td>\n",
       "    </tr>\n",
       "  </tbody>\n",
       "</table>\n",
       "</div>"
      ],
      "text/plain": [
       "                                        ID   Tags Description  \\\n",
       "0  <UID: 6e250407ddf14cb5abff44105ec3fd3e>  [ctx]               \n",
       "\n",
       "                             object_type  \n",
       "0  <class 'tenseal.enc_context.Context'>  "
      ]
     },
     "execution_count": 21,
     "metadata": {},
     "output_type": "execute_result"
    }
   ],
   "source": [
    "duet.store.pandas"
   ]
  },
  {
   "cell_type": "code",
   "execution_count": 22,
   "metadata": {},
   "outputs": [
    {
     "name": "stdout",
     "output_type": "stream",
     "text": [
      "Take context time: 5.96501350402832 seconds\n"
     ]
    }
   ],
   "source": [
    "start = time.time()\n",
    "\n",
    "context = duet.store[\"ctx\"].get(delete_obj=False)\n",
    "\n",
    "end = time.time()\n",
    "print(f\"Take context time: {float(end - start)} seconds\")"
   ]
  },
  {
   "cell_type": "code",
   "execution_count": 19,
   "metadata": {},
   "outputs": [
    {
     "name": "stdout",
     "output_type": "stream",
     "text": [
      "Create context time: 2.071998357772827 seconds\n"
     ]
    }
   ],
   "source": [
    "print(f\"Create context time: {float(end - start)} seconds\")"
   ]
  },
  {
   "cell_type": "code",
   "execution_count": 30,
   "metadata": {},
   "outputs": [],
   "source": [
    "start = time.time()\n",
    "\n",
    "ctx_ptr = ctx.send(duet, pointable=True, tags=[\"owner_ctx\"])\n",
    "\n",
    "end = time.time()"
   ]
  },
  {
   "cell_type": "code",
   "execution_count": 31,
   "metadata": {},
   "outputs": [
    {
     "name": "stdout",
     "output_type": "stream",
     "text": [
      "Send context time: 6.606003046035767 seconds\n"
     ]
    }
   ],
   "source": [
    "print(f\"Send context time: {float(end - start)} seconds\")"
   ]
  },
  {
   "cell_type": "code",
   "execution_count": 32,
   "metadata": {
    "scrolled": false,
    "tags": []
   },
   "outputs": [
    {
     "data": {
      "text/html": [
       "<div>\n",
       "<style scoped>\n",
       "    .dataframe tbody tr th:only-of-type {\n",
       "        vertical-align: middle;\n",
       "    }\n",
       "\n",
       "    .dataframe tbody tr th {\n",
       "        vertical-align: top;\n",
       "    }\n",
       "\n",
       "    .dataframe thead th {\n",
       "        text-align: right;\n",
       "    }\n",
       "</style>\n",
       "<table border=\"1\" class=\"dataframe\">\n",
       "  <thead>\n",
       "    <tr style=\"text-align: right;\">\n",
       "      <th></th>\n",
       "      <th>ID</th>\n",
       "      <th>Tags</th>\n",
       "      <th>Description</th>\n",
       "      <th>object_type</th>\n",
       "    </tr>\n",
       "  </thead>\n",
       "  <tbody>\n",
       "    <tr>\n",
       "      <th>0</th>\n",
       "      <td>&lt;UID: 6e250407ddf14cb5abff44105ec3fd3e&gt;</td>\n",
       "      <td>[ctx]</td>\n",
       "      <td></td>\n",
       "      <td>&lt;class 'tenseal.enc_context.Context'&gt;</td>\n",
       "    </tr>\n",
       "    <tr>\n",
       "      <th>1</th>\n",
       "      <td>&lt;UID: 7b077ba81aa44387a4b2bdf077404306&gt;</td>\n",
       "      <td>[owner_ctx]</td>\n",
       "      <td></td>\n",
       "      <td>&lt;class 'tenseal.enc_context.Context'&gt;</td>\n",
       "    </tr>\n",
       "  </tbody>\n",
       "</table>\n",
       "</div>"
      ],
      "text/plain": [
       "                                        ID         Tags Description  \\\n",
       "0  <UID: 6e250407ddf14cb5abff44105ec3fd3e>        [ctx]               \n",
       "1  <UID: 7b077ba81aa44387a4b2bdf077404306>  [owner_ctx]               \n",
       "\n",
       "                             object_type  \n",
       "0  <class 'tenseal.enc_context.Context'>  \n",
       "1  <class 'tenseal.enc_context.Context'>  "
      ]
     },
     "execution_count": 32,
     "metadata": {},
     "output_type": "execute_result"
    },
    {
     "name": "stderr",
     "output_type": "stream",
     "text": [
      "[2021-07-26T16:42:06.168485+0700][CRITICAL][logger]][11484] You do not have permission to .get() Object with ID: <UID: 7b077ba81aa44387a4b2bdf077404306>Please submit a request.\n",
      "[2021-07-26T16:42:06.171458+0700][CRITICAL][logger]][11484] You do not have permission to .get() Object with ID: <UID: 7b077ba81aa44387a4b2bdf077404306>Please submit a request.\n"
     ]
    }
   ],
   "source": [
    "duet.store.pandas"
   ]
  },
  {
   "cell_type": "code",
   "execution_count": 33,
   "metadata": {},
   "outputs": [
    {
     "data": {
      "text/html": [
       "<div>\n",
       "<style scoped>\n",
       "    .dataframe tbody tr th:only-of-type {\n",
       "        vertical-align: middle;\n",
       "    }\n",
       "\n",
       "    .dataframe tbody tr th {\n",
       "        vertical-align: top;\n",
       "    }\n",
       "\n",
       "    .dataframe thead th {\n",
       "        text-align: right;\n",
       "    }\n",
       "</style>\n",
       "<table border=\"1\" class=\"dataframe\">\n",
       "  <thead>\n",
       "    <tr style=\"text-align: right;\">\n",
       "      <th></th>\n",
       "      <th>Requested Object's tags</th>\n",
       "      <th>Reason</th>\n",
       "      <th>Request ID</th>\n",
       "      <th>Requested Object's ID</th>\n",
       "      <th>Requested Object's type</th>\n",
       "    </tr>\n",
       "  </thead>\n",
       "  <tbody>\n",
       "    <tr>\n",
       "      <th>0</th>\n",
       "      <td>[owner_ctx]</td>\n",
       "      <td>I would like to get the context</td>\n",
       "      <td>&lt;UID: 07e8e5e09e1c44b1875231e1e86477fa&gt;</td>\n",
       "      <td>&lt;UID: 7b077ba81aa44387a4b2bdf077404306&gt;</td>\n",
       "      <td>&lt;class 'tenseal.enc_context.Context'&gt;</td>\n",
       "    </tr>\n",
       "  </tbody>\n",
       "</table>\n",
       "</div>"
      ],
      "text/plain": [
       "  Requested Object's tags                           Reason  \\\n",
       "0             [owner_ctx]  I would like to get the context   \n",
       "\n",
       "                                Request ID  \\\n",
       "0  <UID: 07e8e5e09e1c44b1875231e1e86477fa>   \n",
       "\n",
       "                     Requested Object's ID  \\\n",
       "0  <UID: 7b077ba81aa44387a4b2bdf077404306>   \n",
       "\n",
       "                 Requested Object's type  \n",
       "0  <class 'tenseal.enc_context.Context'>  "
      ]
     },
     "execution_count": 33,
     "metadata": {},
     "output_type": "execute_result"
    }
   ],
   "source": [
    "duet.requests.pandas"
   ]
  },
  {
   "cell_type": "code",
   "execution_count": 34,
   "metadata": {},
   "outputs": [],
   "source": [
    "duet.requests[0].accept()"
   ]
  },
  {
   "cell_type": "markdown",
   "metadata": {},
   "source": [
    "### Training model"
   ]
  },
  {
   "cell_type": "code",
   "execution_count": 261,
   "metadata": {
    "scrolled": true
   },
   "outputs": [
    {
     "name": "stdout",
     "output_type": "stream",
     "text": [
      "\r"
     ]
    }
   ],
   "source": [
    "start = time.time()\n",
    "\n",
    "optimizerLR = optim.Adam(model.parameters(), lr=0.001)\n",
    "for epoch in range(1, 16):\n",
    "    train(model, device, train_loader, optimizerLR, epoch)\n",
    "    test(model, device, test_loader)\n",
    "    \n",
    "end = time.time()"
   ]
  },
  {
   "cell_type": "code",
   "execution_count": 262,
   "metadata": {},
   "outputs": [
    {
     "name": "stdout",
     "output_type": "stream",
     "text": [
      "Training time: 35.555328369140625 seconds\n"
     ]
    },
    {
     "name": "stderr",
     "output_type": "stream",
     "text": [
      "Exception in callback Transaction.__retry()\n",
      "handle: <TimerHandle when=253132.062 Transaction.__retry()>\n",
      "Traceback (most recent call last):\n",
      "  File \"C:\\Users\\dells\\anaconda3\\lib\\asyncio\\events.py\", line 81, in _run\n",
      "    self._context.run(self._callback, *self._args)\n",
      "  File \"C:\\Users\\dells\\anaconda3\\lib\\site-packages\\aioice\\stun.py\", line 306, in __retry\n",
      "    self.__future.set_exception(TransactionTimeout())\n",
      "  File \"C:\\Users\\dells\\anaconda3\\lib\\asyncio\\futures.py\", line 246, in set_exception\n",
      "    raise exceptions.InvalidStateError(f'{self._state}: {self!r}')\n",
      "asyncio.exceptions.InvalidStateError: FINISHED: <Future finished result=(Message(messa...bp!\\xd8E\\x07'), ('192.168.2.1', 63178))>\n"
     ]
    }
   ],
   "source": [
    "print(f\"Training time: {float(end - start)} seconds\")  "
   ]
  },
  {
   "cell_type": "code",
   "execution_count": 263,
   "metadata": {},
   "outputs": [
    {
     "name": "stdout",
     "output_type": "stream",
     "text": [
      "\r"
     ]
    },
    {
     "data": {
      "text/plain": [
       "(0.21738856102050533, 4925, 98.51970394078816)"
      ]
     },
     "execution_count": 263,
     "metadata": {},
     "output_type": "execute_result"
    }
   ],
   "source": [
    "test(model, device, test_loader)"
   ]
  },
  {
   "cell_type": "code",
   "execution_count": 264,
   "metadata": {},
   "outputs": [],
   "source": [
    "start = time.time()\n",
    "\n",
    "torch.save(model.state_dict(), \"mnist_ann2.pt\")\n",
    "\n",
    "end = time.time()"
   ]
  },
  {
   "cell_type": "code",
   "execution_count": 265,
   "metadata": {},
   "outputs": [
    {
     "name": "stdout",
     "output_type": "stream",
     "text": [
      "Saving time: 0.007018089294433594 seconds\n"
     ]
    }
   ],
   "source": [
    "print(f\"Saving time: {float(end - start)} seconds\")  "
   ]
  },
  {
   "cell_type": "code",
   "execution_count": 266,
   "metadata": {},
   "outputs": [],
   "source": [
    "start = time.time()\n",
    "\n",
    "load_model = torch.load('mnist_ann2.pt')\n",
    "\n",
    "end = time.time()"
   ]
  },
  {
   "cell_type": "code",
   "execution_count": 267,
   "metadata": {},
   "outputs": [
    {
     "name": "stdout",
     "output_type": "stream",
     "text": [
      "Load params time: 0.01300048828125 seconds\n"
     ]
    }
   ],
   "source": [
    "print(f\"Load params time: {float(end - start)} seconds\")"
   ]
  },
  {
   "cell_type": "code",
   "execution_count": 268,
   "metadata": {},
   "outputs": [],
   "source": [
    "start = time.time()\n",
    "\n",
    "fc1_weight = load_model[\"fc1.weight\"].tolist()\n",
    "fc1_bias = load_model[\"fc1.bias\"].tolist()\n",
    "\n",
    "fc2_weight = load_model[\"fc2.weight\"].tolist()\n",
    "fc2_bias = load_model[\"fc2.bias\"].tolist()\n",
    "\n",
    "fc3_weight = load_model[\"fc3.weight\"].tolist()\n",
    "fc3_bias = load_model[\"fc3.bias\"].tolist()\n",
    "\n",
    "fc4_weight = load_model[\"fc4.weight\"].tolist()\n",
    "fc4_bias = load_model[\"fc4.bias\"].tolist()\n",
    "\n",
    "end = time.time()\n"
   ]
  },
  {
   "cell_type": "code",
   "execution_count": 269,
   "metadata": {
    "scrolled": true
   },
   "outputs": [
    {
     "name": "stdout",
     "output_type": "stream",
     "text": [
      "Take w+b time: 0.005999326705932617 seconds\n"
     ]
    }
   ],
   "source": [
    "print(f\"Take w+b time: {float(end - start)} seconds\")"
   ]
  },
  {
   "cell_type": "code",
   "execution_count": 270,
   "metadata": {},
   "outputs": [],
   "source": [
    "start = time.time()\n",
    "\n",
    "enc_fc1_weight = [[] for i in range(128)]\n",
    "enc_fc2_weight = [[] for i in range(64)]\n",
    "enc_fc3_weight = [[] for i in range(32)]\n",
    "enc_fc4_weight = [[] for i in range(10)]\n",
    "\n",
    "#encrypt fc1 layer\n",
    "for i in range(len(fc1_weight)):\n",
    "    x = ts.ckks_vector(context, fc1_weight[i])\n",
    "    enc_fc1_weight[i] = x\n",
    "enc_fc1_bias = ts.ckks_vector(context, fc1_bias)\n",
    "\n",
    "#encrypt fc2 layer\n",
    "for i in range(len(fc2_weight)):\n",
    "    x = ts.ckks_vector(context, fc2_weight[i])\n",
    "    enc_fc2_weight[i] = x\n",
    "enc_fc2_bias = ts.ckks_vector(context, fc2_bias)\n",
    "\n",
    "#encrypt fc3 layer\n",
    "for i in range(len(fc3_weight)):\n",
    "    x = ts.ckks_vector(context, fc3_weight[i])\n",
    "    enc_fc3_weight[i] = x\n",
    "enc_fc3_bias = ts.ckks_vector(context, fc3_bias)\n",
    "\n",
    "#encrypt fc4 layer\n",
    "for i in range(len(fc4_weight)):\n",
    "    x = ts.ckks_vector(context, fc4_weight[i])\n",
    "    enc_fc4_weight[i] = x\n",
    "enc_fc4_bias = ts.ckks_vector(context, fc4_bias)\n",
    "\n",
    "end = time.time()"
   ]
  },
  {
   "cell_type": "code",
   "execution_count": 271,
   "metadata": {},
   "outputs": [
    {
     "name": "stdout",
     "output_type": "stream",
     "text": [
      "Encrypt time: 3.039299488067627 seconds\n"
     ]
    }
   ],
   "source": [
    "print(f\"Encrypt time: {float(end - start)} seconds\")"
   ]
  },
  {
   "cell_type": "code",
   "execution_count": 272,
   "metadata": {
    "scrolled": true
   },
   "outputs": [
    {
     "data": {
      "image/png": "[encoded data removed]",
      "text/plain": [
       "<IPython.core.display.Image object>"
      ]
     },
     "metadata": {
      "image/png": {
       "unconfined": true,
       "width": 400
      }
     },
     "output_type": "display_data"
    }
   ],
   "source": [
    "duet = sy.launch_duet(loopback=True)"
   ]
  },
  {
   "cell_type": "code",
   "execution_count": 273,
   "metadata": {},
   "outputs": [],
   "source": [
    "start = time.time()\n",
    "\n",
    "enc_fc1_weight_ptr = sy.lib.python.List(enc_fc1_weight).send(duet, pointable=True, tags=[\"enc_fc1_weight\"])\n",
    "enc_fc1_bias_ptr = enc_fc1_bias.send(duet, pointable=True, tags=[\"enc_fc1_bias\"])\n",
    "enc_fc2_weight_ptr = sy.lib.python.List(enc_fc2_weight).send(duet, pointable=True, tags=[\"enc_fc2_weight\"])\n",
    "enc_fc2_bias_ptr = enc_fc2_bias.send(duet, pointable=True, tags=[\"enc_fc2_bias\"])\n",
    "enc_fc3_weight_ptr = sy.lib.python.List(enc_fc3_weight).send(duet, pointable=True, tags=[\"enc_fc3_weight\"])\n",
    "enc_fc3_bias_ptr = enc_fc3_bias.send(duet, pointable=True, tags=[\"enc_fc3_bias\"])\n",
    "enc_fc4_weight_ptr = sy.lib.python.List(enc_fc4_weight).send(duet, pointable=True, tags=[\"enc_fc4_weight\"])\n",
    "enc_fc4_bias_ptr = enc_fc4_bias.send(duet, pointable=True, tags=[\"enc_fc4_bias\"])\n",
    "\n",
    "end = time.time()"
   ]
  },
  {
   "cell_type": "code",
   "execution_count": 274,
   "metadata": {},
   "outputs": [
    {
     "name": "stdout",
     "output_type": "stream",
     "text": [
      "Send params time: 8.270519256591797 seconds\n"
     ]
    }
   ],
   "source": [
    "print(f\"Send params time: {float(end - start)} seconds\")"
   ]
  },
  {
   "cell_type": "code",
   "execution_count": 275,
   "metadata": {},
   "outputs": [
    {
     "data": {
      "text/html": [
       "<div>\n",
       "<style scoped>\n",
       "    .dataframe tbody tr th:only-of-type {\n",
       "        vertical-align: middle;\n",
       "    }\n",
       "\n",
       "    .dataframe tbody tr th {\n",
       "        vertical-align: top;\n",
       "    }\n",
       "\n",
       "    .dataframe thead th {\n",
       "        text-align: right;\n",
       "    }\n",
       "</style>\n",
       "<table border=\"1\" class=\"dataframe\">\n",
       "  <thead>\n",
       "    <tr style=\"text-align: right;\">\n",
       "      <th></th>\n",
       "      <th>ID</th>\n",
       "      <th>Tags</th>\n",
       "      <th>Description</th>\n",
       "      <th>object_type</th>\n",
       "    </tr>\n",
       "  </thead>\n",
       "  <tbody>\n",
       "    <tr>\n",
       "      <th>0</th>\n",
       "      <td>&lt;UID: 1017fb12d76d4cf8b5c674b199a8fe2a&gt;</td>\n",
       "      <td>[enc_fc1_weight]</td>\n",
       "      <td></td>\n",
       "      <td>&lt;class 'syft.lib.python.list.List'&gt;</td>\n",
       "    </tr>\n",
       "    <tr>\n",
       "      <th>1</th>\n",
       "      <td>&lt;UID: b3488740da6c46cf9813739ac04898b5&gt;</td>\n",
       "      <td>[enc_fc1_bias]</td>\n",
       "      <td></td>\n",
       "      <td>&lt;class 'tenseal.tensors.ckksvector.CKKSVector'&gt;</td>\n",
       "    </tr>\n",
       "    <tr>\n",
       "      <th>2</th>\n",
       "      <td>&lt;UID: a0a29d7bf139431b87b69a06d68c1763&gt;</td>\n",
       "      <td>[enc_fc2_weight]</td>\n",
       "      <td></td>\n",
       "      <td>&lt;class 'syft.lib.python.list.List'&gt;</td>\n",
       "    </tr>\n",
       "    <tr>\n",
       "      <th>3</th>\n",
       "      <td>&lt;UID: 34c98e7b8ea043af9a0052a02b0e715e&gt;</td>\n",
       "      <td>[enc_fc2_bias]</td>\n",
       "      <td></td>\n",
       "      <td>&lt;class 'tenseal.tensors.ckksvector.CKKSVector'&gt;</td>\n",
       "    </tr>\n",
       "    <tr>\n",
       "      <th>4</th>\n",
       "      <td>&lt;UID: e3633692e50e4402af1e3542038aa241&gt;</td>\n",
       "      <td>[enc_fc3_weight]</td>\n",
       "      <td></td>\n",
       "      <td>&lt;class 'syft.lib.python.list.List'&gt;</td>\n",
       "    </tr>\n",
       "    <tr>\n",
       "      <th>5</th>\n",
       "      <td>&lt;UID: e7eeb74b7bdb46a7acc62e2e80071080&gt;</td>\n",
       "      <td>[enc_fc3_bias]</td>\n",
       "      <td></td>\n",
       "      <td>&lt;class 'tenseal.tensors.ckksvector.CKKSVector'&gt;</td>\n",
       "    </tr>\n",
       "    <tr>\n",
       "      <th>6</th>\n",
       "      <td>&lt;UID: 2246c4c6cf9645e2837a5ad56431f46a&gt;</td>\n",
       "      <td>[enc_fc4_weight]</td>\n",
       "      <td></td>\n",
       "      <td>&lt;class 'syft.lib.python.list.List'&gt;</td>\n",
       "    </tr>\n",
       "    <tr>\n",
       "      <th>7</th>\n",
       "      <td>&lt;UID: dc4623945be24280a4e6c282b4ecab6c&gt;</td>\n",
       "      <td>[enc_fc4_bias]</td>\n",
       "      <td></td>\n",
       "      <td>&lt;class 'tenseal.tensors.ckksvector.CKKSVector'&gt;</td>\n",
       "    </tr>\n",
       "  </tbody>\n",
       "</table>\n",
       "</div>"
      ],
      "text/plain": [
       "                                        ID              Tags Description  \\\n",
       "0  <UID: 1017fb12d76d4cf8b5c674b199a8fe2a>  [enc_fc1_weight]               \n",
       "1  <UID: b3488740da6c46cf9813739ac04898b5>    [enc_fc1_bias]               \n",
       "2  <UID: a0a29d7bf139431b87b69a06d68c1763>  [enc_fc2_weight]               \n",
       "3  <UID: 34c98e7b8ea043af9a0052a02b0e715e>    [enc_fc2_bias]               \n",
       "4  <UID: e3633692e50e4402af1e3542038aa241>  [enc_fc3_weight]               \n",
       "5  <UID: e7eeb74b7bdb46a7acc62e2e80071080>    [enc_fc3_bias]               \n",
       "6  <UID: 2246c4c6cf9645e2837a5ad56431f46a>  [enc_fc4_weight]               \n",
       "7  <UID: dc4623945be24280a4e6c282b4ecab6c>    [enc_fc4_bias]               \n",
       "\n",
       "                                       object_type  \n",
       "0              <class 'syft.lib.python.list.List'>  \n",
       "1  <class 'tenseal.tensors.ckksvector.CKKSVector'>  \n",
       "2              <class 'syft.lib.python.list.List'>  \n",
       "3  <class 'tenseal.tensors.ckksvector.CKKSVector'>  \n",
       "4              <class 'syft.lib.python.list.List'>  \n",
       "5  <class 'tenseal.tensors.ckksvector.CKKSVector'>  \n",
       "6              <class 'syft.lib.python.list.List'>  \n",
       "7  <class 'tenseal.tensors.ckksvector.CKKSVector'>  "
      ]
     },
     "execution_count": 275,
     "metadata": {},
     "output_type": "execute_result"
    }
   ],
   "source": [
    "duet.store.pandas"
   ]
  },
  {
   "cell_type": "markdown",
   "metadata": {},
   "source": [
    "### Checkpoint"
   ]
  },
  {
   "cell_type": "code",
   "execution_count": 276,
   "metadata": {
    "scrolled": false
   },
   "outputs": [
    {
     "data": {
      "text/html": [
       "<div>\n",
       "<style scoped>\n",
       "    .dataframe tbody tr th:only-of-type {\n",
       "        vertical-align: middle;\n",
       "    }\n",
       "\n",
       "    .dataframe tbody tr th {\n",
       "        vertical-align: top;\n",
       "    }\n",
       "\n",
       "    .dataframe thead th {\n",
       "        text-align: right;\n",
       "    }\n",
       "</style>\n",
       "<table border=\"1\" class=\"dataframe\">\n",
       "  <thead>\n",
       "    <tr style=\"text-align: right;\">\n",
       "      <th></th>\n",
       "      <th>Requested Object's tags</th>\n",
       "      <th>Reason</th>\n",
       "      <th>Request ID</th>\n",
       "      <th>Requested Object's ID</th>\n",
       "      <th>Requested Object's type</th>\n",
       "    </tr>\n",
       "  </thead>\n",
       "  <tbody>\n",
       "    <tr>\n",
       "      <th>0</th>\n",
       "      <td>[enc_fc1_weight]</td>\n",
       "      <td>I would like to get the fc1 weight</td>\n",
       "      <td>&lt;UID: 402e8533b32d432ab083de10e43ad833&gt;</td>\n",
       "      <td>&lt;UID: 1017fb12d76d4cf8b5c674b199a8fe2a&gt;</td>\n",
       "      <td>&lt;class 'syft.lib.python.list.List'&gt;</td>\n",
       "    </tr>\n",
       "    <tr>\n",
       "      <th>1</th>\n",
       "      <td>[enc_fc1_bias]</td>\n",
       "      <td>I would like to get the fc1 bias</td>\n",
       "      <td>&lt;UID: 71dcd8abbf504069808944948104352d&gt;</td>\n",
       "      <td>&lt;UID: b3488740da6c46cf9813739ac04898b5&gt;</td>\n",
       "      <td>&lt;class 'tenseal.tensors.ckksvector.CKKSVector'&gt;</td>\n",
       "    </tr>\n",
       "    <tr>\n",
       "      <th>2</th>\n",
       "      <td>[enc_fc2_weight]</td>\n",
       "      <td>I would like to get the fc2 weight</td>\n",
       "      <td>&lt;UID: 8afaf2a0d56641b5b6d9802b2db4cd93&gt;</td>\n",
       "      <td>&lt;UID: a0a29d7bf139431b87b69a06d68c1763&gt;</td>\n",
       "      <td>&lt;class 'syft.lib.python.list.List'&gt;</td>\n",
       "    </tr>\n",
       "    <tr>\n",
       "      <th>3</th>\n",
       "      <td>[enc_fc2_bias]</td>\n",
       "      <td>I would like to get the fc2 bias</td>\n",
       "      <td>&lt;UID: 6c552ec1f91d41128a1a51cc1e0733fe&gt;</td>\n",
       "      <td>&lt;UID: 34c98e7b8ea043af9a0052a02b0e715e&gt;</td>\n",
       "      <td>&lt;class 'tenseal.tensors.ckksvector.CKKSVector'&gt;</td>\n",
       "    </tr>\n",
       "    <tr>\n",
       "      <th>4</th>\n",
       "      <td>[enc_fc3_weight]</td>\n",
       "      <td>I would like to get the fc3 weight</td>\n",
       "      <td>&lt;UID: 3adeb542a1444e9da21afe97e98dc6b2&gt;</td>\n",
       "      <td>&lt;UID: e3633692e50e4402af1e3542038aa241&gt;</td>\n",
       "      <td>&lt;class 'syft.lib.python.list.List'&gt;</td>\n",
       "    </tr>\n",
       "    <tr>\n",
       "      <th>5</th>\n",
       "      <td>[enc_fc3_bias]</td>\n",
       "      <td>I would like to get the fc3 bias</td>\n",
       "      <td>&lt;UID: 3bd2ba7bcfe94415acd8c7b3aa85a310&gt;</td>\n",
       "      <td>&lt;UID: e7eeb74b7bdb46a7acc62e2e80071080&gt;</td>\n",
       "      <td>&lt;class 'tenseal.tensors.ckksvector.CKKSVector'&gt;</td>\n",
       "    </tr>\n",
       "    <tr>\n",
       "      <th>6</th>\n",
       "      <td>[enc_fc4_weight]</td>\n",
       "      <td>I would like to get the fc4 weight</td>\n",
       "      <td>&lt;UID: 9d6c8ccdfa1e4a028d585ab9fa06b0bc&gt;</td>\n",
       "      <td>&lt;UID: 2246c4c6cf9645e2837a5ad56431f46a&gt;</td>\n",
       "      <td>&lt;class 'syft.lib.python.list.List'&gt;</td>\n",
       "    </tr>\n",
       "    <tr>\n",
       "      <th>7</th>\n",
       "      <td>[enc_fc4_bias]</td>\n",
       "      <td>I would like to get the fc4 bias</td>\n",
       "      <td>&lt;UID: 9937c973e348478c9d644368a129581e&gt;</td>\n",
       "      <td>&lt;UID: dc4623945be24280a4e6c282b4ecab6c&gt;</td>\n",
       "      <td>&lt;class 'tenseal.tensors.ckksvector.CKKSVector'&gt;</td>\n",
       "    </tr>\n",
       "  </tbody>\n",
       "</table>\n",
       "</div>"
      ],
      "text/plain": [
       "  Requested Object's tags                              Reason  \\\n",
       "0        [enc_fc1_weight]  I would like to get the fc1 weight   \n",
       "1          [enc_fc1_bias]    I would like to get the fc1 bias   \n",
       "2        [enc_fc2_weight]  I would like to get the fc2 weight   \n",
       "3          [enc_fc2_bias]    I would like to get the fc2 bias   \n",
       "4        [enc_fc3_weight]  I would like to get the fc3 weight   \n",
       "5          [enc_fc3_bias]    I would like to get the fc3 bias   \n",
       "6        [enc_fc4_weight]  I would like to get the fc4 weight   \n",
       "7          [enc_fc4_bias]    I would like to get the fc4 bias   \n",
       "\n",
       "                                Request ID  \\\n",
       "0  <UID: 402e8533b32d432ab083de10e43ad833>   \n",
       "1  <UID: 71dcd8abbf504069808944948104352d>   \n",
       "2  <UID: 8afaf2a0d56641b5b6d9802b2db4cd93>   \n",
       "3  <UID: 6c552ec1f91d41128a1a51cc1e0733fe>   \n",
       "4  <UID: 3adeb542a1444e9da21afe97e98dc6b2>   \n",
       "5  <UID: 3bd2ba7bcfe94415acd8c7b3aa85a310>   \n",
       "6  <UID: 9d6c8ccdfa1e4a028d585ab9fa06b0bc>   \n",
       "7  <UID: 9937c973e348478c9d644368a129581e>   \n",
       "\n",
       "                     Requested Object's ID  \\\n",
       "0  <UID: 1017fb12d76d4cf8b5c674b199a8fe2a>   \n",
       "1  <UID: b3488740da6c46cf9813739ac04898b5>   \n",
       "2  <UID: a0a29d7bf139431b87b69a06d68c1763>   \n",
       "3  <UID: 34c98e7b8ea043af9a0052a02b0e715e>   \n",
       "4  <UID: e3633692e50e4402af1e3542038aa241>   \n",
       "5  <UID: e7eeb74b7bdb46a7acc62e2e80071080>   \n",
       "6  <UID: 2246c4c6cf9645e2837a5ad56431f46a>   \n",
       "7  <UID: dc4623945be24280a4e6c282b4ecab6c>   \n",
       "\n",
       "                           Requested Object's type  \n",
       "0              <class 'syft.lib.python.list.List'>  \n",
       "1  <class 'tenseal.tensors.ckksvector.CKKSVector'>  \n",
       "2              <class 'syft.lib.python.list.List'>  \n",
       "3  <class 'tenseal.tensors.ckksvector.CKKSVector'>  \n",
       "4              <class 'syft.lib.python.list.List'>  \n",
       "5  <class 'tenseal.tensors.ckksvector.CKKSVector'>  \n",
       "6              <class 'syft.lib.python.list.List'>  \n",
       "7  <class 'tenseal.tensors.ckksvector.CKKSVector'>  "
      ]
     },
     "execution_count": 276,
     "metadata": {},
     "output_type": "execute_result"
    }
   ],
   "source": [
    "duet.requests.pandas"
   ]
  },
  {
   "cell_type": "code",
   "execution_count": 277,
   "metadata": {},
   "outputs": [],
   "source": [
    "duet.requests[0].accept()\n",
    "duet.requests[0].accept()\n",
    "duet.requests[0].accept()\n",
    "duet.requests[0].accept()\n",
    "duet.requests[0].accept()\n",
    "duet.requests[0].accept()\n",
    "duet.requests[0].accept()\n",
    "duet.requests[0].accept()"
   ]
  },
  {
   "cell_type": "markdown",
   "metadata": {},
   "source": [
    "### Checkpoint 2"
   ]
  },
  {
   "cell_type": "code",
   "execution_count": 278,
   "metadata": {
    "scrolled": true
   },
   "outputs": [
    {
     "data": {
      "text/html": [
       "<div>\n",
       "<style scoped>\n",
       "    .dataframe tbody tr th:only-of-type {\n",
       "        vertical-align: middle;\n",
       "    }\n",
       "\n",
       "    .dataframe tbody tr th {\n",
       "        vertical-align: top;\n",
       "    }\n",
       "\n",
       "    .dataframe thead th {\n",
       "        text-align: right;\n",
       "    }\n",
       "</style>\n",
       "<table border=\"1\" class=\"dataframe\">\n",
       "  <thead>\n",
       "    <tr style=\"text-align: right;\">\n",
       "      <th></th>\n",
       "      <th>ID</th>\n",
       "      <th>Tags</th>\n",
       "      <th>Description</th>\n",
       "      <th>object_type</th>\n",
       "    </tr>\n",
       "  </thead>\n",
       "  <tbody>\n",
       "    <tr>\n",
       "      <th>0</th>\n",
       "      <td>&lt;UID: 31be32d6b39949d0b98db7b229633aab&gt;</td>\n",
       "      <td>[global_fc1_weight]</td>\n",
       "      <td></td>\n",
       "      <td>&lt;class 'syft.lib.python.list.List'&gt;</td>\n",
       "    </tr>\n",
       "    <tr>\n",
       "      <th>1</th>\n",
       "      <td>&lt;UID: de5f9c3d4ac24c1a92a5e015a47e7c1c&gt;</td>\n",
       "      <td>[global_fc1_bias]</td>\n",
       "      <td></td>\n",
       "      <td>&lt;class 'tenseal.tensors.ckksvector.CKKSVector'&gt;</td>\n",
       "    </tr>\n",
       "    <tr>\n",
       "      <th>2</th>\n",
       "      <td>&lt;UID: dd2f7575bf20406f9f5d1290b31e99e7&gt;</td>\n",
       "      <td>[global_fc2_weight]</td>\n",
       "      <td></td>\n",
       "      <td>&lt;class 'syft.lib.python.list.List'&gt;</td>\n",
       "    </tr>\n",
       "    <tr>\n",
       "      <th>3</th>\n",
       "      <td>&lt;UID: cbcb25786613445ebee7a147b832d720&gt;</td>\n",
       "      <td>[global_fc2_bias]</td>\n",
       "      <td></td>\n",
       "      <td>&lt;class 'tenseal.tensors.ckksvector.CKKSVector'&gt;</td>\n",
       "    </tr>\n",
       "    <tr>\n",
       "      <th>4</th>\n",
       "      <td>&lt;UID: 476bc135458b4beea3c50c115ceaa494&gt;</td>\n",
       "      <td>[global_fc3_weight]</td>\n",
       "      <td></td>\n",
       "      <td>&lt;class 'syft.lib.python.list.List'&gt;</td>\n",
       "    </tr>\n",
       "    <tr>\n",
       "      <th>5</th>\n",
       "      <td>&lt;UID: a6a0e4018b934b3ca5d05349d6b0c689&gt;</td>\n",
       "      <td>[global_fc3_bias]</td>\n",
       "      <td></td>\n",
       "      <td>&lt;class 'tenseal.tensors.ckksvector.CKKSVector'&gt;</td>\n",
       "    </tr>\n",
       "    <tr>\n",
       "      <th>6</th>\n",
       "      <td>&lt;UID: c4647f3636974d65adaffebf0b1e0668&gt;</td>\n",
       "      <td>[global_fc4_weight]</td>\n",
       "      <td></td>\n",
       "      <td>&lt;class 'syft.lib.python.list.List'&gt;</td>\n",
       "    </tr>\n",
       "    <tr>\n",
       "      <th>7</th>\n",
       "      <td>&lt;UID: 8b86ec1e8e044786ad5d69905bcf91fc&gt;</td>\n",
       "      <td>[global_fc4_bias]</td>\n",
       "      <td></td>\n",
       "      <td>&lt;class 'tenseal.tensors.ckksvector.CKKSVector'&gt;</td>\n",
       "    </tr>\n",
       "  </tbody>\n",
       "</table>\n",
       "</div>"
      ],
      "text/plain": [
       "                                        ID                 Tags Description  \\\n",
       "0  <UID: 31be32d6b39949d0b98db7b229633aab>  [global_fc1_weight]               \n",
       "1  <UID: de5f9c3d4ac24c1a92a5e015a47e7c1c>    [global_fc1_bias]               \n",
       "2  <UID: dd2f7575bf20406f9f5d1290b31e99e7>  [global_fc2_weight]               \n",
       "3  <UID: cbcb25786613445ebee7a147b832d720>    [global_fc2_bias]               \n",
       "4  <UID: 476bc135458b4beea3c50c115ceaa494>  [global_fc3_weight]               \n",
       "5  <UID: a6a0e4018b934b3ca5d05349d6b0c689>    [global_fc3_bias]               \n",
       "6  <UID: c4647f3636974d65adaffebf0b1e0668>  [global_fc4_weight]               \n",
       "7  <UID: 8b86ec1e8e044786ad5d69905bcf91fc>    [global_fc4_bias]               \n",
       "\n",
       "                                       object_type  \n",
       "0              <class 'syft.lib.python.list.List'>  \n",
       "1  <class 'tenseal.tensors.ckksvector.CKKSVector'>  \n",
       "2              <class 'syft.lib.python.list.List'>  \n",
       "3  <class 'tenseal.tensors.ckksvector.CKKSVector'>  \n",
       "4              <class 'syft.lib.python.list.List'>  \n",
       "5  <class 'tenseal.tensors.ckksvector.CKKSVector'>  \n",
       "6              <class 'syft.lib.python.list.List'>  \n",
       "7  <class 'tenseal.tensors.ckksvector.CKKSVector'>  "
      ]
     },
     "execution_count": 278,
     "metadata": {},
     "output_type": "execute_result"
    }
   ],
   "source": [
    "duet.store.pandas"
   ]
  },
  {
   "cell_type": "code",
   "execution_count": 279,
   "metadata": {},
   "outputs": [
    {
     "name": "stdout",
     "output_type": "stream",
     "text": [
      "\r",
      "♫♫♫ > DUET LIVE STATUS  *  Objects: 0  Requests: 0   Messages: 77  Request Handlers: 0                                \r"
     ]
    }
   ],
   "source": [
    "start = time.time()\n",
    "\n",
    "updated_fc1_weight = duet.store[\"global_fc1_weight\"].get()\n",
    "updated_fc1_bias = duet.store[\"global_fc1_bias\"].get()\n",
    "updated_fc2_weight = duet.store[\"global_fc2_weight\"].get()\n",
    "updated_fc2_bias = duet.store[\"global_fc2_bias\"].get()\n",
    "updated_fc3_weight = duet.store[\"global_fc3_weight\"].get()\n",
    "updated_fc3_bias = duet.store[\"global_fc3_bias\"].get()\n",
    "updated_fc4_weight = duet.store[\"global_fc4_weight\"].get()\n",
    "updated_fc4_bias = duet.store[\"global_fc4_bias\"].get()\n",
    "\n",
    "end = time.time()"
   ]
  },
  {
   "cell_type": "code",
   "execution_count": 280,
   "metadata": {
    "scrolled": true
   },
   "outputs": [
    {
     "name": "stdout",
     "output_type": "stream",
     "text": [
      "Get time: 3.0257444381713867 seconds\n"
     ]
    }
   ],
   "source": [
    "print(f\"Get time: {float(end - start)} seconds\")"
   ]
  },
  {
   "cell_type": "code",
   "execution_count": 281,
   "metadata": {},
   "outputs": [],
   "source": [
    "start = time.time()\n",
    "\n",
    "new_fc1_weight = [[] for i in range(128)]\n",
    "new_fc2_weight = [[] for i in range(64)]\n",
    "new_fc3_weight = [[] for i in range(32)]\n",
    "new_fc4_weight = [[] for i in range(10)]\n",
    "\n",
    "for i in range(len(updated_fc1_weight)):\n",
    "    updated_fc1_weight[i].link_context(ctx)\n",
    "    x = updated_fc1_weight[i].decrypt(sk)\n",
    "    new_fc1_weight[i] = x\n",
    "updated_fc1_bias.link_context(ctx)\n",
    "new_fc1_bias = updated_fc1_bias.decrypt(sk)\n",
    "\n",
    "for i in range(len(updated_fc2_weight)):\n",
    "    updated_fc2_weight[i].link_context(ctx)\n",
    "    x = updated_fc2_weight[i].decrypt(sk)\n",
    "    new_fc2_weight[i] = x\n",
    "updated_fc2_bias.link_context(ctx)\n",
    "new_fc2_bias = updated_fc2_bias.decrypt(sk)\n",
    "\n",
    "for i in range(len(updated_fc3_weight)):\n",
    "    updated_fc3_weight[i].link_context(ctx)\n",
    "    x = updated_fc3_weight[i].decrypt(sk)\n",
    "    new_fc3_weight[i] = x\n",
    "updated_fc3_bias.link_context(ctx)\n",
    "new_fc3_bias = updated_fc3_bias.decrypt(sk)\n",
    "\n",
    "for i in range(len(updated_fc4_weight)):\n",
    "    updated_fc4_weight[i].link_context(ctx)\n",
    "    x = updated_fc4_weight[i].decrypt(sk)\n",
    "    new_fc4_weight[i] = x\n",
    "updated_fc4_bias.link_context(ctx)\n",
    "new_fc4_bias = updated_fc4_bias.decrypt(sk)\n",
    "\n",
    "end = time.time()"
   ]
  },
  {
   "cell_type": "code",
   "execution_count": 282,
   "metadata": {},
   "outputs": [
    {
     "name": "stdout",
     "output_type": "stream",
     "text": [
      "Decrypted time: 2.2767202854156494 seconds\n"
     ]
    }
   ],
   "source": [
    "print(f\"Decrypted time: {float(end - start)} seconds\")"
   ]
  },
  {
   "cell_type": "code",
   "execution_count": 283,
   "metadata": {},
   "outputs": [],
   "source": [
    "start = time.time()\n",
    "\n",
    "avg_updates = OrderedDict()\n",
    "avg_updates[\"fc1.weight\"] = torch.Tensor(new_fc1_weight)\n",
    "avg_updates[\"fc1.bias\"] = torch.Tensor(new_fc1_bias)\n",
    "avg_updates[\"fc2.weight\"] = torch.Tensor(new_fc2_weight)\n",
    "avg_updates[\"fc2.bias\"] = torch.Tensor(new_fc2_bias)\n",
    "avg_updates[\"fc3.weight\"] = torch.Tensor(new_fc3_weight)\n",
    "avg_updates[\"fc3.bias\"] = torch.Tensor(new_fc3_bias)\n",
    "avg_updates[\"fc4.weight\"] = torch.Tensor(new_fc4_weight)\n",
    "avg_updates[\"fc4.bias\"] = torch.Tensor(new_fc4_bias)\n",
    "\n",
    "end = time.time()"
   ]
  },
  {
   "cell_type": "code",
   "execution_count": 284,
   "metadata": {},
   "outputs": [
    {
     "name": "stdout",
     "output_type": "stream",
     "text": [
      "Create params time: 0.0060002803802490234 seconds\n"
     ]
    },
    {
     "name": "stderr",
     "output_type": "stream",
     "text": [
      "Exception in callback Transaction.__retry()\n",
      "handle: <TimerHandle when=254002.531 Transaction.__retry()>\n",
      "Traceback (most recent call last):\n",
      "  File \"C:\\Users\\dells\\anaconda3\\lib\\asyncio\\events.py\", line 81, in _run\n",
      "    self._context.run(self._callback, *self._args)\n",
      "  File \"C:\\Users\\dells\\anaconda3\\lib\\site-packages\\aioice\\stun.py\", line 306, in __retry\n",
      "    self.__future.set_exception(TransactionTimeout())\n",
      "  File \"C:\\Users\\dells\\anaconda3\\lib\\asyncio\\futures.py\", line 246, in set_exception\n",
      "    raise exceptions.InvalidStateError(f'{self._state}: {self!r}')\n",
      "asyncio.exceptions.InvalidStateError: FINISHED: <Future finished result=(Message(messa...by43\\xda\\xf3'), ('192.168.2.1', 62392))>\n"
     ]
    }
   ],
   "source": [
    "print(f\"Create params time: {float(end - start)} seconds\")"
   ]
  },
  {
   "cell_type": "code",
   "execution_count": 285,
   "metadata": {
    "scrolled": true
   },
   "outputs": [],
   "source": [
    "start = time.time()\n",
    "\n",
    "model.load_state_dict(avg_updates)\n",
    "\n",
    "end = time.time()"
   ]
  },
  {
   "cell_type": "code",
   "execution_count": 286,
   "metadata": {},
   "outputs": [
    {
     "name": "stdout",
     "output_type": "stream",
     "text": [
      "Update time: 0.002002716064453125 seconds\n"
     ]
    }
   ],
   "source": [
    "print(f\"Update time: {float(end - start)} seconds\")"
   ]
  },
  {
   "cell_type": "code",
   "execution_count": 287,
   "metadata": {},
   "outputs": [
    {
     "data": {
      "text/plain": [
       "(0.12774522229228394, 4946, 98.93978795759152)"
      ]
     },
     "execution_count": 287,
     "metadata": {},
     "output_type": "execute_result"
    }
   ],
   "source": [
    "test(model, device, test_loader)"
   ]
  }
 ],
 "metadata": {
  "kernelspec": {
   "display_name": "Python 3",
   "language": "python",
   "name": "python3"
  },
  "language_info": {
   "codemirror_mode": {
    "name": "ipython",
    "version": 3
   },
   "file_extension": ".py",
   "mimetype": "text/x-python",
   "name": "python",
   "nbconvert_exporter": "python",
   "pygments_lexer": "ipython3",
   "version": "3.8.5"
  }
 },
 "nbformat": 4,
 "nbformat_minor": 4
}
